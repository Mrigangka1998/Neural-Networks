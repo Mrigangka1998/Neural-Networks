{
 "cells": [
  {
   "cell_type": "markdown",
   "metadata": {
    "id": "P_peVmuS_guZ"
   },
   "source": [
    "## Keras: A high level neural network library\n",
    "\n",
    "In this exercise we will revisit classification using simple neural networks. To do so we will use Keras, a popular neural network package. Keras is a high level library that allows rapid prototyping of neural networks due to its precompiled layers, just as Scikit-learn contains a number of prebuilt classifiers.\n"
   ]
  },
  {
   "cell_type": "markdown",
   "metadata": {
    "id": "1c3g71Ke_guZ"
   },
   "source": [
    "## Keras\n",
    "\n",
    "Detailed instructions can be found at https://keras.io.\n"
   ]
  },
  {
   "cell_type": "markdown",
   "metadata": {
    "id": "-QvnyQHg_guZ"
   },
   "source": [
    "To start the demo, we have a 2D dataset so we can visualize what the network is doing."
   ]
  },
  {
   "cell_type": "markdown",
   "metadata": {
    "id": "MqReWzn1_guZ"
   },
   "source": [
    "Neural networks are so popular now due to their ability to quickly learn nonlinear boundaries. So, we have an example that would be impossible for a linear classifier and demonstrate how a neural network can be used to solve this. As you can see, in the dataset below there is no straight line that you can draw that perfectly separates the red and blue classes"
   ]
  },
  {
   "cell_type": "code",
   "execution_count": null,
   "metadata": {
    "colab": {
     "base_uri": "https://localhost:8080/",
     "height": 74
    },
    "id": "EeTd5EzMe_fM",
    "outputId": "c8ea89d9-8b42-4e9f-9cb1-4d8451d0e7e4"
   },
   "outputs": [
    {
     "data": {
      "text/html": [
       "\n",
       "     <input type=\"file\" id=\"files-b2a68257-c59e-4e4a-a053-dbe5a5110e99\" name=\"files[]\" multiple disabled\n",
       "        style=\"border:none\" />\n",
       "     <output id=\"result-b2a68257-c59e-4e4a-a053-dbe5a5110e99\">\n",
       "      Upload widget is only available when the cell has been executed in the\n",
       "      current browser session. Please rerun this cell to enable.\n",
       "      </output>\n",
       "      <script>// Copyright 2017 Google LLC\n",
       "//\n",
       "// Licensed under the Apache License, Version 2.0 (the \"License\");\n",
       "// you may not use this file except in compliance with the License.\n",
       "// You may obtain a copy of the License at\n",
       "//\n",
       "//      http://www.apache.org/licenses/LICENSE-2.0\n",
       "//\n",
       "// Unless required by applicable law or agreed to in writing, software\n",
       "// distributed under the License is distributed on an \"AS IS\" BASIS,\n",
       "// WITHOUT WARRANTIES OR CONDITIONS OF ANY KIND, either express or implied.\n",
       "// See the License for the specific language governing permissions and\n",
       "// limitations under the License.\n",
       "\n",
       "/**\n",
       " * @fileoverview Helpers for google.colab Python module.\n",
       " */\n",
       "(function(scope) {\n",
       "function span(text, styleAttributes = {}) {\n",
       "  const element = document.createElement('span');\n",
       "  element.textContent = text;\n",
       "  for (const key of Object.keys(styleAttributes)) {\n",
       "    element.style[key] = styleAttributes[key];\n",
       "  }\n",
       "  return element;\n",
       "}\n",
       "\n",
       "// Max number of bytes which will be uploaded at a time.\n",
       "const MAX_PAYLOAD_SIZE = 100 * 1024;\n",
       "\n",
       "function _uploadFiles(inputId, outputId) {\n",
       "  const steps = uploadFilesStep(inputId, outputId);\n",
       "  const outputElement = document.getElementById(outputId);\n",
       "  // Cache steps on the outputElement to make it available for the next call\n",
       "  // to uploadFilesContinue from Python.\n",
       "  outputElement.steps = steps;\n",
       "\n",
       "  return _uploadFilesContinue(outputId);\n",
       "}\n",
       "\n",
       "// This is roughly an async generator (not supported in the browser yet),\n",
       "// where there are multiple asynchronous steps and the Python side is going\n",
       "// to poll for completion of each step.\n",
       "// This uses a Promise to block the python side on completion of each step,\n",
       "// then passes the result of the previous step as the input to the next step.\n",
       "function _uploadFilesContinue(outputId) {\n",
       "  const outputElement = document.getElementById(outputId);\n",
       "  const steps = outputElement.steps;\n",
       "\n",
       "  const next = steps.next(outputElement.lastPromiseValue);\n",
       "  return Promise.resolve(next.value.promise).then((value) => {\n",
       "    // Cache the last promise value to make it available to the next\n",
       "    // step of the generator.\n",
       "    outputElement.lastPromiseValue = value;\n",
       "    return next.value.response;\n",
       "  });\n",
       "}\n",
       "\n",
       "/**\n",
       " * Generator function which is called between each async step of the upload\n",
       " * process.\n",
       " * @param {string} inputId Element ID of the input file picker element.\n",
       " * @param {string} outputId Element ID of the output display.\n",
       " * @return {!Iterable<!Object>} Iterable of next steps.\n",
       " */\n",
       "function* uploadFilesStep(inputId, outputId) {\n",
       "  const inputElement = document.getElementById(inputId);\n",
       "  inputElement.disabled = false;\n",
       "\n",
       "  const outputElement = document.getElementById(outputId);\n",
       "  outputElement.innerHTML = '';\n",
       "\n",
       "  const pickedPromise = new Promise((resolve) => {\n",
       "    inputElement.addEventListener('change', (e) => {\n",
       "      resolve(e.target.files);\n",
       "    });\n",
       "  });\n",
       "\n",
       "  const cancel = document.createElement('button');\n",
       "  inputElement.parentElement.appendChild(cancel);\n",
       "  cancel.textContent = 'Cancel upload';\n",
       "  const cancelPromise = new Promise((resolve) => {\n",
       "    cancel.onclick = () => {\n",
       "      resolve(null);\n",
       "    };\n",
       "  });\n",
       "\n",
       "  // Wait for the user to pick the files.\n",
       "  const files = yield {\n",
       "    promise: Promise.race([pickedPromise, cancelPromise]),\n",
       "    response: {\n",
       "      action: 'starting',\n",
       "    }\n",
       "  };\n",
       "\n",
       "  cancel.remove();\n",
       "\n",
       "  // Disable the input element since further picks are not allowed.\n",
       "  inputElement.disabled = true;\n",
       "\n",
       "  if (!files) {\n",
       "    return {\n",
       "      response: {\n",
       "        action: 'complete',\n",
       "      }\n",
       "    };\n",
       "  }\n",
       "\n",
       "  for (const file of files) {\n",
       "    const li = document.createElement('li');\n",
       "    li.append(span(file.name, {fontWeight: 'bold'}));\n",
       "    li.append(span(\n",
       "        `(${file.type || 'n/a'}) - ${file.size} bytes, ` +\n",
       "        `last modified: ${\n",
       "            file.lastModifiedDate ? file.lastModifiedDate.toLocaleDateString() :\n",
       "                                    'n/a'} - `));\n",
       "    const percent = span('0% done');\n",
       "    li.appendChild(percent);\n",
       "\n",
       "    outputElement.appendChild(li);\n",
       "\n",
       "    const fileDataPromise = new Promise((resolve) => {\n",
       "      const reader = new FileReader();\n",
       "      reader.onload = (e) => {\n",
       "        resolve(e.target.result);\n",
       "      };\n",
       "      reader.readAsArrayBuffer(file);\n",
       "    });\n",
       "    // Wait for the data to be ready.\n",
       "    let fileData = yield {\n",
       "      promise: fileDataPromise,\n",
       "      response: {\n",
       "        action: 'continue',\n",
       "      }\n",
       "    };\n",
       "\n",
       "    // Use a chunked sending to avoid message size limits. See b/62115660.\n",
       "    let position = 0;\n",
       "    do {\n",
       "      const length = Math.min(fileData.byteLength - position, MAX_PAYLOAD_SIZE);\n",
       "      const chunk = new Uint8Array(fileData, position, length);\n",
       "      position += length;\n",
       "\n",
       "      const base64 = btoa(String.fromCharCode.apply(null, chunk));\n",
       "      yield {\n",
       "        response: {\n",
       "          action: 'append',\n",
       "          file: file.name,\n",
       "          data: base64,\n",
       "        },\n",
       "      };\n",
       "\n",
       "      let percentDone = fileData.byteLength === 0 ?\n",
       "          100 :\n",
       "          Math.round((position / fileData.byteLength) * 100);\n",
       "      percent.textContent = `${percentDone}% done`;\n",
       "\n",
       "    } while (position < fileData.byteLength);\n",
       "  }\n",
       "\n",
       "  // All done.\n",
       "  yield {\n",
       "    response: {\n",
       "      action: 'complete',\n",
       "    }\n",
       "  };\n",
       "}\n",
       "\n",
       "scope.google = scope.google || {};\n",
       "scope.google.colab = scope.google.colab || {};\n",
       "scope.google.colab._files = {\n",
       "  _uploadFiles,\n",
       "  _uploadFilesContinue,\n",
       "};\n",
       "})(self);\n",
       "</script> "
      ],
      "text/plain": [
       "<IPython.core.display.HTML object>"
      ]
     },
     "metadata": {},
     "output_type": "display_data"
    },
    {
     "name": "stdout",
     "output_type": "stream",
     "text": [
      "Saving utils.py to utils (1).py\n"
     ]
    }
   ],
   "source": [
    "from google.colab import files\n",
    "src = list(files.upload().values())[0]\n",
    "open('utils.py','wb').write(src)\n",
    "import utils"
   ]
  },
  {
   "cell_type": "code",
   "execution_count": null,
   "metadata": {
    "colab": {
     "base_uri": "https://localhost:8080/",
     "height": 487
    },
    "id": "pl3znvIx_guZ",
    "outputId": "cc32b848-bf2e-4257-9474-3609bf3931e1"
   },
   "outputs": [
    {
     "data": {
      "image/png": "[encoded data removed]",
      "text/plain": [
       "<Figure size 640x480 with 1 Axes>"
      ]
     },
     "metadata": {},
     "output_type": "display_data"
    }
   ],
   "source": [
    "import matplotlib.pyplot as plt\n",
    "from sklearn.datasets import make_circles\n",
    "import numpy as np\n",
    "\n",
    "# Generate a non-linearly separable dataset\n",
    "X, y = make_circles(n_samples=300, factor=0.5, noise=0.05, random_state=42)\n",
    "\n",
    "# Function to get consistent colors for plotting\n",
    "def get_colors(y):\n",
    "    # Map unique labels to colors\n",
    "    unique_labels = np.unique(y)\n",
    "    colors = plt.cm.rainbow(np.linspace(0, 1, len(unique_labels)))\n",
    "    color_map = {label: color for label, color in zip(unique_labels, colors)}\n",
    "    return [color_map[label] for label in y]\n",
    "\n",
    "cmap = get_colors(y)\n",
    "\n",
    "# Plotting\n",
    "plt.scatter(X[:, 0], X[:, 1], c=cmap)\n",
    "plt.title(\"Non-linearly Separable 2D Dataset\")\n",
    "plt.xlabel(\"Feature 1\")\n",
    "plt.ylabel(\"Feature 2\")\n",
    "plt.tight_layout()\n",
    "plt.show()"
   ]
  },
  {
   "cell_type": "markdown",
   "metadata": {
    "id": "_QvnmMs1_gua"
   },
   "source": [
    "Let's split it into a training and testing set"
   ]
  },
  {
   "cell_type": "code",
   "execution_count": null,
   "metadata": {
    "id": "IXG3HvEd_gua"
   },
   "outputs": [],
   "source": [
    "from sklearn.model_selection import train_test_split\n",
    "\n",
    "X_train, X_test, y_train, y_test = train_test_split(X, y, test_size=.2, random_state=10)"
   ]
  },
  {
   "cell_type": "markdown",
   "metadata": {
    "id": "nScv-AKn_gua"
   },
   "source": [
    "We will build a Perceptron using Keras as an example-- Recall that a perceptron is a 0 hidden layer neural network with a single output unit. In Keras terms, it's a single Dense layer with 1 unit.\n",
    "\n",
    "We will build this perceptron with a sigmoidal output (so it outputs a probability of class 1) and the binary_crossentropy loss function (which corresponds to sigmoid)."
   ]
  },
  {
   "cell_type": "code",
   "execution_count": null,
   "metadata": {
    "id": "CHaYpfBx_gua"
   },
   "outputs": [],
   "source": [
    "# Relevant imports\n",
    "from keras.models import Sequential\n",
    "# Keras refers to an architecture in which the outputs of\n",
    "# one layer are the inputs to the next as \"Sequential\"\n",
    "from keras.layers import Dense\n",
    "# Everything we've talked about in class so far is referred to in\n",
    "# Keras as a \"dense\" connection between layers, where every input\n",
    "# unit connects to a unit in the next layer\n",
    "from tensorflow.keras.optimizers.legacy import SGD\n",
    "# SGD is the learning algorithm we will use"
   ]
  },
  {
   "cell_type": "markdown",
   "metadata": {
    "id": "ZzB0NzcT_gua"
   },
   "source": [
    "# Exercise 1:"
   ]
  },
  {
   "cell_type": "markdown",
   "metadata": {
    "id": "5LKr9HK7hteo"
   },
   "source": [
    "Q1. Let's first create neural network with 1 layer\n",
    "\n",
    "To add a layer to the architecture, you would simply use .add(LAYER).\n",
    "\n",
    "Each \"input_dim\" of each layer should be the number units in the previous layer (in this case the input), and the number of \"units\" should be the number of outputs of the layer (in this case it will be 1)."
   ]
  },
  {
   "cell_type": "code",
   "execution_count": null,
   "metadata": {
    "colab": {
     "base_uri": "https://localhost:8080/"
    },
    "id": "5YPE3mSQ1qbg",
    "outputId": "832b5be6-df9c-4754-9121-6f159556c547"
   },
   "outputs": [
    {
     "data": {
      "text/plain": [
       "(240, 2)"
      ]
     },
     "execution_count": 120,
     "metadata": {},
     "output_type": "execute_result"
    }
   ],
   "source": [
    "X_train.shape # Checking shape of training data"
   ]
  },
  {
   "cell_type": "code",
   "execution_count": null,
   "metadata": {
    "id": "kYqYNFrP_gua"
   },
   "outputs": [],
   "source": [
    "### YOUR CODE HERE ###\n",
    "model = Sequential()\n",
    "model.add(Dense(units=1, input_dim=2, activation='sigmoid'))"
   ]
  },
  {
   "cell_type": "markdown",
   "metadata": {
    "id": "cSX2bBrC_gua"
   },
   "source": [
    "Now we specify how to optimize the neural network. We mentioned gradient descent and stochastic gradient descent in class. Let's use the latter here and compile the model. We also specify the loss function as \"binary_crossentropy\"."
   ]
  },
  {
   "cell_type": "code",
   "execution_count": null,
   "metadata": {
    "id": "xP3evo0F_gua"
   },
   "outputs": [],
   "source": [
    "sgd = SGD(learning_rate=0.001, decay=1e-7, momentum=.9)  # Stochastic gradient descent\n",
    "model.compile(loss=\"binary_crossentropy\", optimizer=sgd)\n"
   ]
  },
  {
   "cell_type": "markdown",
   "metadata": {
    "id": "0C2FWqEDY2ZK"
   },
   "source": [
    "Q2. Now we train the built perceptron with appropriate epochs and batch_size."
   ]
  },
  {
   "cell_type": "code",
   "execution_count": null,
   "metadata": {
    "colab": {
     "base_uri": "https://localhost:8080/"
    },
    "id": "fYKvumEB_gua",
    "outputId": "1ac1ce23-ed1f-4960-f7f7-670d51aa1f87",
    "scrolled": true
   },
   "outputs": [
    {
     "name": "stdout",
     "output_type": "stream",
     "text": [
      "Epoch 1/300\n",
      "15/15 [==============================] - 0s 2ms/step - loss: 0.7520\n",
      "Epoch 2/300\n",
      "15/15 [==============================] - 0s 2ms/step - loss: 0.7510\n",
      "Epoch 3/300\n",
      "15/15 [==============================] - 0s 2ms/step - loss: 0.7498\n",
      "Epoch 4/300\n",
      "15/15 [==============================] - 0s 2ms/step - loss: 0.7485\n",
      "Epoch 5/300\n",
      "15/15 [==============================] - 0s 2ms/step - loss: 0.7471\n",
      "Epoch 6/300\n",
      "15/15 [==============================] - 0s 2ms/step - loss: 0.7462\n",
      "Epoch 7/300\n",
      "15/15 [==============================] - 0s 2ms/step - loss: 0.7447\n",
      "Epoch 8/300\n",
      "15/15 [==============================] - 0s 2ms/step - loss: 0.7436\n",
      "Epoch 9/300\n",
      "15/15 [==============================] - 0s 2ms/step - loss: 0.7423\n",
      "Epoch 10/300\n",
      "15/15 [==============================] - 0s 2ms/step - loss: 0.7411\n",
      "Epoch 11/300\n",
      "15/15 [==============================] - 0s 2ms/step - loss: 0.7401\n",
      "Epoch 12/300\n",
      "15/15 [==============================] - 0s 3ms/step - loss: 0.7389\n",
      "Epoch 13/300\n",
      "15/15 [==============================] - 0s 2ms/step - loss: 0.7377\n",
      "Epoch 14/300\n",
      "15/15 [==============================] - 0s 2ms/step - loss: 0.7368\n",
      "Epoch 15/300\n",
      "15/15 [==============================] - 0s 2ms/step - loss: 0.7358\n",
      "Epoch 16/300\n",
      "15/15 [==============================] - 0s 2ms/step - loss: 0.7346\n",
      "Epoch 17/300\n",
      "15/15 [==============================] - 0s 2ms/step - loss: 0.7337\n",
      "Epoch 18/300\n",
      "15/15 [==============================] - 0s 2ms/step - loss: 0.7327\n",
      "Epoch 19/300\n",
      "15/15 [==============================] - 0s 2ms/step - loss: 0.7317\n",
      "Epoch 20/300\n",
      "15/15 [==============================] - 0s 2ms/step - loss: 0.7308\n",
      "Epoch 21/300\n",
      "15/15 [==============================] - 0s 2ms/step - loss: 0.7300\n",
      "Epoch 22/300\n",
      "15/15 [==============================] - 0s 2ms/step - loss: 0.7290\n",
      "Epoch 23/300\n",
      "15/15 [==============================] - 0s 2ms/step - loss: 0.7282\n",
      "Epoch 24/300\n",
      "15/15 [==============================] - 0s 2ms/step - loss: 0.7273\n",
      "Epoch 25/300\n",
      "15/15 [==============================] - 0s 2ms/step - loss: 0.7264\n",
      "Epoch 26/300\n",
      "15/15 [==============================] - 0s 3ms/step - loss: 0.7256\n",
      "Epoch 27/300\n",
      "15/15 [==============================] - 0s 3ms/step - loss: 0.7249\n",
      "Epoch 28/300\n",
      "15/15 [==============================] - 0s 3ms/step - loss: 0.7240\n",
      "Epoch 29/300\n",
      "15/15 [==============================] - 0s 3ms/step - loss: 0.7233\n",
      "Epoch 30/300\n",
      "15/15 [==============================] - 0s 3ms/step - loss: 0.7225\n",
      "Epoch 31/300\n",
      "15/15 [==============================] - 0s 3ms/step - loss: 0.7217\n",
      "Epoch 32/300\n",
      "15/15 [==============================] - 0s 3ms/step - loss: 0.7210\n",
      "Epoch 33/300\n",
      "15/15 [==============================] - 0s 3ms/step - loss: 0.7204\n",
      "Epoch 34/300\n",
      "15/15 [==============================] - 0s 3ms/step - loss: 0.7196\n",
      "Epoch 35/300\n",
      "15/15 [==============================] - 0s 3ms/step - loss: 0.7190\n",
      "Epoch 36/300\n",
      "15/15 [==============================] - 0s 3ms/step - loss: 0.7184\n",
      "Epoch 37/300\n",
      "15/15 [==============================] - 0s 3ms/step - loss: 0.7176\n",
      "Epoch 38/300\n",
      "15/15 [==============================] - 0s 2ms/step - loss: 0.7172\n",
      "Epoch 39/300\n",
      "15/15 [==============================] - 0s 2ms/step - loss: 0.7164\n",
      "Epoch 40/300\n",
      "15/15 [==============================] - 0s 2ms/step - loss: 0.7158\n",
      "Epoch 41/300\n",
      "15/15 [==============================] - 0s 2ms/step - loss: 0.7153\n",
      "Epoch 42/300\n",
      "15/15 [==============================] - 0s 2ms/step - loss: 0.7147\n",
      "Epoch 43/300\n",
      "15/15 [==============================] - 0s 2ms/step - loss: 0.7141\n",
      "Epoch 44/300\n",
      "15/15 [==============================] - 0s 2ms/step - loss: 0.7135\n",
      "Epoch 45/300\n",
      "15/15 [==============================] - 0s 2ms/step - loss: 0.7131\n",
      "Epoch 46/300\n",
      "15/15 [==============================] - 0s 2ms/step - loss: 0.7126\n",
      "Epoch 47/300\n",
      "15/15 [==============================] - 0s 2ms/step - loss: 0.7120\n",
      "Epoch 48/300\n",
      "15/15 [==============================] - 0s 2ms/step - loss: 0.7115\n",
      "Epoch 49/300\n",
      "15/15 [==============================] - 0s 2ms/step - loss: 0.7111\n",
      "Epoch 50/300\n",
      "15/15 [==============================] - 0s 2ms/step - loss: 0.7105\n",
      "Epoch 51/300\n",
      "15/15 [==============================] - 0s 2ms/step - loss: 0.7101\n",
      "Epoch 52/300\n",
      "15/15 [==============================] - 0s 2ms/step - loss: 0.7096\n",
      "Epoch 53/300\n",
      "15/15 [==============================] - 0s 4ms/step - loss: 0.7092\n",
      "Epoch 54/300\n",
      "15/15 [==============================] - 0s 4ms/step - loss: 0.7087\n",
      "Epoch 55/300\n",
      "15/15 [==============================] - 0s 3ms/step - loss: 0.7083\n",
      "Epoch 56/300\n",
      "15/15 [==============================] - 0s 3ms/step - loss: 0.7079\n",
      "Epoch 57/300\n",
      "15/15 [==============================] - 0s 3ms/step - loss: 0.7075\n",
      "Epoch 58/300\n",
      "15/15 [==============================] - 0s 4ms/step - loss: 0.7071\n",
      "Epoch 59/300\n",
      "15/15 [==============================] - 0s 6ms/step - loss: 0.7067\n",
      "Epoch 60/300\n",
      "15/15 [==============================] - 0s 3ms/step - loss: 0.7064\n",
      "Epoch 61/300\n",
      "15/15 [==============================] - 0s 3ms/step - loss: 0.7060\n",
      "Epoch 62/300\n",
      "15/15 [==============================] - 0s 3ms/step - loss: 0.7056\n",
      "Epoch 63/300\n",
      "15/15 [==============================] - 0s 3ms/step - loss: 0.7052\n",
      "Epoch 64/300\n",
      "15/15 [==============================] - 0s 3ms/step - loss: 0.7049\n",
      "Epoch 65/300\n",
      "15/15 [==============================] - 0s 3ms/step - loss: 0.7046\n",
      "Epoch 66/300\n",
      "15/15 [==============================] - 0s 3ms/step - loss: 0.7042\n",
      "Epoch 67/300\n",
      "15/15 [==============================] - 0s 3ms/step - loss: 0.7040\n",
      "Epoch 68/300\n",
      "15/15 [==============================] - 0s 3ms/step - loss: 0.7036\n",
      "Epoch 69/300\n",
      "15/15 [==============================] - 0s 3ms/step - loss: 0.7033\n",
      "Epoch 70/300\n",
      "15/15 [==============================] - 0s 3ms/step - loss: 0.7030\n",
      "Epoch 71/300\n",
      "15/15 [==============================] - 0s 3ms/step - loss: 0.7027\n",
      "Epoch 72/300\n",
      "15/15 [==============================] - 0s 3ms/step - loss: 0.7024\n",
      "Epoch 73/300\n",
      "15/15 [==============================] - 0s 3ms/step - loss: 0.7022\n",
      "Epoch 74/300\n",
      "15/15 [==============================] - 0s 3ms/step - loss: 0.7019\n",
      "Epoch 75/300\n",
      "15/15 [==============================] - 0s 3ms/step - loss: 0.7017\n",
      "Epoch 76/300\n",
      "15/15 [==============================] - 0s 3ms/step - loss: 0.7013\n",
      "Epoch 77/300\n",
      "15/15 [==============================] - 0s 3ms/step - loss: 0.7011\n",
      "Epoch 78/300\n",
      "15/15 [==============================] - 0s 4ms/step - loss: 0.7009\n",
      "Epoch 79/300\n",
      "15/15 [==============================] - 0s 2ms/step - loss: 0.7006\n",
      "Epoch 80/300\n",
      "15/15 [==============================] - 0s 3ms/step - loss: 0.7004\n",
      "Epoch 81/300\n",
      "15/15 [==============================] - 0s 3ms/step - loss: 0.7002\n",
      "Epoch 82/300\n",
      "15/15 [==============================] - 0s 6ms/step - loss: 0.7000\n",
      "Epoch 83/300\n",
      "15/15 [==============================] - 0s 3ms/step - loss: 0.6997\n",
      "Epoch 84/300\n",
      "15/15 [==============================] - 0s 3ms/step - loss: 0.6995\n",
      "Epoch 85/300\n",
      "15/15 [==============================] - 0s 4ms/step - loss: 0.6993\n",
      "Epoch 86/300\n",
      "15/15 [==============================] - 0s 3ms/step - loss: 0.6991\n",
      "Epoch 87/300\n",
      "15/15 [==============================] - 0s 3ms/step - loss: 0.6989\n",
      "Epoch 88/300\n",
      "15/15 [==============================] - 0s 5ms/step - loss: 0.6987\n",
      "Epoch 89/300\n",
      "15/15 [==============================] - 0s 4ms/step - loss: 0.6985\n",
      "Epoch 90/300\n",
      "15/15 [==============================] - 0s 4ms/step - loss: 0.6984\n",
      "Epoch 91/300\n",
      "15/15 [==============================] - 0s 5ms/step - loss: 0.6982\n",
      "Epoch 92/300\n",
      "15/15 [==============================] - 0s 8ms/step - loss: 0.6980\n",
      "Epoch 93/300\n",
      "15/15 [==============================] - 0s 5ms/step - loss: 0.6978\n",
      "Epoch 94/300\n",
      "15/15 [==============================] - 0s 3ms/step - loss: 0.6976\n",
      "Epoch 95/300\n",
      "15/15 [==============================] - 0s 3ms/step - loss: 0.6975\n",
      "Epoch 96/300\n",
      "15/15 [==============================] - 0s 3ms/step - loss: 0.6973\n",
      "Epoch 97/300\n",
      "15/15 [==============================] - 0s 2ms/step - loss: 0.6971\n",
      "Epoch 98/300\n",
      "15/15 [==============================] - 0s 3ms/step - loss: 0.6971\n",
      "Epoch 99/300\n",
      "15/15 [==============================] - 0s 3ms/step - loss: 0.6969\n",
      "Epoch 100/300\n",
      "15/15 [==============================] - 0s 3ms/step - loss: 0.6967\n",
      "Epoch 101/300\n",
      "15/15 [==============================] - 0s 3ms/step - loss: 0.6966\n",
      "Epoch 102/300\n",
      "15/15 [==============================] - 0s 3ms/step - loss: 0.6964\n",
      "Epoch 103/300\n",
      "15/15 [==============================] - 0s 3ms/step - loss: 0.6963\n",
      "Epoch 104/300\n",
      "15/15 [==============================] - 0s 3ms/step - loss: 0.6962\n",
      "Epoch 105/300\n",
      "15/15 [==============================] - 0s 3ms/step - loss: 0.6961\n",
      "Epoch 106/300\n",
      "15/15 [==============================] - 0s 3ms/step - loss: 0.6960\n",
      "Epoch 107/300\n",
      "15/15 [==============================] - 0s 3ms/step - loss: 0.6958\n",
      "Epoch 108/300\n",
      "15/15 [==============================] - 0s 3ms/step - loss: 0.6957\n",
      "Epoch 109/300\n",
      "15/15 [==============================] - 0s 2ms/step - loss: 0.6955\n",
      "Epoch 110/300\n",
      "15/15 [==============================] - 0s 3ms/step - loss: 0.6955\n",
      "Epoch 111/300\n",
      "15/15 [==============================] - 0s 3ms/step - loss: 0.6953\n",
      "Epoch 112/300\n",
      "15/15 [==============================] - 0s 3ms/step - loss: 0.6952\n",
      "Epoch 113/300\n",
      "15/15 [==============================] - 0s 3ms/step - loss: 0.6951\n",
      "Epoch 114/300\n",
      "15/15 [==============================] - 0s 3ms/step - loss: 0.6950\n",
      "Epoch 115/300\n",
      "15/15 [==============================] - 0s 3ms/step - loss: 0.6950\n",
      "Epoch 116/300\n",
      "15/15 [==============================] - 0s 2ms/step - loss: 0.6948\n",
      "Epoch 117/300\n",
      "15/15 [==============================] - 0s 3ms/step - loss: 0.6947\n",
      "Epoch 118/300\n",
      "15/15 [==============================] - 0s 3ms/step - loss: 0.6946\n",
      "Epoch 119/300\n",
      "15/15 [==============================] - 0s 3ms/step - loss: 0.6946\n",
      "Epoch 120/300\n",
      "15/15 [==============================] - 0s 3ms/step - loss: 0.6944\n",
      "Epoch 121/300\n",
      "15/15 [==============================] - 0s 3ms/step - loss: 0.6944\n",
      "Epoch 122/300\n",
      "15/15 [==============================] - 0s 3ms/step - loss: 0.6943\n",
      "Epoch 123/300\n",
      "15/15 [==============================] - 0s 3ms/step - loss: 0.6943\n",
      "Epoch 124/300\n",
      "15/15 [==============================] - 0s 3ms/step - loss: 0.6941\n",
      "Epoch 125/300\n",
      "15/15 [==============================] - 0s 3ms/step - loss: 0.6941\n",
      "Epoch 126/300\n",
      "15/15 [==============================] - 0s 3ms/step - loss: 0.6940\n",
      "Epoch 127/300\n",
      "15/15 [==============================] - 0s 3ms/step - loss: 0.6939\n",
      "Epoch 128/300\n",
      "15/15 [==============================] - 0s 3ms/step - loss: 0.6939\n",
      "Epoch 129/300\n",
      "15/15 [==============================] - 0s 3ms/step - loss: 0.6937\n",
      "Epoch 130/300\n",
      "15/15 [==============================] - 0s 3ms/step - loss: 0.6938\n",
      "Epoch 131/300\n",
      "15/15 [==============================] - 0s 3ms/step - loss: 0.6936\n",
      "Epoch 132/300\n",
      "15/15 [==============================] - 0s 2ms/step - loss: 0.6936\n",
      "Epoch 133/300\n",
      "15/15 [==============================] - 0s 3ms/step - loss: 0.6935\n",
      "Epoch 134/300\n",
      "15/15 [==============================] - 0s 3ms/step - loss: 0.6934\n",
      "Epoch 135/300\n",
      "15/15 [==============================] - 0s 2ms/step - loss: 0.6934\n",
      "Epoch 136/300\n",
      "15/15 [==============================] - 0s 2ms/step - loss: 0.6934\n",
      "Epoch 137/300\n",
      "15/15 [==============================] - 0s 2ms/step - loss: 0.6932\n",
      "Epoch 138/300\n",
      "15/15 [==============================] - 0s 2ms/step - loss: 0.6932\n",
      "Epoch 139/300\n",
      "15/15 [==============================] - 0s 2ms/step - loss: 0.6931\n",
      "Epoch 140/300\n",
      "15/15 [==============================] - 0s 2ms/step - loss: 0.6931\n",
      "Epoch 141/300\n",
      "15/15 [==============================] - 0s 2ms/step - loss: 0.6930\n",
      "Epoch 142/300\n",
      "15/15 [==============================] - 0s 2ms/step - loss: 0.6930\n",
      "Epoch 143/300\n",
      "15/15 [==============================] - 0s 2ms/step - loss: 0.6929\n",
      "Epoch 144/300\n",
      "15/15 [==============================] - 0s 2ms/step - loss: 0.6929\n",
      "Epoch 145/300\n",
      "15/15 [==============================] - 0s 2ms/step - loss: 0.6928\n",
      "Epoch 146/300\n",
      "15/15 [==============================] - 0s 2ms/step - loss: 0.6928\n",
      "Epoch 147/300\n",
      "15/15 [==============================] - 0s 2ms/step - loss: 0.6927\n",
      "Epoch 148/300\n",
      "15/15 [==============================] - 0s 2ms/step - loss: 0.6927\n",
      "Epoch 149/300\n",
      "15/15 [==============================] - 0s 2ms/step - loss: 0.6926\n",
      "Epoch 150/300\n",
      "15/15 [==============================] - 0s 2ms/step - loss: 0.6926\n",
      "Epoch 151/300\n",
      "15/15 [==============================] - 0s 2ms/step - loss: 0.6927\n",
      "Epoch 152/300\n",
      "15/15 [==============================] - 0s 2ms/step - loss: 0.6926\n",
      "Epoch 153/300\n",
      "15/15 [==============================] - 0s 2ms/step - loss: 0.6925\n",
      "Epoch 154/300\n",
      "15/15 [==============================] - 0s 2ms/step - loss: 0.6924\n",
      "Epoch 155/300\n",
      "15/15 [==============================] - 0s 2ms/step - loss: 0.6924\n",
      "Epoch 156/300\n",
      "15/15 [==============================] - 0s 2ms/step - loss: 0.6923\n",
      "Epoch 157/300\n",
      "15/15 [==============================] - 0s 2ms/step - loss: 0.6923\n",
      "Epoch 158/300\n",
      "15/15 [==============================] - 0s 2ms/step - loss: 0.6923\n",
      "Epoch 159/300\n",
      "15/15 [==============================] - 0s 2ms/step - loss: 0.6923\n",
      "Epoch 160/300\n",
      "15/15 [==============================] - 0s 2ms/step - loss: 0.6923\n",
      "Epoch 161/300\n",
      "15/15 [==============================] - 0s 2ms/step - loss: 0.6922\n",
      "Epoch 162/300\n",
      "15/15 [==============================] - 0s 2ms/step - loss: 0.6921\n",
      "Epoch 163/300\n",
      "15/15 [==============================] - 0s 2ms/step - loss: 0.6921\n",
      "Epoch 164/300\n",
      "15/15 [==============================] - 0s 2ms/step - loss: 0.6921\n",
      "Epoch 165/300\n",
      "15/15 [==============================] - 0s 2ms/step - loss: 0.6921\n",
      "Epoch 166/300\n",
      "15/15 [==============================] - 0s 2ms/step - loss: 0.6920\n",
      "Epoch 167/300\n",
      "15/15 [==============================] - 0s 2ms/step - loss: 0.6920\n",
      "Epoch 168/300\n",
      "15/15 [==============================] - 0s 2ms/step - loss: 0.6920\n",
      "Epoch 169/300\n",
      "15/15 [==============================] - 0s 2ms/step - loss: 0.6919\n",
      "Epoch 170/300\n",
      "15/15 [==============================] - 0s 2ms/step - loss: 0.6919\n",
      "Epoch 171/300\n",
      "15/15 [==============================] - 0s 2ms/step - loss: 0.6919\n",
      "Epoch 172/300\n",
      "15/15 [==============================] - 0s 2ms/step - loss: 0.6919\n",
      "Epoch 173/300\n",
      "15/15 [==============================] - 0s 2ms/step - loss: 0.6918\n",
      "Epoch 174/300\n",
      "15/15 [==============================] - 0s 2ms/step - loss: 0.6918\n",
      "Epoch 175/300\n",
      "15/15 [==============================] - 0s 2ms/step - loss: 0.6918\n",
      "Epoch 176/300\n",
      "15/15 [==============================] - 0s 2ms/step - loss: 0.6917\n",
      "Epoch 177/300\n",
      "15/15 [==============================] - 0s 2ms/step - loss: 0.6917\n",
      "Epoch 178/300\n",
      "15/15 [==============================] - 0s 2ms/step - loss: 0.6918\n",
      "Epoch 179/300\n",
      "15/15 [==============================] - 0s 2ms/step - loss: 0.6917\n",
      "Epoch 180/300\n",
      "15/15 [==============================] - 0s 2ms/step - loss: 0.6917\n",
      "Epoch 181/300\n",
      "15/15 [==============================] - 0s 2ms/step - loss: 0.6916\n",
      "Epoch 182/300\n",
      "15/15 [==============================] - 0s 2ms/step - loss: 0.6917\n",
      "Epoch 183/300\n",
      "15/15 [==============================] - 0s 2ms/step - loss: 0.6916\n",
      "Epoch 184/300\n",
      "15/15 [==============================] - 0s 2ms/step - loss: 0.6916\n",
      "Epoch 185/300\n",
      "15/15 [==============================] - 0s 2ms/step - loss: 0.6916\n",
      "Epoch 186/300\n",
      "15/15 [==============================] - 0s 3ms/step - loss: 0.6916\n",
      "Epoch 187/300\n",
      "15/15 [==============================] - 0s 2ms/step - loss: 0.6915\n",
      "Epoch 188/300\n",
      "15/15 [==============================] - 0s 2ms/step - loss: 0.6915\n",
      "Epoch 189/300\n",
      "15/15 [==============================] - 0s 2ms/step - loss: 0.6915\n",
      "Epoch 190/300\n",
      "15/15 [==============================] - 0s 2ms/step - loss: 0.6915\n",
      "Epoch 191/300\n",
      "15/15 [==============================] - 0s 2ms/step - loss: 0.6915\n",
      "Epoch 192/300\n",
      "15/15 [==============================] - 0s 2ms/step - loss: 0.6915\n",
      "Epoch 193/300\n",
      "15/15 [==============================] - 0s 2ms/step - loss: 0.6915\n",
      "Epoch 194/300\n",
      "15/15 [==============================] - 0s 2ms/step - loss: 0.6915\n",
      "Epoch 195/300\n",
      "15/15 [==============================] - 0s 2ms/step - loss: 0.6914\n",
      "Epoch 196/300\n",
      "15/15 [==============================] - 0s 2ms/step - loss: 0.6914\n",
      "Epoch 197/300\n",
      "15/15 [==============================] - 0s 2ms/step - loss: 0.6914\n",
      "Epoch 198/300\n",
      "15/15 [==============================] - 0s 2ms/step - loss: 0.6914\n",
      "Epoch 199/300\n",
      "15/15 [==============================] - 0s 2ms/step - loss: 0.6914\n",
      "Epoch 200/300\n",
      "15/15 [==============================] - 0s 2ms/step - loss: 0.6914\n",
      "Epoch 201/300\n",
      "15/15 [==============================] - 0s 2ms/step - loss: 0.6913\n",
      "Epoch 202/300\n",
      "15/15 [==============================] - 0s 2ms/step - loss: 0.6914\n",
      "Epoch 203/300\n",
      "15/15 [==============================] - 0s 2ms/step - loss: 0.6913\n",
      "Epoch 204/300\n",
      "15/15 [==============================] - 0s 2ms/step - loss: 0.6913\n",
      "Epoch 205/300\n",
      "15/15 [==============================] - 0s 2ms/step - loss: 0.6913\n",
      "Epoch 206/300\n",
      "15/15 [==============================] - 0s 2ms/step - loss: 0.6913\n",
      "Epoch 207/300\n",
      "15/15 [==============================] - 0s 2ms/step - loss: 0.6913\n",
      "Epoch 208/300\n",
      "15/15 [==============================] - 0s 2ms/step - loss: 0.6913\n",
      "Epoch 209/300\n",
      "15/15 [==============================] - 0s 2ms/step - loss: 0.6913\n",
      "Epoch 210/300\n",
      "15/15 [==============================] - 0s 2ms/step - loss: 0.6913\n",
      "Epoch 211/300\n",
      "15/15 [==============================] - 0s 2ms/step - loss: 0.6913\n",
      "Epoch 212/300\n",
      "15/15 [==============================] - 0s 2ms/step - loss: 0.6913\n",
      "Epoch 213/300\n",
      "15/15 [==============================] - 0s 2ms/step - loss: 0.6912\n",
      "Epoch 214/300\n",
      "15/15 [==============================] - 0s 2ms/step - loss: 0.6912\n",
      "Epoch 215/300\n",
      "15/15 [==============================] - 0s 2ms/step - loss: 0.6912\n",
      "Epoch 216/300\n",
      "15/15 [==============================] - 0s 2ms/step - loss: 0.6912\n",
      "Epoch 217/300\n",
      "15/15 [==============================] - 0s 2ms/step - loss: 0.6912\n",
      "Epoch 218/300\n",
      "15/15 [==============================] - 0s 2ms/step - loss: 0.6912\n",
      "Epoch 219/300\n",
      "15/15 [==============================] - 0s 2ms/step - loss: 0.6912\n",
      "Epoch 220/300\n",
      "15/15 [==============================] - 0s 2ms/step - loss: 0.6912\n",
      "Epoch 221/300\n",
      "15/15 [==============================] - 0s 3ms/step - loss: 0.6912\n",
      "Epoch 222/300\n",
      "15/15 [==============================] - 0s 2ms/step - loss: 0.6912\n",
      "Epoch 223/300\n",
      "15/15 [==============================] - 0s 2ms/step - loss: 0.6912\n",
      "Epoch 224/300\n",
      "15/15 [==============================] - 0s 2ms/step - loss: 0.6912\n",
      "Epoch 225/300\n",
      "15/15 [==============================] - 0s 3ms/step - loss: 0.6912\n",
      "Epoch 226/300\n",
      "15/15 [==============================] - 0s 2ms/step - loss: 0.6911\n",
      "Epoch 227/300\n",
      "15/15 [==============================] - 0s 2ms/step - loss: 0.6911\n",
      "Epoch 228/300\n",
      "15/15 [==============================] - 0s 2ms/step - loss: 0.6911\n",
      "Epoch 229/300\n",
      "15/15 [==============================] - 0s 2ms/step - loss: 0.6911\n",
      "Epoch 230/300\n",
      "15/15 [==============================] - 0s 2ms/step - loss: 0.6911\n",
      "Epoch 231/300\n",
      "15/15 [==============================] - 0s 2ms/step - loss: 0.6911\n",
      "Epoch 232/300\n",
      "15/15 [==============================] - 0s 2ms/step - loss: 0.6911\n",
      "Epoch 233/300\n",
      "15/15 [==============================] - 0s 2ms/step - loss: 0.6911\n",
      "Epoch 234/300\n",
      "15/15 [==============================] - 0s 2ms/step - loss: 0.6911\n",
      "Epoch 235/300\n",
      "15/15 [==============================] - 0s 2ms/step - loss: 0.6911\n",
      "Epoch 236/300\n",
      "15/15 [==============================] - 0s 2ms/step - loss: 0.6911\n",
      "Epoch 237/300\n",
      "15/15 [==============================] - 0s 2ms/step - loss: 0.6911\n",
      "Epoch 238/300\n",
      "15/15 [==============================] - 0s 3ms/step - loss: 0.6911\n",
      "Epoch 239/300\n",
      "15/15 [==============================] - 0s 2ms/step - loss: 0.6911\n",
      "Epoch 240/300\n",
      "15/15 [==============================] - 0s 2ms/step - loss: 0.6910\n",
      "Epoch 241/300\n",
      "15/15 [==============================] - 0s 2ms/step - loss: 0.6911\n",
      "Epoch 242/300\n",
      "15/15 [==============================] - 0s 2ms/step - loss: 0.6910\n",
      "Epoch 243/300\n",
      "15/15 [==============================] - 0s 2ms/step - loss: 0.6912\n",
      "Epoch 244/300\n",
      "15/15 [==============================] - 0s 2ms/step - loss: 0.6910\n",
      "Epoch 245/300\n",
      "15/15 [==============================] - 0s 2ms/step - loss: 0.6911\n",
      "Epoch 246/300\n",
      "15/15 [==============================] - 0s 2ms/step - loss: 0.6910\n",
      "Epoch 247/300\n",
      "15/15 [==============================] - 0s 2ms/step - loss: 0.6910\n",
      "Epoch 248/300\n",
      "15/15 [==============================] - 0s 2ms/step - loss: 0.6911\n",
      "Epoch 249/300\n",
      "15/15 [==============================] - 0s 2ms/step - loss: 0.6910\n",
      "Epoch 250/300\n",
      "15/15 [==============================] - 0s 2ms/step - loss: 0.6910\n",
      "Epoch 251/300\n",
      "15/15 [==============================] - 0s 2ms/step - loss: 0.6910\n",
      "Epoch 252/300\n",
      "15/15 [==============================] - 0s 2ms/step - loss: 0.6910\n",
      "Epoch 253/300\n",
      "15/15 [==============================] - 0s 2ms/step - loss: 0.6910\n",
      "Epoch 254/300\n",
      "15/15 [==============================] - 0s 2ms/step - loss: 0.6910\n",
      "Epoch 255/300\n",
      "15/15 [==============================] - 0s 2ms/step - loss: 0.6910\n",
      "Epoch 256/300\n",
      "15/15 [==============================] - 0s 2ms/step - loss: 0.6910\n",
      "Epoch 257/300\n",
      "15/15 [==============================] - 0s 2ms/step - loss: 0.6910\n",
      "Epoch 258/300\n",
      "15/15 [==============================] - 0s 2ms/step - loss: 0.6910\n",
      "Epoch 259/300\n",
      "15/15 [==============================] - 0s 2ms/step - loss: 0.6910\n",
      "Epoch 260/300\n",
      "15/15 [==============================] - 0s 2ms/step - loss: 0.6910\n",
      "Epoch 261/300\n",
      "15/15 [==============================] - 0s 2ms/step - loss: 0.6910\n",
      "Epoch 262/300\n",
      "15/15 [==============================] - 0s 2ms/step - loss: 0.6910\n",
      "Epoch 263/300\n",
      "15/15 [==============================] - 0s 2ms/step - loss: 0.6910\n",
      "Epoch 264/300\n",
      "15/15 [==============================] - 0s 2ms/step - loss: 0.6910\n",
      "Epoch 265/300\n",
      "15/15 [==============================] - 0s 3ms/step - loss: 0.6910\n",
      "Epoch 266/300\n",
      "15/15 [==============================] - 0s 2ms/step - loss: 0.6910\n",
      "Epoch 267/300\n",
      "15/15 [==============================] - 0s 2ms/step - loss: 0.6910\n",
      "Epoch 268/300\n",
      "15/15 [==============================] - 0s 2ms/step - loss: 0.6910\n",
      "Epoch 269/300\n",
      "15/15 [==============================] - 0s 2ms/step - loss: 0.6909\n",
      "Epoch 270/300\n",
      "15/15 [==============================] - 0s 2ms/step - loss: 0.6910\n",
      "Epoch 271/300\n",
      "15/15 [==============================] - 0s 2ms/step - loss: 0.6910\n",
      "Epoch 272/300\n",
      "15/15 [==============================] - 0s 2ms/step - loss: 0.6910\n",
      "Epoch 273/300\n",
      "15/15 [==============================] - 0s 2ms/step - loss: 0.6910\n",
      "Epoch 274/300\n",
      "15/15 [==============================] - 0s 2ms/step - loss: 0.6910\n",
      "Epoch 275/300\n",
      "15/15 [==============================] - 0s 2ms/step - loss: 0.6910\n",
      "Epoch 276/300\n",
      "15/15 [==============================] - 0s 2ms/step - loss: 0.6909\n",
      "Epoch 277/300\n",
      "15/15 [==============================] - 0s 2ms/step - loss: 0.6909\n",
      "Epoch 278/300\n",
      "15/15 [==============================] - 0s 2ms/step - loss: 0.6909\n",
      "Epoch 279/300\n",
      "15/15 [==============================] - 0s 2ms/step - loss: 0.6910\n",
      "Epoch 280/300\n",
      "15/15 [==============================] - 0s 2ms/step - loss: 0.6909\n",
      "Epoch 281/300\n",
      "15/15 [==============================] - 0s 2ms/step - loss: 0.6909\n",
      "Epoch 282/300\n",
      "15/15 [==============================] - 0s 2ms/step - loss: 0.6909\n",
      "Epoch 283/300\n",
      "15/15 [==============================] - 0s 2ms/step - loss: 0.6911\n",
      "Epoch 284/300\n",
      "15/15 [==============================] - 0s 2ms/step - loss: 0.6909\n",
      "Epoch 285/300\n",
      "15/15 [==============================] - 0s 2ms/step - loss: 0.6909\n",
      "Epoch 286/300\n",
      "15/15 [==============================] - 0s 2ms/step - loss: 0.6909\n",
      "Epoch 287/300\n",
      "15/15 [==============================] - 0s 2ms/step - loss: 0.6909\n",
      "Epoch 288/300\n",
      "15/15 [==============================] - 0s 2ms/step - loss: 0.6909\n",
      "Epoch 289/300\n",
      "15/15 [==============================] - 0s 2ms/step - loss: 0.6909\n",
      "Epoch 290/300\n",
      "15/15 [==============================] - 0s 2ms/step - loss: 0.6909\n",
      "Epoch 291/300\n",
      "15/15 [==============================] - 0s 2ms/step - loss: 0.6909\n",
      "Epoch 292/300\n",
      "15/15 [==============================] - 0s 2ms/step - loss: 0.6909\n",
      "Epoch 293/300\n",
      "15/15 [==============================] - 0s 2ms/step - loss: 0.6909\n",
      "Epoch 294/300\n",
      "15/15 [==============================] - 0s 2ms/step - loss: 0.6910\n",
      "Epoch 295/300\n",
      "15/15 [==============================] - 0s 2ms/step - loss: 0.6910\n",
      "Epoch 296/300\n",
      "15/15 [==============================] - 0s 2ms/step - loss: 0.6909\n",
      "Epoch 297/300\n",
      "15/15 [==============================] - 0s 2ms/step - loss: 0.6909\n",
      "Epoch 298/300\n",
      "15/15 [==============================] - 0s 2ms/step - loss: 0.6910\n",
      "Epoch 299/300\n",
      "15/15 [==============================] - 0s 2ms/step - loss: 0.6909\n",
      "Epoch 300/300\n",
      "15/15 [==============================] - 0s 2ms/step - loss: 0.6910\n"
     ]
    },
    {
     "data": {
      "text/plain": [
       "<keras.src.callbacks.History at 0x7aea74909270>"
      ]
     },
     "execution_count": 123,
     "metadata": {},
     "output_type": "execute_result"
    }
   ],
   "source": [
    "### YOUR CODE HERE ###\n",
    "model.fit(X_train, y_train, batch_size=16, epochs=300)"
   ]
  },
  {
   "cell_type": "markdown",
   "metadata": {
    "id": "2ThCJDBtc2I5"
   },
   "source": [
    "Q3. Compute accuracy by implementing your own function."
   ]
  },
  {
   "cell_type": "code",
   "execution_count": null,
   "metadata": {
    "colab": {
     "base_uri": "https://localhost:8080/"
    },
    "id": "-80e1aP7dhDy",
    "outputId": "407b314d-512d-4cd6-eea5-c37161913336"
   },
   "outputs": [
    {
     "name": "stdout",
     "output_type": "stream",
     "text": [
      "2/2 [==============================] - 0s 4ms/step\n"
     ]
    }
   ],
   "source": [
    "y_preds = model.predict(X_test)"
   ]
  },
  {
   "cell_type": "code",
   "execution_count": null,
   "metadata": {
    "colab": {
     "base_uri": "https://localhost:8080/"
    },
    "id": "UlkOIdNphA1y",
    "outputId": "4f6e1b8b-5e1a-4d7b-c3ab-b87122dcabe7"
   },
   "outputs": [
    {
     "data": {
      "text/plain": [
       "(60, 1)"
      ]
     },
     "execution_count": 125,
     "metadata": {},
     "output_type": "execute_result"
    }
   ],
   "source": [
    "y_preds.shape"
   ]
  },
  {
   "cell_type": "code",
   "execution_count": null,
   "metadata": {
    "id": "LefeKn2IhMWs"
   },
   "outputs": [],
   "source": [
    "y_pred_classes = (y_preds.reshape(y_preds.shape[0],) > 0.5).astype(\"int32\") # Getting prediction classes from probabilities"
   ]
  },
  {
   "cell_type": "code",
   "execution_count": null,
   "metadata": {
    "colab": {
     "base_uri": "https://localhost:8080/"
    },
    "id": "ZkbGx98Ug-WC",
    "outputId": "2873a09a-c694-4bd3-ffb2-018a9f33d968"
   },
   "outputs": [
    {
     "data": {
      "text/plain": [
       "(60,)"
      ]
     },
     "execution_count": 127,
     "metadata": {},
     "output_type": "execute_result"
    }
   ],
   "source": [
    "y_pred_classes.shape"
   ]
  },
  {
   "cell_type": "code",
   "execution_count": null,
   "metadata": {
    "colab": {
     "base_uri": "https://localhost:8080/"
    },
    "id": "MgYxTZ002K2n",
    "outputId": "5bb06750-7cc1-49a1-f216-67b0835d5f38"
   },
   "outputs": [
    {
     "data": {
      "text/plain": [
       "array([0, 0, 1, 0, 0])"
      ]
     },
     "execution_count": 129,
     "metadata": {},
     "output_type": "execute_result"
    }
   ],
   "source": [
    "y_test[:5]"
   ]
  },
  {
   "cell_type": "code",
   "execution_count": null,
   "metadata": {
    "id": "cmCveopbdgGT"
   },
   "outputs": [],
   "source": [
    "### Build your own function to calculate accuracy###\n",
    "def accuracy(y, y_preds):\n",
    "\n",
    "  TP = np.sum((y_preds == 1) & (y == 1))\n",
    "  FP = np.sum((y_preds == 1) & (y == 0))\n",
    "  TN = np.sum((y_preds == 0) & (y == 0))\n",
    "  FN = np.sum((y_preds == 0) & (y == 1))\n",
    "\n",
    "  return (TP + TN)/(TP + FP + TN + FN)"
   ]
  },
  {
   "cell_type": "code",
   "execution_count": null,
   "metadata": {
    "colab": {
     "base_uri": "https://localhost:8080/"
    },
    "id": "wPvMXn8sfBFe",
    "outputId": "df21ecac-7ab5-4f19-b5e0-beb49e00fe53"
   },
   "outputs": [
    {
     "name": "stdout",
     "output_type": "stream",
     "text": [
      "The accuracy is: 0.38333333333333336\n"
     ]
    }
   ],
   "source": [
    "print(f'The accuracy is: {accuracy(y_test, y_pred_classes)}')"
   ]
  },
  {
   "cell_type": "code",
   "execution_count": null,
   "metadata": {
    "colab": {
     "base_uri": "https://localhost:8080/",
     "height": 1000
    },
    "id": "1L_NWfFz_gub",
    "outputId": "c44d9bf3-c05f-42af-d3cb-d4fc09ae14d2"
   },
   "outputs": [
    {
     "name": "stdout",
     "output_type": "stream",
     "text": [
      "61/61 [==============================] - 0s 2ms/step\n",
      "61/61 [==============================] - 0s 2ms/step\n",
      "57/57 [==============================] - 0s 2ms/step\n",
      "57/57 [==============================] - 0s 1ms/step\n"
     ]
    },
    {
     "data": {
      "text/plain": [
       "Text(22.347222222222214, 0.5, 'Test')"
      ]
     },
     "execution_count": 141,
     "metadata": {},
     "output_type": "execute_result"
    },
    {
     "data": {
      "image/png": "[encoded data removed]",
      "text/plain": [
       "<Figure size 640x480 with 1 Axes>"
      ]
     },
     "metadata": {},
     "output_type": "display_data"
    },
    {
     "data": {
      "image/png": "[encoded data removed]",
      "text/plain": [
       "<Figure size 640x480 with 1 Axes>"
      ]
     },
     "metadata": {},
     "output_type": "display_data"
    }
   ],
   "source": [
    "from utils import visualize_2d_classification\n",
    "f, ax = visualize_2d_classification(model, X_train, y_train)\n",
    "ax.set_ylabel(\"Train\")\n",
    "f, ax = visualize_2d_classification(model, X_test, y_test)\n",
    "ax.set_ylabel(\"Test\")"
   ]
  },
  {
   "cell_type": "markdown",
   "metadata": {
    "id": "we3xmMhp_gub"
   },
   "source": [
    "Recall that a perceptron is nothing more than a linear classifier, which is trying to separate our data using a line. It turns out that the introduction of hidden layers allows us to draw \"lines\" in higher dimensions, which, when mapped back into our original 2d space,  may look nonlinear."
   ]
  },
  {
   "cell_type": "markdown",
   "metadata": {
    "id": "0x5MFXii_gub"
   },
   "source": [
    "# Exercise 2:\n",
    "\n",
    "For this exercise, use Keras to create a 2-layer neural network by completing build_one_output_model(). We will then add one hidden layer of 2 units and an output layer of 1 unit (corresponding to our classes- sometimes referred to as a \"readout\" layer).\n",
    "\n",
    "The model has already been initialized and the optimizer and loss function have been defined for you.\n",
    "\n",
    "For your intermediate layers, use \"relu\" as the activation function, and \"sigmoid\" (as the demo above) for your output layer."
   ]
  },
  {
   "cell_type": "code",
   "execution_count": null,
   "metadata": {
    "id": "bs9rWhZg_gub"
   },
   "outputs": [],
   "source": [
    "# Keras uses the Sequential model for linear stacking of layers.\n",
    "# That is, creating a neural network is as easy as (later)\n",
    "# defining the layers!\n",
    "from keras.models import Sequential\n",
    "# Everything we've talked about in class so far is referred to in\n",
    "# Keras as a \"dense\" connection between layers, where every input\n",
    "# unit connects to a unit in the next layer\n",
    "\n",
    "from keras.layers import Dense\n",
    "# SGD is the learning algorithm we will use\n",
    "from tensorflow.keras.optimizers.legacy import SGD\n",
    "from keras.layers import Dense, Dropout\n",
    "from sklearn.linear_model import LogisticRegression\n",
    "from sklearn.ensemble import RandomForestClassifier\n",
    "from sklearn.model_selection import GridSearchCV"
   ]
  },
  {
   "cell_type": "markdown",
   "metadata": {
    "id": "PmWa5rLoTtWk"
   },
   "source": [
    "Q1. Create a 2 layer neural network by completing build_one_output_model()."
   ]
  },
  {
   "cell_type": "code",
   "execution_count": null,
   "metadata": {
    "id": "KtqwyMuB_gub"
   },
   "outputs": [],
   "source": [
    "def build_one_output_model():\n",
    "    model = Sequential()\n",
    "\n",
    "    ### YOUR CODE HERE ###\n",
    "    # Add a input hidden layer with 2 units\n",
    "    model.add(Dense(units=2, input_dim=2, activation='relu'))\n",
    "\n",
    "    # Add a final output layer with 1 unit\n",
    "    model.add(Dense(units=1, activation='sigmoid'))\n",
    "\n",
    "    # Specify SGD optimizer with appropriate values in learning_rate, decay and momentum.\n",
    "    sgd = SGD(learning_rate = 0.001, decay = 1e-7, momentum = .9)\n",
    "\n",
    "    # compile the model with \"binary_crossentropy\" loss and SGD optimizer.\n",
    "    model.compile(loss = \"binary_crossentropy\", optimizer = sgd)\n",
    "\n",
    "    return model\n"
   ]
  },
  {
   "cell_type": "code",
   "execution_count": null,
   "metadata": {
    "id": "brjdknPHCkrI"
   },
   "outputs": [],
   "source": [
    "model = build_one_output_model()"
   ]
  },
  {
   "cell_type": "markdown",
   "metadata": {
    "id": "N3FpfAjlX6YU"
   },
   "source": [
    "Q2. Fit your model by training set with appropriate epochs and batch_size."
   ]
  },
  {
   "cell_type": "code",
   "execution_count": null,
   "metadata": {
    "colab": {
     "base_uri": "https://localhost:8080/"
    },
    "id": "p2opOllvX6YU",
    "outputId": "aa7d6146-92bc-4319-d27e-61630892604e",
    "scrolled": true,
    "tags": []
   },
   "outputs": [
    {
     "name": "stdout",
     "output_type": "stream",
     "text": [
      "Epoch 1/300\n",
      "15/15 [==============================] - 0s 2ms/step - loss: 0.6708\n",
      "Epoch 2/300\n",
      "15/15 [==============================] - 0s 2ms/step - loss: 0.6704\n",
      "Epoch 3/300\n",
      "15/15 [==============================] - 0s 2ms/step - loss: 0.6699\n",
      "Epoch 4/300\n",
      "15/15 [==============================] - 0s 2ms/step - loss: 0.6693\n",
      "Epoch 5/300\n",
      "15/15 [==============================] - 0s 2ms/step - loss: 0.6688\n",
      "Epoch 6/300\n",
      "15/15 [==============================] - 0s 3ms/step - loss: 0.6683\n",
      "Epoch 7/300\n",
      "15/15 [==============================] - 0s 2ms/step - loss: 0.6678\n",
      "Epoch 8/300\n",
      "15/15 [==============================] - 0s 2ms/step - loss: 0.6673\n",
      "Epoch 9/300\n",
      "15/15 [==============================] - 0s 2ms/step - loss: 0.6668\n",
      "Epoch 10/300\n",
      "15/15 [==============================] - 0s 2ms/step - loss: 0.6663\n",
      "Epoch 11/300\n",
      "15/15 [==============================] - 0s 2ms/step - loss: 0.6660\n",
      "Epoch 12/300\n",
      "15/15 [==============================] - 0s 2ms/step - loss: 0.6655\n",
      "Epoch 13/300\n",
      "15/15 [==============================] - 0s 2ms/step - loss: 0.6651\n",
      "Epoch 14/300\n",
      "15/15 [==============================] - 0s 2ms/step - loss: 0.6647\n",
      "Epoch 15/300\n",
      "15/15 [==============================] - 0s 2ms/step - loss: 0.6643\n",
      "Epoch 16/300\n",
      "15/15 [==============================] - 0s 2ms/step - loss: 0.6638\n",
      "Epoch 17/300\n",
      "15/15 [==============================] - 0s 2ms/step - loss: 0.6635\n",
      "Epoch 18/300\n",
      "15/15 [==============================] - 0s 2ms/step - loss: 0.6631\n",
      "Epoch 19/300\n",
      "15/15 [==============================] - 0s 2ms/step - loss: 0.6628\n",
      "Epoch 20/300\n",
      "15/15 [==============================] - 0s 2ms/step - loss: 0.6623\n",
      "Epoch 21/300\n",
      "15/15 [==============================] - 0s 2ms/step - loss: 0.6620\n",
      "Epoch 22/300\n",
      "15/15 [==============================] - 0s 2ms/step - loss: 0.6616\n",
      "Epoch 23/300\n",
      "15/15 [==============================] - 0s 2ms/step - loss: 0.6612\n",
      "Epoch 24/300\n",
      "15/15 [==============================] - 0s 2ms/step - loss: 0.6608\n",
      "Epoch 25/300\n",
      "15/15 [==============================] - 0s 2ms/step - loss: 0.6605\n",
      "Epoch 26/300\n",
      "15/15 [==============================] - 0s 2ms/step - loss: 0.6602\n",
      "Epoch 27/300\n",
      "15/15 [==============================] - 0s 2ms/step - loss: 0.6597\n",
      "Epoch 28/300\n",
      "15/15 [==============================] - 0s 2ms/step - loss: 0.6594\n",
      "Epoch 29/300\n",
      "15/15 [==============================] - 0s 2ms/step - loss: 0.6590\n",
      "Epoch 30/300\n",
      "15/15 [==============================] - 0s 2ms/step - loss: 0.6587\n",
      "Epoch 31/300\n",
      "15/15 [==============================] - 0s 2ms/step - loss: 0.6583\n",
      "Epoch 32/300\n",
      "15/15 [==============================] - 0s 4ms/step - loss: 0.6580\n",
      "Epoch 33/300\n",
      "15/15 [==============================] - 0s 2ms/step - loss: 0.6576\n",
      "Epoch 34/300\n",
      "15/15 [==============================] - 0s 2ms/step - loss: 0.6573\n",
      "Epoch 35/300\n",
      "15/15 [==============================] - 0s 2ms/step - loss: 0.6569\n",
      "Epoch 36/300\n",
      "15/15 [==============================] - 0s 2ms/step - loss: 0.6566\n",
      "Epoch 37/300\n",
      "15/15 [==============================] - 0s 2ms/step - loss: 0.6563\n",
      "Epoch 38/300\n",
      "15/15 [==============================] - 0s 2ms/step - loss: 0.6559\n",
      "Epoch 39/300\n",
      "15/15 [==============================] - 0s 2ms/step - loss: 0.6555\n",
      "Epoch 40/300\n",
      "15/15 [==============================] - 0s 2ms/step - loss: 0.6552\n",
      "Epoch 41/300\n",
      "15/15 [==============================] - 0s 2ms/step - loss: 0.6548\n",
      "Epoch 42/300\n",
      "15/15 [==============================] - 0s 2ms/step - loss: 0.6544\n",
      "Epoch 43/300\n",
      "15/15 [==============================] - 0s 2ms/step - loss: 0.6541\n",
      "Epoch 44/300\n",
      "15/15 [==============================] - 0s 2ms/step - loss: 0.6537\n",
      "Epoch 45/300\n",
      "15/15 [==============================] - 0s 2ms/step - loss: 0.6535\n",
      "Epoch 46/300\n",
      "15/15 [==============================] - 0s 7ms/step - loss: 0.6530\n",
      "Epoch 47/300\n",
      "15/15 [==============================] - 0s 8ms/step - loss: 0.6527\n",
      "Epoch 48/300\n",
      "15/15 [==============================] - 0s 7ms/step - loss: 0.6523\n",
      "Epoch 49/300\n",
      "15/15 [==============================] - 0s 6ms/step - loss: 0.6519\n",
      "Epoch 50/300\n",
      "15/15 [==============================] - 0s 9ms/step - loss: 0.6516\n",
      "Epoch 51/300\n",
      "15/15 [==============================] - 0s 5ms/step - loss: 0.6512\n",
      "Epoch 52/300\n",
      "15/15 [==============================] - 0s 8ms/step - loss: 0.6509\n",
      "Epoch 53/300\n",
      "15/15 [==============================] - 0s 6ms/step - loss: 0.6505\n",
      "Epoch 54/300\n",
      "15/15 [==============================] - 0s 7ms/step - loss: 0.6502\n",
      "Epoch 55/300\n",
      "15/15 [==============================] - 0s 6ms/step - loss: 0.6498\n",
      "Epoch 56/300\n",
      "15/15 [==============================] - 0s 2ms/step - loss: 0.6495\n",
      "Epoch 57/300\n",
      "15/15 [==============================] - 0s 2ms/step - loss: 0.6491\n",
      "Epoch 58/300\n",
      "15/15 [==============================] - 0s 2ms/step - loss: 0.6488\n",
      "Epoch 59/300\n",
      "15/15 [==============================] - 0s 2ms/step - loss: 0.6484\n",
      "Epoch 60/300\n",
      "15/15 [==============================] - 0s 2ms/step - loss: 0.6480\n",
      "Epoch 61/300\n",
      "15/15 [==============================] - 0s 2ms/step - loss: 0.6477\n",
      "Epoch 62/300\n",
      "15/15 [==============================] - 0s 2ms/step - loss: 0.6473\n",
      "Epoch 63/300\n",
      "15/15 [==============================] - 0s 2ms/step - loss: 0.6469\n",
      "Epoch 64/300\n",
      "15/15 [==============================] - 0s 2ms/step - loss: 0.6466\n",
      "Epoch 65/300\n",
      "15/15 [==============================] - 0s 2ms/step - loss: 0.6463\n",
      "Epoch 66/300\n",
      "15/15 [==============================] - 0s 2ms/step - loss: 0.6459\n",
      "Epoch 67/300\n",
      "15/15 [==============================] - 0s 2ms/step - loss: 0.6454\n",
      "Epoch 68/300\n",
      "15/15 [==============================] - 0s 2ms/step - loss: 0.6451\n",
      "Epoch 69/300\n",
      "15/15 [==============================] - 0s 2ms/step - loss: 0.6447\n",
      "Epoch 70/300\n",
      "15/15 [==============================] - 0s 2ms/step - loss: 0.6444\n",
      "Epoch 71/300\n",
      "15/15 [==============================] - 0s 2ms/step - loss: 0.6440\n",
      "Epoch 72/300\n",
      "15/15 [==============================] - 0s 2ms/step - loss: 0.6436\n",
      "Epoch 73/300\n",
      "15/15 [==============================] - 0s 2ms/step - loss: 0.6433\n",
      "Epoch 74/300\n",
      "15/15 [==============================] - 0s 2ms/step - loss: 0.6429\n",
      "Epoch 75/300\n",
      "15/15 [==============================] - 0s 2ms/step - loss: 0.6425\n",
      "Epoch 76/300\n",
      "15/15 [==============================] - 0s 2ms/step - loss: 0.6421\n",
      "Epoch 77/300\n",
      "15/15 [==============================] - 0s 2ms/step - loss: 0.6418\n",
      "Epoch 78/300\n",
      "15/15 [==============================] - 0s 2ms/step - loss: 0.6414\n",
      "Epoch 79/300\n",
      "15/15 [==============================] - 0s 2ms/step - loss: 0.6411\n",
      "Epoch 80/300\n",
      "15/15 [==============================] - 0s 2ms/step - loss: 0.6407\n",
      "Epoch 81/300\n",
      "15/15 [==============================] - 0s 2ms/step - loss: 0.6403\n",
      "Epoch 82/300\n",
      "15/15 [==============================] - 0s 2ms/step - loss: 0.6399\n",
      "Epoch 83/300\n",
      "15/15 [==============================] - 0s 2ms/step - loss: 0.6395\n",
      "Epoch 84/300\n",
      "15/15 [==============================] - 0s 2ms/step - loss: 0.6392\n",
      "Epoch 85/300\n",
      "15/15 [==============================] - 0s 2ms/step - loss: 0.6388\n",
      "Epoch 86/300\n",
      "15/15 [==============================] - 0s 2ms/step - loss: 0.6384\n",
      "Epoch 87/300\n",
      "15/15 [==============================] - 0s 2ms/step - loss: 0.6380\n",
      "Epoch 88/300\n",
      "15/15 [==============================] - 0s 3ms/step - loss: 0.6376\n",
      "Epoch 89/300\n",
      "15/15 [==============================] - 0s 3ms/step - loss: 0.6373\n",
      "Epoch 90/300\n",
      "15/15 [==============================] - 0s 3ms/step - loss: 0.6369\n",
      "Epoch 91/300\n",
      "15/15 [==============================] - 0s 3ms/step - loss: 0.6365\n",
      "Epoch 92/300\n",
      "15/15 [==============================] - 0s 2ms/step - loss: 0.6361\n",
      "Epoch 93/300\n",
      "15/15 [==============================] - 0s 3ms/step - loss: 0.6358\n",
      "Epoch 94/300\n",
      "15/15 [==============================] - 0s 3ms/step - loss: 0.6354\n",
      "Epoch 95/300\n",
      "15/15 [==============================] - 0s 3ms/step - loss: 0.6350\n",
      "Epoch 96/300\n",
      "15/15 [==============================] - 0s 2ms/step - loss: 0.6346\n",
      "Epoch 97/300\n",
      "15/15 [==============================] - 0s 2ms/step - loss: 0.6343\n",
      "Epoch 98/300\n",
      "15/15 [==============================] - 0s 2ms/step - loss: 0.6338\n",
      "Epoch 99/300\n",
      "15/15 [==============================] - 0s 3ms/step - loss: 0.6336\n",
      "Epoch 100/300\n",
      "15/15 [==============================] - 0s 3ms/step - loss: 0.6330\n",
      "Epoch 101/300\n",
      "15/15 [==============================] - 0s 3ms/step - loss: 0.6327\n",
      "Epoch 102/300\n",
      "15/15 [==============================] - 0s 3ms/step - loss: 0.6322\n",
      "Epoch 103/300\n",
      "15/15 [==============================] - 0s 3ms/step - loss: 0.6318\n",
      "Epoch 104/300\n",
      "15/15 [==============================] - 0s 2ms/step - loss: 0.6314\n",
      "Epoch 105/300\n",
      "15/15 [==============================] - 0s 3ms/step - loss: 0.6310\n",
      "Epoch 106/300\n",
      "15/15 [==============================] - 0s 3ms/step - loss: 0.6306\n",
      "Epoch 107/300\n",
      "15/15 [==============================] - 0s 2ms/step - loss: 0.6302\n",
      "Epoch 108/300\n",
      "15/15 [==============================] - 0s 3ms/step - loss: 0.6298\n",
      "Epoch 109/300\n",
      "15/15 [==============================] - 0s 3ms/step - loss: 0.6294\n",
      "Epoch 110/300\n",
      "15/15 [==============================] - 0s 3ms/step - loss: 0.6289\n",
      "Epoch 111/300\n",
      "15/15 [==============================] - 0s 3ms/step - loss: 0.6285\n",
      "Epoch 112/300\n",
      "15/15 [==============================] - 0s 3ms/step - loss: 0.6281\n",
      "Epoch 113/300\n",
      "15/15 [==============================] - 0s 3ms/step - loss: 0.6276\n",
      "Epoch 114/300\n",
      "15/15 [==============================] - 0s 3ms/step - loss: 0.6273\n",
      "Epoch 115/300\n",
      "15/15 [==============================] - 0s 3ms/step - loss: 0.6268\n",
      "Epoch 116/300\n",
      "15/15 [==============================] - 0s 3ms/step - loss: 0.6263\n",
      "Epoch 117/300\n",
      "15/15 [==============================] - 0s 2ms/step - loss: 0.6259\n",
      "Epoch 118/300\n",
      "15/15 [==============================] - 0s 2ms/step - loss: 0.6255\n",
      "Epoch 119/300\n",
      "15/15 [==============================] - 0s 2ms/step - loss: 0.6251\n",
      "Epoch 120/300\n",
      "15/15 [==============================] - 0s 2ms/step - loss: 0.6247\n",
      "Epoch 121/300\n",
      "15/15 [==============================] - 0s 3ms/step - loss: 0.6243\n",
      "Epoch 122/300\n",
      "15/15 [==============================] - 0s 2ms/step - loss: 0.6238\n",
      "Epoch 123/300\n",
      "15/15 [==============================] - 0s 2ms/step - loss: 0.6234\n",
      "Epoch 124/300\n",
      "15/15 [==============================] - 0s 2ms/step - loss: 0.6230\n",
      "Epoch 125/300\n",
      "15/15 [==============================] - 0s 3ms/step - loss: 0.6225\n",
      "Epoch 126/300\n",
      "15/15 [==============================] - 0s 2ms/step - loss: 0.6222\n",
      "Epoch 127/300\n",
      "15/15 [==============================] - 0s 3ms/step - loss: 0.6218\n",
      "Epoch 128/300\n",
      "15/15 [==============================] - 0s 3ms/step - loss: 0.6214\n",
      "Epoch 129/300\n",
      "15/15 [==============================] - 0s 5ms/step - loss: 0.6209\n",
      "Epoch 130/300\n",
      "15/15 [==============================] - 0s 3ms/step - loss: 0.6206\n",
      "Epoch 131/300\n",
      "15/15 [==============================] - 0s 3ms/step - loss: 0.6201\n",
      "Epoch 132/300\n",
      "15/15 [==============================] - 0s 3ms/step - loss: 0.6197\n",
      "Epoch 133/300\n",
      "15/15 [==============================] - 0s 3ms/step - loss: 0.6193\n",
      "Epoch 134/300\n",
      "15/15 [==============================] - 0s 3ms/step - loss: 0.6189\n",
      "Epoch 135/300\n",
      "15/15 [==============================] - 0s 3ms/step - loss: 0.6185\n",
      "Epoch 136/300\n",
      "15/15 [==============================] - 0s 2ms/step - loss: 0.6181\n",
      "Epoch 137/300\n",
      "15/15 [==============================] - 0s 3ms/step - loss: 0.6176\n",
      "Epoch 138/300\n",
      "15/15 [==============================] - 0s 3ms/step - loss: 0.6171\n",
      "Epoch 139/300\n",
      "15/15 [==============================] - 0s 3ms/step - loss: 0.6167\n",
      "Epoch 140/300\n",
      "15/15 [==============================] - 0s 3ms/step - loss: 0.6163\n",
      "Epoch 141/300\n",
      "15/15 [==============================] - 0s 3ms/step - loss: 0.6159\n",
      "Epoch 142/300\n",
      "15/15 [==============================] - 0s 3ms/step - loss: 0.6154\n",
      "Epoch 143/300\n",
      "15/15 [==============================] - 0s 2ms/step - loss: 0.6150\n",
      "Epoch 144/300\n",
      "15/15 [==============================] - 0s 3ms/step - loss: 0.6146\n",
      "Epoch 145/300\n",
      "15/15 [==============================] - 0s 2ms/step - loss: 0.6141\n",
      "Epoch 146/300\n",
      "15/15 [==============================] - 0s 3ms/step - loss: 0.6137\n",
      "Epoch 147/300\n",
      "15/15 [==============================] - 0s 3ms/step - loss: 0.6132\n",
      "Epoch 148/300\n",
      "15/15 [==============================] - 0s 2ms/step - loss: 0.6127\n",
      "Epoch 149/300\n",
      "15/15 [==============================] - 0s 2ms/step - loss: 0.6123\n",
      "Epoch 150/300\n",
      "15/15 [==============================] - 0s 2ms/step - loss: 0.6118\n",
      "Epoch 151/300\n",
      "15/15 [==============================] - 0s 2ms/step - loss: 0.6114\n",
      "Epoch 152/300\n",
      "15/15 [==============================] - 0s 2ms/step - loss: 0.6108\n",
      "Epoch 153/300\n",
      "15/15 [==============================] - 0s 2ms/step - loss: 0.6104\n",
      "Epoch 154/300\n",
      "15/15 [==============================] - 0s 2ms/step - loss: 0.6099\n",
      "Epoch 155/300\n",
      "15/15 [==============================] - 0s 3ms/step - loss: 0.6094\n",
      "Epoch 156/300\n",
      "15/15 [==============================] - 0s 3ms/step - loss: 0.6089\n",
      "Epoch 157/300\n",
      "15/15 [==============================] - 0s 3ms/step - loss: 0.6085\n",
      "Epoch 158/300\n",
      "15/15 [==============================] - 0s 3ms/step - loss: 0.6080\n",
      "Epoch 159/300\n",
      "15/15 [==============================] - 0s 3ms/step - loss: 0.6075\n",
      "Epoch 160/300\n",
      "15/15 [==============================] - 0s 3ms/step - loss: 0.6071\n",
      "Epoch 161/300\n",
      "15/15 [==============================] - 0s 3ms/step - loss: 0.6067\n",
      "Epoch 162/300\n",
      "15/15 [==============================] - 0s 3ms/step - loss: 0.6063\n",
      "Epoch 163/300\n",
      "15/15 [==============================] - 0s 3ms/step - loss: 0.6058\n",
      "Epoch 164/300\n",
      "15/15 [==============================] - 0s 3ms/step - loss: 0.6053\n",
      "Epoch 165/300\n",
      "15/15 [==============================] - 0s 3ms/step - loss: 0.6048\n",
      "Epoch 166/300\n",
      "15/15 [==============================] - 0s 3ms/step - loss: 0.6044\n",
      "Epoch 167/300\n",
      "15/15 [==============================] - 0s 3ms/step - loss: 0.6039\n",
      "Epoch 168/300\n",
      "15/15 [==============================] - 0s 3ms/step - loss: 0.6035\n",
      "Epoch 169/300\n",
      "15/15 [==============================] - 0s 3ms/step - loss: 0.6031\n",
      "Epoch 170/300\n",
      "15/15 [==============================] - 0s 3ms/step - loss: 0.6025\n",
      "Epoch 171/300\n",
      "15/15 [==============================] - 0s 4ms/step - loss: 0.6021\n",
      "Epoch 172/300\n",
      "15/15 [==============================] - 0s 3ms/step - loss: 0.6016\n",
      "Epoch 173/300\n",
      "15/15 [==============================] - 0s 3ms/step - loss: 0.6013\n",
      "Epoch 174/300\n",
      "15/15 [==============================] - 0s 2ms/step - loss: 0.6007\n",
      "Epoch 175/300\n",
      "15/15 [==============================] - 0s 2ms/step - loss: 0.6003\n",
      "Epoch 176/300\n",
      "15/15 [==============================] - 0s 2ms/step - loss: 0.5999\n",
      "Epoch 177/300\n",
      "15/15 [==============================] - 0s 2ms/step - loss: 0.5994\n",
      "Epoch 178/300\n",
      "15/15 [==============================] - 0s 2ms/step - loss: 0.5989\n",
      "Epoch 179/300\n",
      "15/15 [==============================] - 0s 2ms/step - loss: 0.5984\n",
      "Epoch 180/300\n",
      "15/15 [==============================] - 0s 2ms/step - loss: 0.5981\n",
      "Epoch 181/300\n",
      "15/15 [==============================] - 0s 2ms/step - loss: 0.5975\n",
      "Epoch 182/300\n",
      "15/15 [==============================] - 0s 2ms/step - loss: 0.5971\n",
      "Epoch 183/300\n",
      "15/15 [==============================] - 0s 3ms/step - loss: 0.5966\n",
      "Epoch 184/300\n",
      "15/15 [==============================] - 0s 2ms/step - loss: 0.5962\n",
      "Epoch 185/300\n",
      "15/15 [==============================] - 0s 2ms/step - loss: 0.5957\n",
      "Epoch 186/300\n",
      "15/15 [==============================] - 0s 2ms/step - loss: 0.5953\n",
      "Epoch 187/300\n",
      "15/15 [==============================] - 0s 2ms/step - loss: 0.5948\n",
      "Epoch 188/300\n",
      "15/15 [==============================] - 0s 2ms/step - loss: 0.5944\n",
      "Epoch 189/300\n",
      "15/15 [==============================] - 0s 2ms/step - loss: 0.5940\n",
      "Epoch 190/300\n",
      "15/15 [==============================] - 0s 2ms/step - loss: 0.5935\n",
      "Epoch 191/300\n",
      "15/15 [==============================] - 0s 2ms/step - loss: 0.5931\n",
      "Epoch 192/300\n",
      "15/15 [==============================] - 0s 2ms/step - loss: 0.5926\n",
      "Epoch 193/300\n",
      "15/15 [==============================] - 0s 2ms/step - loss: 0.5922\n",
      "Epoch 194/300\n",
      "15/15 [==============================] - 0s 2ms/step - loss: 0.5918\n",
      "Epoch 195/300\n",
      "15/15 [==============================] - 0s 3ms/step - loss: 0.5913\n",
      "Epoch 196/300\n",
      "15/15 [==============================] - 0s 3ms/step - loss: 0.5910\n",
      "Epoch 197/300\n",
      "15/15 [==============================] - 0s 3ms/step - loss: 0.5904\n",
      "Epoch 198/300\n",
      "15/15 [==============================] - 0s 3ms/step - loss: 0.5900\n",
      "Epoch 199/300\n",
      "15/15 [==============================] - 0s 3ms/step - loss: 0.5895\n",
      "Epoch 200/300\n",
      "15/15 [==============================] - 0s 3ms/step - loss: 0.5891\n",
      "Epoch 201/300\n",
      "15/15 [==============================] - 0s 3ms/step - loss: 0.5887\n",
      "Epoch 202/300\n",
      "15/15 [==============================] - 0s 3ms/step - loss: 0.5883\n",
      "Epoch 203/300\n",
      "15/15 [==============================] - 0s 3ms/step - loss: 0.5879\n",
      "Epoch 204/300\n",
      "15/15 [==============================] - 0s 3ms/step - loss: 0.5874\n",
      "Epoch 205/300\n",
      "15/15 [==============================] - 0s 3ms/step - loss: 0.5870\n",
      "Epoch 206/300\n",
      "15/15 [==============================] - 0s 3ms/step - loss: 0.5866\n",
      "Epoch 207/300\n",
      "15/15 [==============================] - 0s 3ms/step - loss: 0.5861\n",
      "Epoch 208/300\n",
      "15/15 [==============================] - 0s 2ms/step - loss: 0.5857\n",
      "Epoch 209/300\n",
      "15/15 [==============================] - 0s 2ms/step - loss: 0.5852\n",
      "Epoch 210/300\n",
      "15/15 [==============================] - 0s 3ms/step - loss: 0.5848\n",
      "Epoch 211/300\n",
      "15/15 [==============================] - 0s 3ms/step - loss: 0.5843\n",
      "Epoch 212/300\n",
      "15/15 [==============================] - 0s 3ms/step - loss: 0.5839\n",
      "Epoch 213/300\n",
      "15/15 [==============================] - 0s 3ms/step - loss: 0.5834\n",
      "Epoch 214/300\n",
      "15/15 [==============================] - 0s 3ms/step - loss: 0.5830\n",
      "Epoch 215/300\n",
      "15/15 [==============================] - 0s 2ms/step - loss: 0.5825\n",
      "Epoch 216/300\n",
      "15/15 [==============================] - 0s 3ms/step - loss: 0.5821\n",
      "Epoch 217/300\n",
      "15/15 [==============================] - 0s 2ms/step - loss: 0.5816\n",
      "Epoch 218/300\n",
      "15/15 [==============================] - 0s 2ms/step - loss: 0.5812\n",
      "Epoch 219/300\n",
      "15/15 [==============================] - 0s 2ms/step - loss: 0.5808\n",
      "Epoch 220/300\n",
      "15/15 [==============================] - 0s 2ms/step - loss: 0.5804\n",
      "Epoch 221/300\n",
      "15/15 [==============================] - 0s 2ms/step - loss: 0.5798\n",
      "Epoch 222/300\n",
      "15/15 [==============================] - 0s 2ms/step - loss: 0.5794\n",
      "Epoch 223/300\n",
      "15/15 [==============================] - 0s 2ms/step - loss: 0.5790\n",
      "Epoch 224/300\n",
      "15/15 [==============================] - 0s 2ms/step - loss: 0.5786\n",
      "Epoch 225/300\n",
      "15/15 [==============================] - 0s 2ms/step - loss: 0.5781\n",
      "Epoch 226/300\n",
      "15/15 [==============================] - 0s 2ms/step - loss: 0.5777\n",
      "Epoch 227/300\n",
      "15/15 [==============================] - 0s 2ms/step - loss: 0.5772\n",
      "Epoch 228/300\n",
      "15/15 [==============================] - 0s 2ms/step - loss: 0.5767\n",
      "Epoch 229/300\n",
      "15/15 [==============================] - 0s 2ms/step - loss: 0.5763\n",
      "Epoch 230/300\n",
      "15/15 [==============================] - 0s 2ms/step - loss: 0.5759\n",
      "Epoch 231/300\n",
      "15/15 [==============================] - 0s 3ms/step - loss: 0.5754\n",
      "Epoch 232/300\n",
      "15/15 [==============================] - 0s 2ms/step - loss: 0.5750\n",
      "Epoch 233/300\n",
      "15/15 [==============================] - 0s 2ms/step - loss: 0.5746\n",
      "Epoch 234/300\n",
      "15/15 [==============================] - 0s 2ms/step - loss: 0.5742\n",
      "Epoch 235/300\n",
      "15/15 [==============================] - 0s 2ms/step - loss: 0.5737\n",
      "Epoch 236/300\n",
      "15/15 [==============================] - 0s 2ms/step - loss: 0.5732\n",
      "Epoch 237/300\n",
      "15/15 [==============================] - 0s 2ms/step - loss: 0.5727\n",
      "Epoch 238/300\n",
      "15/15 [==============================] - 0s 2ms/step - loss: 0.5723\n",
      "Epoch 239/300\n",
      "15/15 [==============================] - 0s 2ms/step - loss: 0.5718\n",
      "Epoch 240/300\n",
      "15/15 [==============================] - 0s 2ms/step - loss: 0.5713\n",
      "Epoch 241/300\n",
      "15/15 [==============================] - 0s 2ms/step - loss: 0.5708\n",
      "Epoch 242/300\n",
      "15/15 [==============================] - 0s 2ms/step - loss: 0.5704\n",
      "Epoch 243/300\n",
      "15/15 [==============================] - 0s 2ms/step - loss: 0.5698\n",
      "Epoch 244/300\n",
      "15/15 [==============================] - 0s 2ms/step - loss: 0.5694\n",
      "Epoch 245/300\n",
      "15/15 [==============================] - 0s 2ms/step - loss: 0.5689\n",
      "Epoch 246/300\n",
      "15/15 [==============================] - 0s 2ms/step - loss: 0.5684\n",
      "Epoch 247/300\n",
      "15/15 [==============================] - 0s 2ms/step - loss: 0.5680\n",
      "Epoch 248/300\n",
      "15/15 [==============================] - 0s 3ms/step - loss: 0.5675\n",
      "Epoch 249/300\n",
      "15/15 [==============================] - 0s 2ms/step - loss: 0.5671\n",
      "Epoch 250/300\n",
      "15/15 [==============================] - 0s 2ms/step - loss: 0.5667\n",
      "Epoch 251/300\n",
      "15/15 [==============================] - 0s 2ms/step - loss: 0.5662\n",
      "Epoch 252/300\n",
      "15/15 [==============================] - 0s 2ms/step - loss: 0.5657\n",
      "Epoch 253/300\n",
      "15/15 [==============================] - 0s 2ms/step - loss: 0.5653\n",
      "Epoch 254/300\n",
      "15/15 [==============================] - 0s 2ms/step - loss: 0.5649\n",
      "Epoch 255/300\n",
      "15/15 [==============================] - 0s 2ms/step - loss: 0.5643\n",
      "Epoch 256/300\n",
      "15/15 [==============================] - 0s 2ms/step - loss: 0.5639\n",
      "Epoch 257/300\n",
      "15/15 [==============================] - 0s 3ms/step - loss: 0.5634\n",
      "Epoch 258/300\n",
      "15/15 [==============================] - 0s 2ms/step - loss: 0.5630\n",
      "Epoch 259/300\n",
      "15/15 [==============================] - 0s 2ms/step - loss: 0.5626\n",
      "Epoch 260/300\n",
      "15/15 [==============================] - 0s 2ms/step - loss: 0.5621\n",
      "Epoch 261/300\n",
      "15/15 [==============================] - 0s 2ms/step - loss: 0.5617\n",
      "Epoch 262/300\n",
      "15/15 [==============================] - 0s 2ms/step - loss: 0.5613\n",
      "Epoch 263/300\n",
      "15/15 [==============================] - 0s 2ms/step - loss: 0.5608\n",
      "Epoch 264/300\n",
      "15/15 [==============================] - 0s 2ms/step - loss: 0.5603\n",
      "Epoch 265/300\n",
      "15/15 [==============================] - 0s 2ms/step - loss: 0.5599\n",
      "Epoch 266/300\n",
      "15/15 [==============================] - 0s 2ms/step - loss: 0.5595\n",
      "Epoch 267/300\n",
      "15/15 [==============================] - 0s 2ms/step - loss: 0.5590\n",
      "Epoch 268/300\n",
      "15/15 [==============================] - 0s 2ms/step - loss: 0.5585\n",
      "Epoch 269/300\n",
      "15/15 [==============================] - 0s 2ms/step - loss: 0.5581\n",
      "Epoch 270/300\n",
      "15/15 [==============================] - 0s 2ms/step - loss: 0.5576\n",
      "Epoch 271/300\n",
      "15/15 [==============================] - 0s 2ms/step - loss: 0.5572\n",
      "Epoch 272/300\n",
      "15/15 [==============================] - 0s 2ms/step - loss: 0.5568\n",
      "Epoch 273/300\n",
      "15/15 [==============================] - 0s 2ms/step - loss: 0.5563\n",
      "Epoch 274/300\n",
      "15/15 [==============================] - 0s 2ms/step - loss: 0.5559\n",
      "Epoch 275/300\n",
      "15/15 [==============================] - 0s 2ms/step - loss: 0.5555\n",
      "Epoch 276/300\n",
      "15/15 [==============================] - 0s 2ms/step - loss: 0.5551\n",
      "Epoch 277/300\n",
      "15/15 [==============================] - 0s 2ms/step - loss: 0.5548\n",
      "Epoch 278/300\n",
      "15/15 [==============================] - 0s 3ms/step - loss: 0.5542\n",
      "Epoch 279/300\n",
      "15/15 [==============================] - 0s 2ms/step - loss: 0.5539\n",
      "Epoch 280/300\n",
      "15/15 [==============================] - 0s 2ms/step - loss: 0.5534\n",
      "Epoch 281/300\n",
      "15/15 [==============================] - 0s 2ms/step - loss: 0.5529\n",
      "Epoch 282/300\n",
      "15/15 [==============================] - 0s 2ms/step - loss: 0.5525\n",
      "Epoch 283/300\n",
      "15/15 [==============================] - 0s 3ms/step - loss: 0.5521\n",
      "Epoch 284/300\n",
      "15/15 [==============================] - 0s 2ms/step - loss: 0.5517\n",
      "Epoch 285/300\n",
      "15/15 [==============================] - 0s 2ms/step - loss: 0.5513\n",
      "Epoch 286/300\n",
      "15/15 [==============================] - 0s 2ms/step - loss: 0.5509\n",
      "Epoch 287/300\n",
      "15/15 [==============================] - 0s 2ms/step - loss: 0.5505\n",
      "Epoch 288/300\n",
      "15/15 [==============================] - 0s 2ms/step - loss: 0.5500\n",
      "Epoch 289/300\n",
      "15/15 [==============================] - 0s 2ms/step - loss: 0.5495\n",
      "Epoch 290/300\n",
      "15/15 [==============================] - 0s 2ms/step - loss: 0.5492\n",
      "Epoch 291/300\n",
      "15/15 [==============================] - 0s 2ms/step - loss: 0.5487\n",
      "Epoch 292/300\n",
      "15/15 [==============================] - 0s 2ms/step - loss: 0.5483\n",
      "Epoch 293/300\n",
      "15/15 [==============================] - 0s 2ms/step - loss: 0.5479\n",
      "Epoch 294/300\n",
      "15/15 [==============================] - 0s 2ms/step - loss: 0.5475\n",
      "Epoch 295/300\n",
      "15/15 [==============================] - 0s 2ms/step - loss: 0.5471\n",
      "Epoch 296/300\n",
      "15/15 [==============================] - 0s 2ms/step - loss: 0.5467\n",
      "Epoch 297/300\n",
      "15/15 [==============================] - 0s 2ms/step - loss: 0.5463\n",
      "Epoch 298/300\n",
      "15/15 [==============================] - 0s 2ms/step - loss: 0.5459\n",
      "Epoch 299/300\n",
      "15/15 [==============================] - 0s 2ms/step - loss: 0.5455\n",
      "Epoch 300/300\n",
      "15/15 [==============================] - 0s 2ms/step - loss: 0.5451\n"
     ]
    },
    {
     "data": {
      "text/plain": [
       "<keras.src.callbacks.History at 0x7aea7402f3a0>"
      ]
     },
     "execution_count": 145,
     "metadata": {},
     "output_type": "execute_result"
    }
   ],
   "source": [
    "### YOUR CODE HERE ###\n",
    "model.fit(X_train, y_train, batch_size=16, epochs=300)"
   ]
  },
  {
   "cell_type": "markdown",
   "metadata": {
    "id": "tcsMH0cqVOkf"
   },
   "source": [
    "Q3. Compute accuracy by using your own function."
   ]
  },
  {
   "cell_type": "code",
   "execution_count": null,
   "metadata": {
    "colab": {
     "base_uri": "https://localhost:8080/"
    },
    "id": "p4h0M1nPkg6T",
    "outputId": "9903a830-19e1-4e83-98b4-1f20d39980ac"
   },
   "outputs": [
    {
     "name": "stdout",
     "output_type": "stream",
     "text": [
      "2/2 [==============================] - 0s 6ms/step\n"
     ]
    }
   ],
   "source": [
    "### YOUR CODE HERE ###\n",
    "y_preds = model.predict(X_test)\n",
    "y_pred_classes = (y_preds.reshape(y_preds.shape[0],) > 0.5).astype(\"int32\")"
   ]
  },
  {
   "cell_type": "code",
   "execution_count": null,
   "metadata": {
    "colab": {
     "base_uri": "https://localhost:8080/"
    },
    "id": "MZblWvclVoYs",
    "outputId": "934cf8f9-f736-4564-b7a3-b07a5cdc72e9"
   },
   "outputs": [
    {
     "name": "stdout",
     "output_type": "stream",
     "text": [
      "The accuracy is: 0.7833333333333333\n"
     ]
    }
   ],
   "source": [
    "print(f'The accuracy is: {accuracy(y_test, y_pred_classes)}')"
   ]
  },
  {
   "cell_type": "code",
   "execution_count": null,
   "metadata": {
    "colab": {
     "base_uri": "https://localhost:8080/",
     "height": 1000
    },
    "id": "rIycnAjv_gub",
    "outputId": "6fb148bc-fc70-4660-aec5-1a81a68e802d"
   },
   "outputs": [
    {
     "name": "stdout",
     "output_type": "stream",
     "text": [
      "61/61 [==============================] - 0s 2ms/step\n",
      "61/61 [==============================] - 0s 2ms/step\n",
      "57/57 [==============================] - 0s 2ms/step\n",
      "57/57 [==============================] - 0s 2ms/step\n"
     ]
    },
    {
     "data": {
      "text/plain": [
       "Text(22.347222222222214, 0.5, 'Test')"
      ]
     },
     "execution_count": 153,
     "metadata": {},
     "output_type": "execute_result"
    },
    {
     "data": {
      "image/png": "[encoded data removed]",
      "text/plain": [
       "<Figure size 640x480 with 1 Axes>"
      ]
     },
     "metadata": {},
     "output_type": "display_data"
    },
    {
     "data": {
      "image/png": "[encoded data removed]",
      "text/plain": [
       "<Figure size 640x480 with 1 Axes>"
      ]
     },
     "metadata": {},
     "output_type": "display_data"
    }
   ],
   "source": [
    "# And visualize how your model did\n",
    "f, ax = visualize_2d_classification(model, X_train, y_train)\n",
    "ax.set_ylabel(\"Train\")\n",
    "f, ax = visualize_2d_classification(model, X_test, y_test)\n",
    "ax.set_ylabel(\"Test\")\n"
   ]
  },
  {
   "cell_type": "markdown",
   "metadata": {
    "id": "ey0k0RJg_gub"
   },
   "source": [
    "It is actually quite rare for a classification neural network to have a single output unit as we've implemented above. Usually we have a $k$ unit output layer, where $k$ is the number of classes. This is typically done because when combined with the \"softmax\" activation function , the activity of each unit corresponds with the probability of that class. This allows us to easily extend to multiclass classification.\n",
    "\n",
    "Now we will still work with two units, but map them to two output units rather than 1. class 0 will be [1, 0], and class 1 will be [0, 1]. This operation is referred to as \"one hot encoding\"."
   ]
  },
  {
   "cell_type": "code",
   "execution_count": null,
   "metadata": {
    "id": "Mt9iaP75_gub"
   },
   "outputs": [],
   "source": [
    "# Before we can fit the network, we need to one-hot vectorize our response.\n",
    "# There is a keras method for that.\n",
    "from tensorflow.keras.utils import to_categorical\n",
    "\n",
    "y_train_vectorized = to_categorical(y_train)"
   ]
  },
  {
   "cell_type": "code",
   "execution_count": null,
   "metadata": {
    "colab": {
     "base_uri": "https://localhost:8080/"
    },
    "id": "okTn-Pgd_gub",
    "outputId": "3612607e-311c-42b0-935a-ca2b2711170f"
   },
   "outputs": [
    {
     "name": "stdout",
     "output_type": "stream",
     "text": [
      "Label | One-hot\n",
      "0 | [1. 0.]\n",
      "0 | [1. 0.]\n",
      "1 | [0. 1.]\n",
      "1 | [0. 1.]\n",
      "0 | [1. 0.]\n",
      "0 | [1. 0.]\n",
      "0 | [1. 0.]\n",
      "0 | [1. 0.]\n",
      "1 | [0. 1.]\n",
      "1 | [0. 1.]\n"
     ]
    }
   ],
   "source": [
    "print(\"Label | One-hot\")\n",
    "for i in range(10):\n",
    "    print(\"{} | {}\".format(y_train[i], y_train_vectorized[i]))"
   ]
  },
  {
   "cell_type": "code",
   "execution_count": null,
   "metadata": {
    "colab": {
     "base_uri": "https://localhost:8080/"
    },
    "id": "UYrzTq7Jlg50",
    "outputId": "760d81a2-e37d-45e6-c7b3-2ee089da6a57"
   },
   "outputs": [
    {
     "data": {
      "text/plain": [
       "array([[1., 0.],\n",
       "       [1., 0.],\n",
       "       [0., 1.],\n",
       "       [0., 1.],\n",
       "       [1., 0.]], dtype=float32)"
      ]
     },
     "execution_count": 156,
     "metadata": {},
     "output_type": "execute_result"
    }
   ],
   "source": [
    "y_train_vectorized[:5]"
   ]
  },
  {
   "cell_type": "code",
   "execution_count": null,
   "metadata": {
    "colab": {
     "base_uri": "https://localhost:8080/"
    },
    "id": "O6hE3BCAlluV",
    "outputId": "d0aecf3b-5843-40d0-c600-199e3a0b4691"
   },
   "outputs": [
    {
     "data": {
      "text/plain": [
       "array([0., 0., 1., 1., 0.], dtype=float32)"
      ]
     },
     "execution_count": 157,
     "metadata": {},
     "output_type": "execute_result"
    }
   ],
   "source": [
    "y_train_vectorized[:5, 1]"
   ]
  },
  {
   "cell_type": "markdown",
   "metadata": {
    "id": "c-EYtOTw_gub"
   },
   "source": [
    "The one hot encoded vectors will serve as future labels for our models.\n",
    "\n",
    "# Exercise 3:\n",
    "\n",
    "Q1.Implement build_classification_model() that returns a sequential model that takes an input of size 2, passes it to a hidden layer of size 10, then a hidden layer of size 5, then a readout layer of size 2.\n",
    "\n",
    "\n",
    "As before, use the \"relu\" activation function for hidden layers, but since we have multiple output units, use the \"softmax\" activation for the final layer.\n",
    "\n",
    "We use SGD optimizer and \"categorical_crossentropy\" loss function to compile the model."
   ]
  },
  {
   "cell_type": "code",
   "execution_count": null,
   "metadata": {
    "id": "1u8Vfx1K_gub"
   },
   "outputs": [],
   "source": [
    "def build_classification_model():\n",
    "    model = Sequential()\n",
    "\n",
    "    ### YOUR CODE HERE ###\n",
    "    model.add(Dense(units=10, input_dim=2, activation='relu'))\n",
    "    model.add(Dense(units=5, activation='relu'))\n",
    "    model.add(Dense(units=2, activation='softmax'))\n",
    "\n",
    "    sgd = SGD(learning_rate = 0.001, decay = 1e-7, momentum = .9)\n",
    "\n",
    "    model.compile(loss = \"categorical_crossentropy\", optimizer = sgd)\n",
    "\n",
    "    return model"
   ]
  },
  {
   "cell_type": "code",
   "execution_count": null,
   "metadata": {
    "id": "EvJRSL7H_gub"
   },
   "outputs": [],
   "source": [
    "model = build_classification_model()"
   ]
  },
  {
   "cell_type": "markdown",
   "metadata": {
    "id": "o9skzqVn_gub"
   },
   "source": [
    "Q2. Fit your model by training set"
   ]
  },
  {
   "cell_type": "code",
   "execution_count": null,
   "metadata": {
    "colab": {
     "base_uri": "https://localhost:8080/"
    },
    "id": "ZNskvvFL_gub",
    "outputId": "70dafc91-18a9-42e5-f174-a654cec8cbd0",
    "scrolled": true
   },
   "outputs": [
    {
     "name": "stdout",
     "output_type": "stream",
     "text": [
      "Epoch 1/300\n",
      "15/15 [==============================] - 0s 2ms/step - loss: 0.6920\n",
      "Epoch 2/300\n",
      "15/15 [==============================] - 0s 2ms/step - loss: 0.6915\n",
      "Epoch 3/300\n",
      "15/15 [==============================] - 0s 2ms/step - loss: 0.6909\n",
      "Epoch 4/300\n",
      "15/15 [==============================] - 0s 2ms/step - loss: 0.6904\n",
      "Epoch 5/300\n",
      "15/15 [==============================] - 0s 2ms/step - loss: 0.6897\n",
      "Epoch 6/300\n",
      "15/15 [==============================] - 0s 2ms/step - loss: 0.6892\n",
      "Epoch 7/300\n",
      "15/15 [==============================] - 0s 2ms/step - loss: 0.6885\n",
      "Epoch 8/300\n",
      "15/15 [==============================] - 0s 2ms/step - loss: 0.6882\n",
      "Epoch 9/300\n",
      "15/15 [==============================] - 0s 2ms/step - loss: 0.6872\n",
      "Epoch 10/300\n",
      "15/15 [==============================] - 0s 2ms/step - loss: 0.6867\n",
      "Epoch 11/300\n",
      "15/15 [==============================] - 0s 2ms/step - loss: 0.6861\n",
      "Epoch 12/300\n",
      "15/15 [==============================] - 0s 2ms/step - loss: 0.6855\n",
      "Epoch 13/300\n",
      "15/15 [==============================] - 0s 2ms/step - loss: 0.6850\n",
      "Epoch 14/300\n",
      "15/15 [==============================] - 0s 2ms/step - loss: 0.6846\n",
      "Epoch 15/300\n",
      "15/15 [==============================] - 0s 2ms/step - loss: 0.6838\n",
      "Epoch 16/300\n",
      "15/15 [==============================] - 0s 2ms/step - loss: 0.6833\n",
      "Epoch 17/300\n",
      "15/15 [==============================] - 0s 2ms/step - loss: 0.6827\n",
      "Epoch 18/300\n",
      "15/15 [==============================] - 0s 2ms/step - loss: 0.6822\n",
      "Epoch 19/300\n",
      "15/15 [==============================] - 0s 2ms/step - loss: 0.6816\n",
      "Epoch 20/300\n",
      "15/15 [==============================] - 0s 2ms/step - loss: 0.6810\n",
      "Epoch 21/300\n",
      "15/15 [==============================] - 0s 2ms/step - loss: 0.6804\n",
      "Epoch 22/300\n",
      "15/15 [==============================] - 0s 2ms/step - loss: 0.6799\n",
      "Epoch 23/300\n",
      "15/15 [==============================] - 0s 2ms/step - loss: 0.6793\n",
      "Epoch 24/300\n",
      "15/15 [==============================] - 0s 2ms/step - loss: 0.6787\n",
      "Epoch 25/300\n",
      "15/15 [==============================] - 0s 2ms/step - loss: 0.6782\n",
      "Epoch 26/300\n",
      "15/15 [==============================] - 0s 2ms/step - loss: 0.6775\n",
      "Epoch 27/300\n",
      "15/15 [==============================] - 0s 2ms/step - loss: 0.6770\n",
      "Epoch 28/300\n",
      "15/15 [==============================] - 0s 2ms/step - loss: 0.6764\n",
      "Epoch 29/300\n",
      "15/15 [==============================] - 0s 2ms/step - loss: 0.6758\n",
      "Epoch 30/300\n",
      "15/15 [==============================] - 0s 2ms/step - loss: 0.6752\n",
      "Epoch 31/300\n",
      "15/15 [==============================] - 0s 2ms/step - loss: 0.6747\n",
      "Epoch 32/300\n",
      "15/15 [==============================] - 0s 2ms/step - loss: 0.6740\n",
      "Epoch 33/300\n",
      "15/15 [==============================] - 0s 2ms/step - loss: 0.6734\n",
      "Epoch 34/300\n",
      "15/15 [==============================] - 0s 2ms/step - loss: 0.6730\n",
      "Epoch 35/300\n",
      "15/15 [==============================] - 0s 3ms/step - loss: 0.6721\n",
      "Epoch 36/300\n",
      "15/15 [==============================] - 0s 2ms/step - loss: 0.6715\n",
      "Epoch 37/300\n",
      "15/15 [==============================] - 0s 2ms/step - loss: 0.6709\n",
      "Epoch 38/300\n",
      "15/15 [==============================] - 0s 2ms/step - loss: 0.6703\n",
      "Epoch 39/300\n",
      "15/15 [==============================] - 0s 2ms/step - loss: 0.6696\n",
      "Epoch 40/300\n",
      "15/15 [==============================] - 0s 2ms/step - loss: 0.6691\n",
      "Epoch 41/300\n",
      "15/15 [==============================] - 0s 2ms/step - loss: 0.6682\n",
      "Epoch 42/300\n",
      "15/15 [==============================] - 0s 2ms/step - loss: 0.6677\n",
      "Epoch 43/300\n",
      "15/15 [==============================] - 0s 2ms/step - loss: 0.6671\n",
      "Epoch 44/300\n",
      "15/15 [==============================] - 0s 2ms/step - loss: 0.6665\n",
      "Epoch 45/300\n",
      "15/15 [==============================] - 0s 2ms/step - loss: 0.6655\n",
      "Epoch 46/300\n",
      "15/15 [==============================] - 0s 3ms/step - loss: 0.6648\n",
      "Epoch 47/300\n",
      "15/15 [==============================] - 0s 2ms/step - loss: 0.6641\n",
      "Epoch 48/300\n",
      "15/15 [==============================] - 0s 2ms/step - loss: 0.6634\n",
      "Epoch 49/300\n",
      "15/15 [==============================] - 0s 2ms/step - loss: 0.6627\n",
      "Epoch 50/300\n",
      "15/15 [==============================] - 0s 2ms/step - loss: 0.6620\n",
      "Epoch 51/300\n",
      "15/15 [==============================] - 0s 2ms/step - loss: 0.6613\n",
      "Epoch 52/300\n",
      "15/15 [==============================] - 0s 2ms/step - loss: 0.6604\n",
      "Epoch 53/300\n",
      "15/15 [==============================] - 0s 2ms/step - loss: 0.6597\n",
      "Epoch 54/300\n",
      "15/15 [==============================] - 0s 2ms/step - loss: 0.6592\n",
      "Epoch 55/300\n",
      "15/15 [==============================] - 0s 3ms/step - loss: 0.6583\n",
      "Epoch 56/300\n",
      "15/15 [==============================] - 0s 2ms/step - loss: 0.6574\n",
      "Epoch 57/300\n",
      "15/15 [==============================] - 0s 2ms/step - loss: 0.6566\n",
      "Epoch 58/300\n",
      "15/15 [==============================] - 0s 2ms/step - loss: 0.6558\n",
      "Epoch 59/300\n",
      "15/15 [==============================] - 0s 2ms/step - loss: 0.6550\n",
      "Epoch 60/300\n",
      "15/15 [==============================] - 0s 3ms/step - loss: 0.6543\n",
      "Epoch 61/300\n",
      "15/15 [==============================] - 0s 3ms/step - loss: 0.6533\n",
      "Epoch 62/300\n",
      "15/15 [==============================] - 0s 3ms/step - loss: 0.6526\n",
      "Epoch 63/300\n",
      "15/15 [==============================] - 0s 2ms/step - loss: 0.6516\n",
      "Epoch 64/300\n",
      "15/15 [==============================] - 0s 2ms/step - loss: 0.6507\n",
      "Epoch 65/300\n",
      "15/15 [==============================] - 0s 2ms/step - loss: 0.6499\n",
      "Epoch 66/300\n",
      "15/15 [==============================] - 0s 2ms/step - loss: 0.6489\n",
      "Epoch 67/300\n",
      "15/15 [==============================] - 0s 2ms/step - loss: 0.6481\n",
      "Epoch 68/300\n",
      "15/15 [==============================] - 0s 2ms/step - loss: 0.6472\n",
      "Epoch 69/300\n",
      "15/15 [==============================] - 0s 2ms/step - loss: 0.6462\n",
      "Epoch 70/300\n",
      "15/15 [==============================] - 0s 2ms/step - loss: 0.6452\n",
      "Epoch 71/300\n",
      "15/15 [==============================] - 0s 2ms/step - loss: 0.6442\n",
      "Epoch 72/300\n",
      "15/15 [==============================] - 0s 2ms/step - loss: 0.6432\n",
      "Epoch 73/300\n",
      "15/15 [==============================] - 0s 2ms/step - loss: 0.6421\n",
      "Epoch 74/300\n",
      "15/15 [==============================] - 0s 2ms/step - loss: 0.6412\n",
      "Epoch 75/300\n",
      "15/15 [==============================] - 0s 2ms/step - loss: 0.6401\n",
      "Epoch 76/300\n",
      "15/15 [==============================] - 0s 2ms/step - loss: 0.6390\n",
      "Epoch 77/300\n",
      "15/15 [==============================] - 0s 3ms/step - loss: 0.6379\n",
      "Epoch 78/300\n",
      "15/15 [==============================] - 0s 2ms/step - loss: 0.6369\n",
      "Epoch 79/300\n",
      "15/15 [==============================] - 0s 2ms/step - loss: 0.6358\n",
      "Epoch 80/300\n",
      "15/15 [==============================] - 0s 2ms/step - loss: 0.6346\n",
      "Epoch 81/300\n",
      "15/15 [==============================] - 0s 2ms/step - loss: 0.6334\n",
      "Epoch 82/300\n",
      "15/15 [==============================] - 0s 2ms/step - loss: 0.6323\n",
      "Epoch 83/300\n",
      "15/15 [==============================] - 0s 2ms/step - loss: 0.6312\n",
      "Epoch 84/300\n",
      "15/15 [==============================] - 0s 2ms/step - loss: 0.6298\n",
      "Epoch 85/300\n",
      "15/15 [==============================] - 0s 3ms/step - loss: 0.6286\n",
      "Epoch 86/300\n",
      "15/15 [==============================] - 0s 2ms/step - loss: 0.6275\n",
      "Epoch 87/300\n",
      "15/15 [==============================] - 0s 2ms/step - loss: 0.6261\n",
      "Epoch 88/300\n",
      "15/15 [==============================] - 0s 2ms/step - loss: 0.6248\n",
      "Epoch 89/300\n",
      "15/15 [==============================] - 0s 2ms/step - loss: 0.6235\n",
      "Epoch 90/300\n",
      "15/15 [==============================] - 0s 2ms/step - loss: 0.6222\n",
      "Epoch 91/300\n",
      "15/15 [==============================] - 0s 2ms/step - loss: 0.6209\n",
      "Epoch 92/300\n",
      "15/15 [==============================] - 0s 2ms/step - loss: 0.6194\n",
      "Epoch 93/300\n",
      "15/15 [==============================] - 0s 2ms/step - loss: 0.6182\n",
      "Epoch 94/300\n",
      "15/15 [==============================] - 0s 2ms/step - loss: 0.6167\n",
      "Epoch 95/300\n",
      "15/15 [==============================] - 0s 2ms/step - loss: 0.6152\n",
      "Epoch 96/300\n",
      "15/15 [==============================] - 0s 2ms/step - loss: 0.6139\n",
      "Epoch 97/300\n",
      "15/15 [==============================] - 0s 3ms/step - loss: 0.6122\n",
      "Epoch 98/300\n",
      "15/15 [==============================] - 0s 2ms/step - loss: 0.6108\n",
      "Epoch 99/300\n",
      "15/15 [==============================] - 0s 2ms/step - loss: 0.6093\n",
      "Epoch 100/300\n",
      "15/15 [==============================] - 0s 2ms/step - loss: 0.6076\n",
      "Epoch 101/300\n",
      "15/15 [==============================] - 0s 2ms/step - loss: 0.6060\n",
      "Epoch 102/300\n",
      "15/15 [==============================] - 0s 2ms/step - loss: 0.6045\n",
      "Epoch 103/300\n",
      "15/15 [==============================] - 0s 2ms/step - loss: 0.6027\n",
      "Epoch 104/300\n",
      "15/15 [==============================] - 0s 2ms/step - loss: 0.6010\n",
      "Epoch 105/300\n",
      "15/15 [==============================] - 0s 2ms/step - loss: 0.5994\n",
      "Epoch 106/300\n",
      "15/15 [==============================] - 0s 2ms/step - loss: 0.5975\n",
      "Epoch 107/300\n",
      "15/15 [==============================] - 0s 2ms/step - loss: 0.5959\n",
      "Epoch 108/300\n",
      "15/15 [==============================] - 0s 2ms/step - loss: 0.5940\n",
      "Epoch 109/300\n",
      "15/15 [==============================] - 0s 2ms/step - loss: 0.5922\n",
      "Epoch 110/300\n",
      "15/15 [==============================] - 0s 2ms/step - loss: 0.5902\n",
      "Epoch 111/300\n",
      "15/15 [==============================] - 0s 3ms/step - loss: 0.5884\n",
      "Epoch 112/300\n",
      "15/15 [==============================] - 0s 2ms/step - loss: 0.5864\n",
      "Epoch 113/300\n",
      "15/15 [==============================] - 0s 2ms/step - loss: 0.5844\n",
      "Epoch 114/300\n",
      "15/15 [==============================] - 0s 2ms/step - loss: 0.5826\n",
      "Epoch 115/300\n",
      "15/15 [==============================] - 0s 2ms/step - loss: 0.5805\n",
      "Epoch 116/300\n",
      "15/15 [==============================] - 0s 2ms/step - loss: 0.5784\n",
      "Epoch 117/300\n",
      "15/15 [==============================] - 0s 2ms/step - loss: 0.5764\n",
      "Epoch 118/300\n",
      "15/15 [==============================] - 0s 2ms/step - loss: 0.5742\n",
      "Epoch 119/300\n",
      "15/15 [==============================] - 0s 2ms/step - loss: 0.5720\n",
      "Epoch 120/300\n",
      "15/15 [==============================] - 0s 2ms/step - loss: 0.5700\n",
      "Epoch 121/300\n",
      "15/15 [==============================] - 0s 2ms/step - loss: 0.5676\n",
      "Epoch 122/300\n",
      "15/15 [==============================] - 0s 2ms/step - loss: 0.5654\n",
      "Epoch 123/300\n",
      "15/15 [==============================] - 0s 2ms/step - loss: 0.5630\n",
      "Epoch 124/300\n",
      "15/15 [==============================] - 0s 2ms/step - loss: 0.5607\n",
      "Epoch 125/300\n",
      "15/15 [==============================] - 0s 2ms/step - loss: 0.5584\n",
      "Epoch 126/300\n",
      "15/15 [==============================] - 0s 2ms/step - loss: 0.5558\n",
      "Epoch 127/300\n",
      "15/15 [==============================] - 0s 2ms/step - loss: 0.5535\n",
      "Epoch 128/300\n",
      "15/15 [==============================] - 0s 2ms/step - loss: 0.5510\n",
      "Epoch 129/300\n",
      "15/15 [==============================] - 0s 2ms/step - loss: 0.5483\n",
      "Epoch 130/300\n",
      "15/15 [==============================] - 0s 2ms/step - loss: 0.5457\n",
      "Epoch 131/300\n",
      "15/15 [==============================] - 0s 2ms/step - loss: 0.5430\n",
      "Epoch 132/300\n",
      "15/15 [==============================] - 0s 2ms/step - loss: 0.5403\n",
      "Epoch 133/300\n",
      "15/15 [==============================] - 0s 2ms/step - loss: 0.5376\n",
      "Epoch 134/300\n",
      "15/15 [==============================] - 0s 2ms/step - loss: 0.5347\n",
      "Epoch 135/300\n",
      "15/15 [==============================] - 0s 2ms/step - loss: 0.5318\n",
      "Epoch 136/300\n",
      "15/15 [==============================] - 0s 2ms/step - loss: 0.5289\n",
      "Epoch 137/300\n",
      "15/15 [==============================] - 0s 2ms/step - loss: 0.5261\n",
      "Epoch 138/300\n",
      "15/15 [==============================] - 0s 2ms/step - loss: 0.5235\n",
      "Epoch 139/300\n",
      "15/15 [==============================] - 0s 2ms/step - loss: 0.5199\n",
      "Epoch 140/300\n",
      "15/15 [==============================] - 0s 2ms/step - loss: 0.5168\n",
      "Epoch 141/300\n",
      "15/15 [==============================] - 0s 2ms/step - loss: 0.5139\n",
      "Epoch 142/300\n",
      "15/15 [==============================] - 0s 2ms/step - loss: 0.5107\n",
      "Epoch 143/300\n",
      "15/15 [==============================] - 0s 2ms/step - loss: 0.5073\n",
      "Epoch 144/300\n",
      "15/15 [==============================] - 0s 2ms/step - loss: 0.5041\n",
      "Epoch 145/300\n",
      "15/15 [==============================] - 0s 2ms/step - loss: 0.5006\n",
      "Epoch 146/300\n",
      "15/15 [==============================] - 0s 2ms/step - loss: 0.4972\n",
      "Epoch 147/300\n",
      "15/15 [==============================] - 0s 2ms/step - loss: 0.4940\n",
      "Epoch 148/300\n",
      "15/15 [==============================] - 0s 2ms/step - loss: 0.4905\n",
      "Epoch 149/300\n",
      "15/15 [==============================] - 0s 2ms/step - loss: 0.4869\n",
      "Epoch 150/300\n",
      "15/15 [==============================] - 0s 2ms/step - loss: 0.4833\n",
      "Epoch 151/300\n",
      "15/15 [==============================] - 0s 3ms/step - loss: 0.4796\n",
      "Epoch 152/300\n",
      "15/15 [==============================] - 0s 2ms/step - loss: 0.4760\n",
      "Epoch 153/300\n",
      "15/15 [==============================] - 0s 2ms/step - loss: 0.4723\n",
      "Epoch 154/300\n",
      "15/15 [==============================] - 0s 2ms/step - loss: 0.4685\n",
      "Epoch 155/300\n",
      "15/15 [==============================] - 0s 2ms/step - loss: 0.4648\n",
      "Epoch 156/300\n",
      "15/15 [==============================] - 0s 2ms/step - loss: 0.4607\n",
      "Epoch 157/300\n",
      "15/15 [==============================] - 0s 3ms/step - loss: 0.4573\n",
      "Epoch 158/300\n",
      "15/15 [==============================] - 0s 2ms/step - loss: 0.4527\n",
      "Epoch 159/300\n",
      "15/15 [==============================] - 0s 2ms/step - loss: 0.4489\n",
      "Epoch 160/300\n",
      "15/15 [==============================] - 0s 2ms/step - loss: 0.4448\n",
      "Epoch 161/300\n",
      "15/15 [==============================] - 0s 2ms/step - loss: 0.4409\n",
      "Epoch 162/300\n",
      "15/15 [==============================] - 0s 3ms/step - loss: 0.4368\n",
      "Epoch 163/300\n",
      "15/15 [==============================] - 0s 2ms/step - loss: 0.4325\n",
      "Epoch 164/300\n",
      "15/15 [==============================] - 0s 2ms/step - loss: 0.4284\n",
      "Epoch 165/300\n",
      "15/15 [==============================] - 0s 2ms/step - loss: 0.4241\n",
      "Epoch 166/300\n",
      "15/15 [==============================] - 0s 2ms/step - loss: 0.4198\n",
      "Epoch 167/300\n",
      "15/15 [==============================] - 0s 2ms/step - loss: 0.4154\n",
      "Epoch 168/300\n",
      "15/15 [==============================] - 0s 2ms/step - loss: 0.4113\n",
      "Epoch 169/300\n",
      "15/15 [==============================] - 0s 2ms/step - loss: 0.4071\n",
      "Epoch 170/300\n",
      "15/15 [==============================] - 0s 2ms/step - loss: 0.4025\n",
      "Epoch 171/300\n",
      "15/15 [==============================] - 0s 2ms/step - loss: 0.3980\n",
      "Epoch 172/300\n",
      "15/15 [==============================] - 0s 2ms/step - loss: 0.3936\n",
      "Epoch 173/300\n",
      "15/15 [==============================] - 0s 2ms/step - loss: 0.3891\n",
      "Epoch 174/300\n",
      "15/15 [==============================] - 0s 2ms/step - loss: 0.3845\n",
      "Epoch 175/300\n",
      "15/15 [==============================] - 0s 2ms/step - loss: 0.3801\n",
      "Epoch 176/300\n",
      "15/15 [==============================] - 0s 2ms/step - loss: 0.3753\n",
      "Epoch 177/300\n",
      "15/15 [==============================] - 0s 2ms/step - loss: 0.3708\n",
      "Epoch 178/300\n",
      "15/15 [==============================] - 0s 2ms/step - loss: 0.3664\n",
      "Epoch 179/300\n",
      "15/15 [==============================] - 0s 2ms/step - loss: 0.3616\n",
      "Epoch 180/300\n",
      "15/15 [==============================] - 0s 2ms/step - loss: 0.3571\n",
      "Epoch 181/300\n",
      "15/15 [==============================] - 0s 2ms/step - loss: 0.3525\n",
      "Epoch 182/300\n",
      "15/15 [==============================] - 0s 2ms/step - loss: 0.3478\n",
      "Epoch 183/300\n",
      "15/15 [==============================] - 0s 2ms/step - loss: 0.3434\n",
      "Epoch 184/300\n",
      "15/15 [==============================] - 0s 2ms/step - loss: 0.3387\n",
      "Epoch 185/300\n",
      "15/15 [==============================] - 0s 2ms/step - loss: 0.3341\n",
      "Epoch 186/300\n",
      "15/15 [==============================] - 0s 2ms/step - loss: 0.3295\n",
      "Epoch 187/300\n",
      "15/15 [==============================] - 0s 3ms/step - loss: 0.3249\n",
      "Epoch 188/300\n",
      "15/15 [==============================] - 0s 3ms/step - loss: 0.3205\n",
      "Epoch 189/300\n",
      "15/15 [==============================] - 0s 3ms/step - loss: 0.3159\n",
      "Epoch 190/300\n",
      "15/15 [==============================] - 0s 3ms/step - loss: 0.3115\n",
      "Epoch 191/300\n",
      "15/15 [==============================] - 0s 3ms/step - loss: 0.3071\n",
      "Epoch 192/300\n",
      "15/15 [==============================] - 0s 2ms/step - loss: 0.3028\n",
      "Epoch 193/300\n",
      "15/15 [==============================] - 0s 2ms/step - loss: 0.2986\n",
      "Epoch 194/300\n",
      "15/15 [==============================] - 0s 3ms/step - loss: 0.2943\n",
      "Epoch 195/300\n",
      "15/15 [==============================] - 0s 3ms/step - loss: 0.2899\n",
      "Epoch 196/300\n",
      "15/15 [==============================] - 0s 3ms/step - loss: 0.2855\n",
      "Epoch 197/300\n",
      "15/15 [==============================] - 0s 3ms/step - loss: 0.2815\n",
      "Epoch 198/300\n",
      "15/15 [==============================] - 0s 3ms/step - loss: 0.2773\n",
      "Epoch 199/300\n",
      "15/15 [==============================] - 0s 3ms/step - loss: 0.2730\n",
      "Epoch 200/300\n",
      "15/15 [==============================] - 0s 3ms/step - loss: 0.2691\n",
      "Epoch 201/300\n",
      "15/15 [==============================] - 0s 2ms/step - loss: 0.2648\n",
      "Epoch 202/300\n",
      "15/15 [==============================] - 0s 3ms/step - loss: 0.2607\n",
      "Epoch 203/300\n",
      "15/15 [==============================] - 0s 3ms/step - loss: 0.2571\n",
      "Epoch 204/300\n",
      "15/15 [==============================] - 0s 3ms/step - loss: 0.2529\n",
      "Epoch 205/300\n",
      "15/15 [==============================] - 0s 3ms/step - loss: 0.2492\n",
      "Epoch 206/300\n",
      "15/15 [==============================] - 0s 3ms/step - loss: 0.2454\n",
      "Epoch 207/300\n",
      "15/15 [==============================] - 0s 3ms/step - loss: 0.2418\n",
      "Epoch 208/300\n",
      "15/15 [==============================] - 0s 3ms/step - loss: 0.2380\n",
      "Epoch 209/300\n",
      "15/15 [==============================] - 0s 3ms/step - loss: 0.2343\n",
      "Epoch 210/300\n",
      "15/15 [==============================] - 0s 3ms/step - loss: 0.2309\n",
      "Epoch 211/300\n",
      "15/15 [==============================] - 0s 3ms/step - loss: 0.2275\n",
      "Epoch 212/300\n",
      "15/15 [==============================] - 0s 3ms/step - loss: 0.2240\n",
      "Epoch 213/300\n",
      "15/15 [==============================] - 0s 3ms/step - loss: 0.2205\n",
      "Epoch 214/300\n",
      "15/15 [==============================] - 0s 3ms/step - loss: 0.2171\n",
      "Epoch 215/300\n",
      "15/15 [==============================] - 0s 3ms/step - loss: 0.2141\n",
      "Epoch 216/300\n",
      "15/15 [==============================] - 0s 3ms/step - loss: 0.2107\n",
      "Epoch 217/300\n",
      "15/15 [==============================] - 0s 3ms/step - loss: 0.2074\n",
      "Epoch 218/300\n",
      "15/15 [==============================] - 0s 3ms/step - loss: 0.2042\n",
      "Epoch 219/300\n",
      "15/15 [==============================] - 0s 3ms/step - loss: 0.2013\n",
      "Epoch 220/300\n",
      "15/15 [==============================] - 0s 3ms/step - loss: 0.1981\n",
      "Epoch 221/300\n",
      "15/15 [==============================] - 0s 3ms/step - loss: 0.1951\n",
      "Epoch 222/300\n",
      "15/15 [==============================] - 0s 3ms/step - loss: 0.1922\n",
      "Epoch 223/300\n",
      "15/15 [==============================] - 0s 3ms/step - loss: 0.1893\n",
      "Epoch 224/300\n",
      "15/15 [==============================] - 0s 3ms/step - loss: 0.1865\n",
      "Epoch 225/300\n",
      "15/15 [==============================] - 0s 4ms/step - loss: 0.1838\n",
      "Epoch 226/300\n",
      "15/15 [==============================] - 0s 3ms/step - loss: 0.1812\n",
      "Epoch 227/300\n",
      "15/15 [==============================] - 0s 3ms/step - loss: 0.1785\n",
      "Epoch 228/300\n",
      "15/15 [==============================] - 0s 3ms/step - loss: 0.1760\n",
      "Epoch 229/300\n",
      "15/15 [==============================] - 0s 3ms/step - loss: 0.1734\n",
      "Epoch 230/300\n",
      "15/15 [==============================] - 0s 2ms/step - loss: 0.1709\n",
      "Epoch 231/300\n",
      "15/15 [==============================] - 0s 3ms/step - loss: 0.1684\n",
      "Epoch 232/300\n",
      "15/15 [==============================] - 0s 3ms/step - loss: 0.1660\n",
      "Epoch 233/300\n",
      "15/15 [==============================] - 0s 3ms/step - loss: 0.1636\n",
      "Epoch 234/300\n",
      "15/15 [==============================] - 0s 3ms/step - loss: 0.1613\n",
      "Epoch 235/300\n",
      "15/15 [==============================] - 0s 3ms/step - loss: 0.1591\n",
      "Epoch 236/300\n",
      "15/15 [==============================] - 0s 3ms/step - loss: 0.1569\n",
      "Epoch 237/300\n",
      "15/15 [==============================] - 0s 3ms/step - loss: 0.1547\n",
      "Epoch 238/300\n",
      "15/15 [==============================] - 0s 3ms/step - loss: 0.1525\n",
      "Epoch 239/300\n",
      "15/15 [==============================] - 0s 4ms/step - loss: 0.1504\n",
      "Epoch 240/300\n",
      "15/15 [==============================] - 0s 4ms/step - loss: 0.1483\n",
      "Epoch 241/300\n",
      "15/15 [==============================] - 0s 3ms/step - loss: 0.1463\n",
      "Epoch 242/300\n",
      "15/15 [==============================] - 0s 3ms/step - loss: 0.1446\n",
      "Epoch 243/300\n",
      "15/15 [==============================] - 0s 3ms/step - loss: 0.1424\n",
      "Epoch 244/300\n",
      "15/15 [==============================] - 0s 3ms/step - loss: 0.1404\n",
      "Epoch 245/300\n",
      "15/15 [==============================] - 0s 3ms/step - loss: 0.1385\n",
      "Epoch 246/300\n",
      "15/15 [==============================] - 0s 3ms/step - loss: 0.1367\n",
      "Epoch 247/300\n",
      "15/15 [==============================] - 0s 3ms/step - loss: 0.1349\n",
      "Epoch 248/300\n",
      "15/15 [==============================] - 0s 3ms/step - loss: 0.1331\n",
      "Epoch 249/300\n",
      "15/15 [==============================] - 0s 3ms/step - loss: 0.1314\n",
      "Epoch 250/300\n",
      "15/15 [==============================] - 0s 4ms/step - loss: 0.1297\n",
      "Epoch 251/300\n",
      "15/15 [==============================] - 0s 4ms/step - loss: 0.1280\n",
      "Epoch 252/300\n",
      "15/15 [==============================] - 0s 3ms/step - loss: 0.1264\n",
      "Epoch 253/300\n",
      "15/15 [==============================] - 0s 4ms/step - loss: 0.1248\n",
      "Epoch 254/300\n",
      "15/15 [==============================] - 0s 4ms/step - loss: 0.1233\n",
      "Epoch 255/300\n",
      "15/15 [==============================] - 0s 4ms/step - loss: 0.1216\n",
      "Epoch 256/300\n",
      "15/15 [==============================] - 0s 3ms/step - loss: 0.1201\n",
      "Epoch 257/300\n",
      "15/15 [==============================] - 0s 3ms/step - loss: 0.1186\n",
      "Epoch 258/300\n",
      "15/15 [==============================] - 0s 2ms/step - loss: 0.1171\n",
      "Epoch 259/300\n",
      "15/15 [==============================] - 0s 3ms/step - loss: 0.1156\n",
      "Epoch 260/300\n",
      "15/15 [==============================] - 0s 3ms/step - loss: 0.1143\n",
      "Epoch 261/300\n",
      "15/15 [==============================] - 0s 2ms/step - loss: 0.1129\n",
      "Epoch 262/300\n",
      "15/15 [==============================] - 0s 3ms/step - loss: 0.1114\n",
      "Epoch 263/300\n",
      "15/15 [==============================] - 0s 3ms/step - loss: 0.1101\n",
      "Epoch 264/300\n",
      "15/15 [==============================] - 0s 3ms/step - loss: 0.1088\n",
      "Epoch 265/300\n",
      "15/15 [==============================] - 0s 3ms/step - loss: 0.1075\n",
      "Epoch 266/300\n",
      "15/15 [==============================] - 0s 3ms/step - loss: 0.1063\n",
      "Epoch 267/300\n",
      "15/15 [==============================] - 0s 3ms/step - loss: 0.1050\n",
      "Epoch 268/300\n",
      "15/15 [==============================] - 0s 3ms/step - loss: 0.1039\n",
      "Epoch 269/300\n",
      "15/15 [==============================] - 0s 3ms/step - loss: 0.1026\n",
      "Epoch 270/300\n",
      "15/15 [==============================] - 0s 3ms/step - loss: 0.1014\n",
      "Epoch 271/300\n",
      "15/15 [==============================] - 0s 4ms/step - loss: 0.1003\n",
      "Epoch 272/300\n",
      "15/15 [==============================] - 0s 3ms/step - loss: 0.0991\n",
      "Epoch 273/300\n",
      "15/15 [==============================] - 0s 3ms/step - loss: 0.0979\n",
      "Epoch 274/300\n",
      "15/15 [==============================] - 0s 3ms/step - loss: 0.0969\n",
      "Epoch 275/300\n",
      "15/15 [==============================] - 0s 3ms/step - loss: 0.0958\n",
      "Epoch 276/300\n",
      "15/15 [==============================] - 0s 3ms/step - loss: 0.0947\n",
      "Epoch 277/300\n",
      "15/15 [==============================] - 0s 3ms/step - loss: 0.0937\n",
      "Epoch 278/300\n",
      "15/15 [==============================] - 0s 4ms/step - loss: 0.0926\n",
      "Epoch 279/300\n",
      "15/15 [==============================] - 0s 3ms/step - loss: 0.0916\n",
      "Epoch 280/300\n",
      "15/15 [==============================] - 0s 3ms/step - loss: 0.0906\n",
      "Epoch 281/300\n",
      "15/15 [==============================] - 0s 3ms/step - loss: 0.0897\n",
      "Epoch 282/300\n",
      "15/15 [==============================] - 0s 2ms/step - loss: 0.0887\n",
      "Epoch 283/300\n",
      "15/15 [==============================] - 0s 3ms/step - loss: 0.0877\n",
      "Epoch 284/300\n",
      "15/15 [==============================] - 0s 3ms/step - loss: 0.0868\n",
      "Epoch 285/300\n",
      "15/15 [==============================] - 0s 3ms/step - loss: 0.0859\n",
      "Epoch 286/300\n",
      "15/15 [==============================] - 0s 3ms/step - loss: 0.0850\n",
      "Epoch 287/300\n",
      "15/15 [==============================] - 0s 3ms/step - loss: 0.0841\n",
      "Epoch 288/300\n",
      "15/15 [==============================] - 0s 3ms/step - loss: 0.0832\n",
      "Epoch 289/300\n",
      "15/15 [==============================] - 0s 4ms/step - loss: 0.0824\n",
      "Epoch 290/300\n",
      "15/15 [==============================] - 0s 3ms/step - loss: 0.0816\n",
      "Epoch 291/300\n",
      "15/15 [==============================] - 0s 3ms/step - loss: 0.0808\n",
      "Epoch 292/300\n",
      "15/15 [==============================] - 0s 3ms/step - loss: 0.0799\n",
      "Epoch 293/300\n",
      "15/15 [==============================] - 0s 3ms/step - loss: 0.0791\n",
      "Epoch 294/300\n",
      "15/15 [==============================] - 0s 3ms/step - loss: 0.0783\n",
      "Epoch 295/300\n",
      "15/15 [==============================] - 0s 3ms/step - loss: 0.0776\n",
      "Epoch 296/300\n",
      "15/15 [==============================] - 0s 4ms/step - loss: 0.0768\n",
      "Epoch 297/300\n",
      "15/15 [==============================] - 0s 3ms/step - loss: 0.0760\n",
      "Epoch 298/300\n",
      "15/15 [==============================] - 0s 3ms/step - loss: 0.0753\n",
      "Epoch 299/300\n",
      "15/15 [==============================] - 0s 2ms/step - loss: 0.0746\n",
      "Epoch 300/300\n",
      "15/15 [==============================] - 0s 3ms/step - loss: 0.0738\n"
     ]
    },
    {
     "data": {
      "text/plain": [
       "<keras.src.callbacks.History at 0x7aea73d19d20>"
      ]
     },
     "execution_count": 160,
     "metadata": {},
     "output_type": "execute_result"
    }
   ],
   "source": [
    "### YOUR CODE HERE ###\n",
    "model.fit(X_train, y_train_vectorized, batch_size=16, epochs=300)"
   ]
  },
  {
   "cell_type": "markdown",
   "metadata": {
    "id": "mrG8fIEMYNRx"
   },
   "source": [
    "Q3. Compute accuracy by using your own function"
   ]
  },
  {
   "cell_type": "code",
   "execution_count": null,
   "metadata": {
    "colab": {
     "base_uri": "https://localhost:8080/"
    },
    "id": "u6LqFaaAXsD1",
    "outputId": "002fbae1-9e91-46cb-9426-0fdcc916daeb"
   },
   "outputs": [
    {
     "name": "stdout",
     "output_type": "stream",
     "text": [
      "2/2 [==============================] - 0s 7ms/step\n"
     ]
    },
    {
     "data": {
      "text/plain": [
       "array([[0.952829  , 0.0471709 ],\n",
       "       [0.9840376 , 0.01596237],\n",
       "       [0.11958295, 0.8804169 ],\n",
       "       [0.91228217, 0.08771784],\n",
       "       [0.9454616 , 0.05453836]], dtype=float32)"
      ]
     },
     "execution_count": 161,
     "metadata": {},
     "output_type": "execute_result"
    }
   ],
   "source": [
    "y_preds = model.predict(X_test)\n",
    "\n",
    "y_preds[:5]"
   ]
  },
  {
   "cell_type": "code",
   "execution_count": null,
   "metadata": {
    "colab": {
     "base_uri": "https://localhost:8080/"
    },
    "id": "q442E3pnsUfv",
    "outputId": "aeed61de-e992-49a8-f793-ec80517d6d99"
   },
   "outputs": [
    {
     "data": {
      "text/plain": [
       "array([0, 0, 1, 0, 0])"
      ]
     },
     "execution_count": 163,
     "metadata": {},
     "output_type": "execute_result"
    }
   ],
   "source": [
    "y_pred_classes = np.argmax(y_preds, axis=1)\n",
    "\n",
    "y_pred_classes[:5]"
   ]
  },
  {
   "cell_type": "code",
   "execution_count": null,
   "metadata": {
    "colab": {
     "base_uri": "https://localhost:8080/"
    },
    "id": "ig05A5XhsVpu",
    "outputId": "b9c34ca1-f5a1-4565-e973-b53683bca44f"
   },
   "outputs": [
    {
     "name": "stdout",
     "output_type": "stream",
     "text": [
      "The accuracy is: 1.0\n"
     ]
    }
   ],
   "source": [
    "print(f'The accuracy is: {accuracy(y_test, y_pred_classes)}')"
   ]
  },
  {
   "cell_type": "code",
   "execution_count": null,
   "metadata": {
    "colab": {
     "base_uri": "https://localhost:8080/"
    },
    "id": "RmY-LOdAsV8y",
    "outputId": "1644eb7e-8e4f-4be6-d5dd-51b4c723f6ff"
   },
   "outputs": [
    {
     "data": {
      "text/plain": [
       "1.0"
      ]
     },
     "execution_count": 166,
     "metadata": {},
     "output_type": "execute_result"
    }
   ],
   "source": [
    "from sklearn.metrics import accuracy_score\n",
    "\n",
    "accuracy_score(y_test, y_pred_classes)"
   ]
  },
  {
   "cell_type": "code",
   "execution_count": null,
   "metadata": {
    "colab": {
     "base_uri": "https://localhost:8080/",
     "height": 1000
    },
    "id": "Kzz-p-3U_gub",
    "outputId": "40240f19-5845-4f22-dc5e-81eeda5de4d9"
   },
   "outputs": [
    {
     "name": "stdout",
     "output_type": "stream",
     "text": [
      "61/61 [==============================] - 0s 2ms/step\n",
      "61/61 [==============================] - 0s 2ms/step\n",
      "57/57 [==============================] - 0s 2ms/step\n",
      "57/57 [==============================] - 0s 1ms/step\n"
     ]
    },
    {
     "data": {
      "text/plain": [
       "Text(22.347222222222214, 0.5, 'Test')"
      ]
     },
     "execution_count": 167,
     "metadata": {},
     "output_type": "execute_result"
    },
    {
     "data": {
      "image/png": "[encoded data removed]",
      "text/plain": [
       "<Figure size 640x480 with 1 Axes>"
      ]
     },
     "metadata": {},
     "output_type": "display_data"
    },
    {
     "data": {
      "image/png": "[encoded data removed]",
      "text/plain": [
       "<Figure size 640x480 with 1 Axes>"
      ]
     },
     "metadata": {},
     "output_type": "display_data"
    }
   ],
   "source": [
    "# And visualize how your model did\n",
    "f, ax = visualize_2d_classification(model, X_train, y_train)\n",
    "ax.set_ylabel(\"Train\")\n",
    "f, ax = visualize_2d_classification(model, X_test, y_test)\n",
    "ax.set_ylabel(\"Test\")"
   ]
  },
  {
   "cell_type": "markdown",
   "metadata": {
    "id": "JJN4QNxAX6YW"
   },
   "source": [
    "# Exercise 4:\n",
    "### Short answer-questions\n",
    "\\lb remove this"
   ]
  },
  {
   "cell_type": "markdown",
   "metadata": {
    "id": "9VHQET2zX6YX"
   },
   "source": [
    "Q1. The learning rate is an important parameter for gradient descent. Please briefly describe a possible issue if we choose too high a learning rate for full batch gradient descent (GD). Also, please briefly describe a possible issue if we choose too high a learning\n",
    "rate for stochastic gradient descent (SGD), but is not a problem in the full batch setting."
   ]
  },
  {
   "cell_type": "markdown",
   "metadata": {
    "id": "kFxMj4MNX6YX"
   },
   "source": [
    "Ans- If the learning rate is too high for full batch gradient descent (GD), the steps taken may be too large as a result of which the parameters can often overshoot the minimum. Because of this, gradient descent may just oscillate around the minimum, and sometimes even diverge which can increase the error instead of reducing it.\n",
    "\n",
    "As Stochastic Gradient Descent (SGD) is based on making updates at each iteration based on just a few samples from the data, picking a very high learning rate can cause very erratic updates at each step due to which the parameters may vary wildly and lead to instability. This can cause a delay in the progress or even act as a barrier to the parameters for reaching the vicinity of the minimum."
   ]
  },
  {
   "cell_type": "markdown",
   "metadata": {
    "id": "OPqmEVRrX6YX"
   },
   "source": [
    "Q2. Please give an example in the data augmentation methods that is helpful for classifying images of dogs and cats, but not for classifying handwritten digit."
   ]
  },
  {
   "cell_type": "markdown",
   "metadata": {
    "id": "v8WvndXAX6YX"
   },
   "source": [
    "Ans- One data augmentation method that can be helpful for classifying images of dogs and cats can be rotation of the images, even going to the extent of turning the images upside down. Changing the orientation can cause the algorithm to focus on the distinct features of dogs and cats rather than their orientation, which can lead to the model generalizing well on new images of dogs and cats, irrespective of the image orientation.\n",
    "\n",
    "However, this method would not be too helpful for images of handwritten digits as there's usually a very specific way in which digits are written (typically upright), and rotating them may cause them to appear as other digits or not make any sense whatsoever."
   ]
  },
  {
   "cell_type": "markdown",
   "metadata": {
    "id": "IKp7lEfgX6YX"
   },
   "source": [
    "Q3. Suppose we have the following two neural networks containing fully-connected layers only.\n",
    "<div>\n",
    "<img src=\"https://ucla.box.com/shared/static/kgninjcbqpztz680q47emsluvituw4ga.jpg\" width=\"300\"/>\n",
    "</div>\n",
    "Please give one advantage of A over B, and one advantage of B over A."
   ]
  },
  {
   "cell_type": "markdown",
   "metadata": {
    "id": "2o83GnTPX6YX"
   },
   "source": [
    "Ans- As network A has a simpler architecture over network B, it's advantage is that it is less computationally expensive to train, and is less likely to overfit the training data due to less parameters (less variance) - this can help in generalizing better to datasets with mostly linear decision boundaries.\n",
    "\n",
    "As network B has an additional hidden layer, it can capture more complex non-linear representations in the data and perform more complex transformations compared to network A. This can help fit the training data better and reduce the bias.\n"
   ]
  },
  {
   "cell_type": "markdown",
   "metadata": {
    "id": "95TrKOZf_gub"
   },
   "source": [
    "# Exercise 5:\n",
    "\n",
    "Now let's revisit the classification problem (Dataset 1) in Homework 2. Build a neural network to predict the output in the default payment dataset. The architecture choice is up to you, but you are required to use Dense layers and dropout layers only.\n",
    "\n",
    "\"CreditDefault_training.csv\" has 3985 records.\n",
    "\n",
    "\"CreditDefault_Xtest.csv\" contains contains 1000 rows and 14 columns. This is the test set which only contains the features."
   ]
  },
  {
   "cell_type": "markdown",
   "metadata": {
    "id": "WoPuroUXT35G"
   },
   "source": [
    "Q1. Read the data<br/>\n",
    "- Apply standardization to continuous values<br/>\n",
    "- Convert categorical variables and the target \"default.payment.next.month\" into one-hot encodings. <br>\n",
    "- Split data into train and validation set<br/>"
   ]
  },
  {
   "cell_type": "code",
   "execution_count": null,
   "metadata": {
    "id": "60tBCgSw3iou"
   },
   "outputs": [],
   "source": [
    "import numpy as np\n",
    "import pandas as pd"
   ]
  },
  {
   "cell_type": "code",
   "execution_count": null,
   "metadata": {
    "id": "6Rr8ohGA1a4i"
   },
   "outputs": [],
   "source": [
    "# Keras uses the Sequential model for linear stacking of layers.\n",
    "# That is, creating a neural network is as easy as (later)\n",
    "# defining the layers!\n",
    "from keras.models import Sequential\n",
    "# Everything we've talked about in class so far is referred to in\n",
    "# Keras as a \"dense\" connection between layers, where every input\n",
    "# unit connects to a unit in the next layer\n",
    "\n",
    "from keras.layers import Dense\n",
    "# SGD is the learning algorithm we will use\n",
    "from tensorflow.keras.optimizers.legacy import SGD\n",
    "from keras.layers import Dense, Dropout\n",
    "from sklearn.linear_model import LogisticRegression\n",
    "from sklearn.ensemble import RandomForestClassifier\n",
    "from sklearn.model_selection import GridSearchCV"
   ]
  },
  {
   "cell_type": "code",
   "execution_count": null,
   "metadata": {
    "colab": {
     "base_uri": "https://localhost:8080/",
     "height": 73
    },
    "id": "JM2SfGESVByv",
    "outputId": "f155eb99-bddc-4252-fc1a-cbc902caf0a8"
   },
   "outputs": [
    {
     "data": {
      "text/html": [
       "\n",
       "     <input type=\"file\" id=\"files-902dde02-d65d-4573-b406-85d3eb0fe393\" name=\"files[]\" multiple disabled\n",
       "        style=\"border:none\" />\n",
       "     <output id=\"result-902dde02-d65d-4573-b406-85d3eb0fe393\">\n",
       "      Upload widget is only available when the cell has been executed in the\n",
       "      current browser session. Please rerun this cell to enable.\n",
       "      </output>\n",
       "      <script>// Copyright 2017 Google LLC\n",
       "//\n",
       "// Licensed under the Apache License, Version 2.0 (the \"License\");\n",
       "// you may not use this file except in compliance with the License.\n",
       "// You may obtain a copy of the License at\n",
       "//\n",
       "//      http://www.apache.org/licenses/LICENSE-2.0\n",
       "//\n",
       "// Unless required by applicable law or agreed to in writing, software\n",
       "// distributed under the License is distributed on an \"AS IS\" BASIS,\n",
       "// WITHOUT WARRANTIES OR CONDITIONS OF ANY KIND, either express or implied.\n",
       "// See the License for the specific language governing permissions and\n",
       "// limitations under the License.\n",
       "\n",
       "/**\n",
       " * @fileoverview Helpers for google.colab Python module.\n",
       " */\n",
       "(function(scope) {\n",
       "function span(text, styleAttributes = {}) {\n",
       "  const element = document.createElement('span');\n",
       "  element.textContent = text;\n",
       "  for (const key of Object.keys(styleAttributes)) {\n",
       "    element.style[key] = styleAttributes[key];\n",
       "  }\n",
       "  return element;\n",
       "}\n",
       "\n",
       "// Max number of bytes which will be uploaded at a time.\n",
       "const MAX_PAYLOAD_SIZE = 100 * 1024;\n",
       "\n",
       "function _uploadFiles(inputId, outputId) {\n",
       "  const steps = uploadFilesStep(inputId, outputId);\n",
       "  const outputElement = document.getElementById(outputId);\n",
       "  // Cache steps on the outputElement to make it available for the next call\n",
       "  // to uploadFilesContinue from Python.\n",
       "  outputElement.steps = steps;\n",
       "\n",
       "  return _uploadFilesContinue(outputId);\n",
       "}\n",
       "\n",
       "// This is roughly an async generator (not supported in the browser yet),\n",
       "// where there are multiple asynchronous steps and the Python side is going\n",
       "// to poll for completion of each step.\n",
       "// This uses a Promise to block the python side on completion of each step,\n",
       "// then passes the result of the previous step as the input to the next step.\n",
       "function _uploadFilesContinue(outputId) {\n",
       "  const outputElement = document.getElementById(outputId);\n",
       "  const steps = outputElement.steps;\n",
       "\n",
       "  const next = steps.next(outputElement.lastPromiseValue);\n",
       "  return Promise.resolve(next.value.promise).then((value) => {\n",
       "    // Cache the last promise value to make it available to the next\n",
       "    // step of the generator.\n",
       "    outputElement.lastPromiseValue = value;\n",
       "    return next.value.response;\n",
       "  });\n",
       "}\n",
       "\n",
       "/**\n",
       " * Generator function which is called between each async step of the upload\n",
       " * process.\n",
       " * @param {string} inputId Element ID of the input file picker element.\n",
       " * @param {string} outputId Element ID of the output display.\n",
       " * @return {!Iterable<!Object>} Iterable of next steps.\n",
       " */\n",
       "function* uploadFilesStep(inputId, outputId) {\n",
       "  const inputElement = document.getElementById(inputId);\n",
       "  inputElement.disabled = false;\n",
       "\n",
       "  const outputElement = document.getElementById(outputId);\n",
       "  outputElement.innerHTML = '';\n",
       "\n",
       "  const pickedPromise = new Promise((resolve) => {\n",
       "    inputElement.addEventListener('change', (e) => {\n",
       "      resolve(e.target.files);\n",
       "    });\n",
       "  });\n",
       "\n",
       "  const cancel = document.createElement('button');\n",
       "  inputElement.parentElement.appendChild(cancel);\n",
       "  cancel.textContent = 'Cancel upload';\n",
       "  const cancelPromise = new Promise((resolve) => {\n",
       "    cancel.onclick = () => {\n",
       "      resolve(null);\n",
       "    };\n",
       "  });\n",
       "\n",
       "  // Wait for the user to pick the files.\n",
       "  const files = yield {\n",
       "    promise: Promise.race([pickedPromise, cancelPromise]),\n",
       "    response: {\n",
       "      action: 'starting',\n",
       "    }\n",
       "  };\n",
       "\n",
       "  cancel.remove();\n",
       "\n",
       "  // Disable the input element since further picks are not allowed.\n",
       "  inputElement.disabled = true;\n",
       "\n",
       "  if (!files) {\n",
       "    return {\n",
       "      response: {\n",
       "        action: 'complete',\n",
       "      }\n",
       "    };\n",
       "  }\n",
       "\n",
       "  for (const file of files) {\n",
       "    const li = document.createElement('li');\n",
       "    li.append(span(file.name, {fontWeight: 'bold'}));\n",
       "    li.append(span(\n",
       "        `(${file.type || 'n/a'}) - ${file.size} bytes, ` +\n",
       "        `last modified: ${\n",
       "            file.lastModifiedDate ? file.lastModifiedDate.toLocaleDateString() :\n",
       "                                    'n/a'} - `));\n",
       "    const percent = span('0% done');\n",
       "    li.appendChild(percent);\n",
       "\n",
       "    outputElement.appendChild(li);\n",
       "\n",
       "    const fileDataPromise = new Promise((resolve) => {\n",
       "      const reader = new FileReader();\n",
       "      reader.onload = (e) => {\n",
       "        resolve(e.target.result);\n",
       "      };\n",
       "      reader.readAsArrayBuffer(file);\n",
       "    });\n",
       "    // Wait for the data to be ready.\n",
       "    let fileData = yield {\n",
       "      promise: fileDataPromise,\n",
       "      response: {\n",
       "        action: 'continue',\n",
       "      }\n",
       "    };\n",
       "\n",
       "    // Use a chunked sending to avoid message size limits. See b/62115660.\n",
       "    let position = 0;\n",
       "    do {\n",
       "      const length = Math.min(fileData.byteLength - position, MAX_PAYLOAD_SIZE);\n",
       "      const chunk = new Uint8Array(fileData, position, length);\n",
       "      position += length;\n",
       "\n",
       "      const base64 = btoa(String.fromCharCode.apply(null, chunk));\n",
       "      yield {\n",
       "        response: {\n",
       "          action: 'append',\n",
       "          file: file.name,\n",
       "          data: base64,\n",
       "        },\n",
       "      };\n",
       "\n",
       "      let percentDone = fileData.byteLength === 0 ?\n",
       "          100 :\n",
       "          Math.round((position / fileData.byteLength) * 100);\n",
       "      percent.textContent = `${percentDone}% done`;\n",
       "\n",
       "    } while (position < fileData.byteLength);\n",
       "  }\n",
       "\n",
       "  // All done.\n",
       "  yield {\n",
       "    response: {\n",
       "      action: 'complete',\n",
       "    }\n",
       "  };\n",
       "}\n",
       "\n",
       "scope.google = scope.google || {};\n",
       "scope.google.colab = scope.google.colab || {};\n",
       "scope.google.colab._files = {\n",
       "  _uploadFiles,\n",
       "  _uploadFilesContinue,\n",
       "};\n",
       "})(self);\n",
       "</script> "
      ],
      "text/plain": [
       "<IPython.core.display.HTML object>"
      ]
     },
     "metadata": {},
     "output_type": "display_data"
    },
    {
     "name": "stdout",
     "output_type": "stream",
     "text": [
      "Saving CreditDefault_training.csv to CreditDefault_training.csv\n"
     ]
    }
   ],
   "source": [
    "### YOUR CODE HERE ###\n",
    "# Load your training data set\n",
    "from google.colab import files\n",
    "import io\n",
    "\n",
    "uploaded = files.upload()\n",
    "\n",
    "# Training data\n",
    "df_training = pd.read_csv(io.BytesIO(uploaded['CreditDefault_training.csv']))"
   ]
  },
  {
   "cell_type": "code",
   "execution_count": null,
   "metadata": {
    "colab": {
     "base_uri": "https://localhost:8080/",
     "height": 73
    },
    "id": "jxFfiLlobZ_6",
    "outputId": "ce85bf24-2a84-4912-a686-e2fbb19319cb"
   },
   "outputs": [
    {
     "data": {
      "text/html": [
       "\n",
       "     <input type=\"file\" id=\"files-0b61e49d-fa9d-4fd2-b72a-f759295bcee4\" name=\"files[]\" multiple disabled\n",
       "        style=\"border:none\" />\n",
       "     <output id=\"result-0b61e49d-fa9d-4fd2-b72a-f759295bcee4\">\n",
       "      Upload widget is only available when the cell has been executed in the\n",
       "      current browser session. Please rerun this cell to enable.\n",
       "      </output>\n",
       "      <script>// Copyright 2017 Google LLC\n",
       "//\n",
       "// Licensed under the Apache License, Version 2.0 (the \"License\");\n",
       "// you may not use this file except in compliance with the License.\n",
       "// You may obtain a copy of the License at\n",
       "//\n",
       "//      http://www.apache.org/licenses/LICENSE-2.0\n",
       "//\n",
       "// Unless required by applicable law or agreed to in writing, software\n",
       "// distributed under the License is distributed on an \"AS IS\" BASIS,\n",
       "// WITHOUT WARRANTIES OR CONDITIONS OF ANY KIND, either express or implied.\n",
       "// See the License for the specific language governing permissions and\n",
       "// limitations under the License.\n",
       "\n",
       "/**\n",
       " * @fileoverview Helpers for google.colab Python module.\n",
       " */\n",
       "(function(scope) {\n",
       "function span(text, styleAttributes = {}) {\n",
       "  const element = document.createElement('span');\n",
       "  element.textContent = text;\n",
       "  for (const key of Object.keys(styleAttributes)) {\n",
       "    element.style[key] = styleAttributes[key];\n",
       "  }\n",
       "  return element;\n",
       "}\n",
       "\n",
       "// Max number of bytes which will be uploaded at a time.\n",
       "const MAX_PAYLOAD_SIZE = 100 * 1024;\n",
       "\n",
       "function _uploadFiles(inputId, outputId) {\n",
       "  const steps = uploadFilesStep(inputId, outputId);\n",
       "  const outputElement = document.getElementById(outputId);\n",
       "  // Cache steps on the outputElement to make it available for the next call\n",
       "  // to uploadFilesContinue from Python.\n",
       "  outputElement.steps = steps;\n",
       "\n",
       "  return _uploadFilesContinue(outputId);\n",
       "}\n",
       "\n",
       "// This is roughly an async generator (not supported in the browser yet),\n",
       "// where there are multiple asynchronous steps and the Python side is going\n",
       "// to poll for completion of each step.\n",
       "// This uses a Promise to block the python side on completion of each step,\n",
       "// then passes the result of the previous step as the input to the next step.\n",
       "function _uploadFilesContinue(outputId) {\n",
       "  const outputElement = document.getElementById(outputId);\n",
       "  const steps = outputElement.steps;\n",
       "\n",
       "  const next = steps.next(outputElement.lastPromiseValue);\n",
       "  return Promise.resolve(next.value.promise).then((value) => {\n",
       "    // Cache the last promise value to make it available to the next\n",
       "    // step of the generator.\n",
       "    outputElement.lastPromiseValue = value;\n",
       "    return next.value.response;\n",
       "  });\n",
       "}\n",
       "\n",
       "/**\n",
       " * Generator function which is called between each async step of the upload\n",
       " * process.\n",
       " * @param {string} inputId Element ID of the input file picker element.\n",
       " * @param {string} outputId Element ID of the output display.\n",
       " * @return {!Iterable<!Object>} Iterable of next steps.\n",
       " */\n",
       "function* uploadFilesStep(inputId, outputId) {\n",
       "  const inputElement = document.getElementById(inputId);\n",
       "  inputElement.disabled = false;\n",
       "\n",
       "  const outputElement = document.getElementById(outputId);\n",
       "  outputElement.innerHTML = '';\n",
       "\n",
       "  const pickedPromise = new Promise((resolve) => {\n",
       "    inputElement.addEventListener('change', (e) => {\n",
       "      resolve(e.target.files);\n",
       "    });\n",
       "  });\n",
       "\n",
       "  const cancel = document.createElement('button');\n",
       "  inputElement.parentElement.appendChild(cancel);\n",
       "  cancel.textContent = 'Cancel upload';\n",
       "  const cancelPromise = new Promise((resolve) => {\n",
       "    cancel.onclick = () => {\n",
       "      resolve(null);\n",
       "    };\n",
       "  });\n",
       "\n",
       "  // Wait for the user to pick the files.\n",
       "  const files = yield {\n",
       "    promise: Promise.race([pickedPromise, cancelPromise]),\n",
       "    response: {\n",
       "      action: 'starting',\n",
       "    }\n",
       "  };\n",
       "\n",
       "  cancel.remove();\n",
       "\n",
       "  // Disable the input element since further picks are not allowed.\n",
       "  inputElement.disabled = true;\n",
       "\n",
       "  if (!files) {\n",
       "    return {\n",
       "      response: {\n",
       "        action: 'complete',\n",
       "      }\n",
       "    };\n",
       "  }\n",
       "\n",
       "  for (const file of files) {\n",
       "    const li = document.createElement('li');\n",
       "    li.append(span(file.name, {fontWeight: 'bold'}));\n",
       "    li.append(span(\n",
       "        `(${file.type || 'n/a'}) - ${file.size} bytes, ` +\n",
       "        `last modified: ${\n",
       "            file.lastModifiedDate ? file.lastModifiedDate.toLocaleDateString() :\n",
       "                                    'n/a'} - `));\n",
       "    const percent = span('0% done');\n",
       "    li.appendChild(percent);\n",
       "\n",
       "    outputElement.appendChild(li);\n",
       "\n",
       "    const fileDataPromise = new Promise((resolve) => {\n",
       "      const reader = new FileReader();\n",
       "      reader.onload = (e) => {\n",
       "        resolve(e.target.result);\n",
       "      };\n",
       "      reader.readAsArrayBuffer(file);\n",
       "    });\n",
       "    // Wait for the data to be ready.\n",
       "    let fileData = yield {\n",
       "      promise: fileDataPromise,\n",
       "      response: {\n",
       "        action: 'continue',\n",
       "      }\n",
       "    };\n",
       "\n",
       "    // Use a chunked sending to avoid message size limits. See b/62115660.\n",
       "    let position = 0;\n",
       "    do {\n",
       "      const length = Math.min(fileData.byteLength - position, MAX_PAYLOAD_SIZE);\n",
       "      const chunk = new Uint8Array(fileData, position, length);\n",
       "      position += length;\n",
       "\n",
       "      const base64 = btoa(String.fromCharCode.apply(null, chunk));\n",
       "      yield {\n",
       "        response: {\n",
       "          action: 'append',\n",
       "          file: file.name,\n",
       "          data: base64,\n",
       "        },\n",
       "      };\n",
       "\n",
       "      let percentDone = fileData.byteLength === 0 ?\n",
       "          100 :\n",
       "          Math.round((position / fileData.byteLength) * 100);\n",
       "      percent.textContent = `${percentDone}% done`;\n",
       "\n",
       "    } while (position < fileData.byteLength);\n",
       "  }\n",
       "\n",
       "  // All done.\n",
       "  yield {\n",
       "    response: {\n",
       "      action: 'complete',\n",
       "    }\n",
       "  };\n",
       "}\n",
       "\n",
       "scope.google = scope.google || {};\n",
       "scope.google.colab = scope.google.colab || {};\n",
       "scope.google.colab._files = {\n",
       "  _uploadFiles,\n",
       "  _uploadFilesContinue,\n",
       "};\n",
       "})(self);\n",
       "</script> "
      ],
      "text/plain": [
       "<IPython.core.display.HTML object>"
      ]
     },
     "metadata": {},
     "output_type": "display_data"
    },
    {
     "name": "stdout",
     "output_type": "stream",
     "text": [
      "Saving CreditDefault_Xtest.csv to CreditDefault_Xtest.csv\n"
     ]
    }
   ],
   "source": [
    "uploaded = files.upload()\n",
    "df_test = pd.read_csv(io.BytesIO(uploaded['CreditDefault_Xtest.csv']))"
   ]
  },
  {
   "cell_type": "code",
   "execution_count": null,
   "metadata": {
    "id": "FjelmmpKVQr9"
   },
   "outputs": [],
   "source": [
    "# Split data into X (features) and y (target)\n",
    "df_training_y = df_training['default.payment.next.month']\n",
    "df_training_xs = df_training.drop('default.payment.next.month', axis=1)\n",
    "# Please make sure y is in a one-hot representation\n"
   ]
  },
  {
   "cell_type": "code",
   "execution_count": null,
   "metadata": {
    "id": "jIM6kitQbhoe"
   },
   "outputs": [],
   "source": [
    "# Standardization\n",
    "from sklearn.preprocessing import StandardScaler\n",
    "std_scaler = StandardScaler()\n",
    "\n",
    "\n",
    "# Training Dataset\n",
    "# Selecting numerical data in training dataset\n",
    "df_training_numerical = df_training_xs[df_training_xs.columns.difference(['SEX', 'EDUCATION', 'MARRIAGE', 'PAY_1', 'PAY_2', 'PAY_3', 'PAY_4', 'PAY_5', 'PAY_6'])]\n",
    "\n",
    "# Applying StandardScaler - training dataset\n",
    "training_numerical_x_scaled = std_scaler.fit_transform(df_training_numerical)\n",
    "\n",
    "# Convert to DataFrame\n",
    "numerical_scaled_training_x_df = pd.DataFrame(training_numerical_x_scaled, columns=df_training_numerical.columns)\n",
    "\n",
    "\n",
    "# Test Dataset\n",
    "# Selecting numerical data in test dataset\n",
    "df_test_numerical = df_test[df_test.columns.difference(['SEX', 'EDUCATION', 'MARRIAGE', 'PAY_1', 'PAY_2', 'PAY_3', 'PAY_4', 'PAY_5', 'PAY_6'])]\n",
    "\n",
    "# Applying StandardScaler\n",
    "test_numerical_x_scaled = std_scaler.fit_transform(df_test_numerical)\n",
    "\n",
    "# Convert to DataFrame\n",
    "numerical_scaled_test_df = pd.DataFrame(test_numerical_x_scaled, columns=df_test_numerical.columns)\n"
   ]
  },
  {
   "cell_type": "code",
   "execution_count": null,
   "metadata": {
    "colab": {
     "base_uri": "https://localhost:8080/"
    },
    "id": "zBEQaiZuNovI",
    "outputId": "76cc42e1-52b4-466c-fd08-f9439ef62012"
   },
   "outputs": [
    {
     "name": "stderr",
     "output_type": "stream",
     "text": [
      "/usr/local/lib/python3.10/dist-packages/sklearn/preprocessing/_encoders.py:868: FutureWarning: `sparse` was renamed to `sparse_output` in version 1.2 and will be removed in 1.4. `sparse_output` is ignored unless you leave `sparse` to its default value.\n",
      "  warnings.warn(\n",
      "/usr/local/lib/python3.10/dist-packages/sklearn/preprocessing/_encoders.py:868: FutureWarning: `sparse` was renamed to `sparse_output` in version 1.2 and will be removed in 1.4. `sparse_output` is ignored unless you leave `sparse` to its default value.\n",
      "  warnings.warn(\n"
     ]
    }
   ],
   "source": [
    "# One-Hot Encoding\n",
    "\n",
    "from sklearn.preprocessing import OneHotEncoder\n",
    "\n",
    "# Training dataset\n",
    "# Selecting categorical data\n",
    "categorical_data_training = df_training_xs[['SEX', 'EDUCATION', 'MARRIAGE', 'PAY_1', 'PAY_2', 'PAY_3', 'PAY_4', 'PAY_5', 'PAY_6']]\n",
    "\n",
    "# Applying OneHotEncoder\n",
    "encoder = OneHotEncoder(sparse=False)\n",
    "categorical_encoded_training = encoder.fit_transform(categorical_data_training)\n",
    "\n",
    "# Convert to DataFrame\n",
    "categorical_encoded_training_df = pd.DataFrame(categorical_encoded_training, columns=encoder.get_feature_names_out(categorical_data_training.columns))\n",
    "\n",
    "\n",
    "\n",
    "# Test Dataset\n",
    "# Selecting categorical data\n",
    "categorical_data_test = df_test[['SEX', 'EDUCATION', 'MARRIAGE', 'PAY_1', 'PAY_2', 'PAY_3', 'PAY_4', 'PAY_5', 'PAY_6']]\n",
    "\n",
    "# Applying OneHotEncoder\n",
    "encoder = OneHotEncoder(sparse=False)\n",
    "categorical_encoded_test = encoder.fit_transform(categorical_data_test)\n",
    "\n",
    "# Convert to DataFrame\n",
    "categorical_encoded_test_df = pd.DataFrame(categorical_encoded_test, columns=encoder.get_feature_names_out(categorical_data_test.columns))\n",
    "\n"
   ]
  },
  {
   "cell_type": "code",
   "execution_count": null,
   "metadata": {
    "id": "c4IXlqrMNpGh"
   },
   "outputs": [],
   "source": [
    "# Merging into Combined dataframe\n",
    "\n",
    "# Training Dataset\n",
    "#Merge the training data to have everything on one place\n",
    "categorical_encoded_training_df\n",
    "numerical_scaled_training_x_df\n",
    "\n",
    "# Resetting index to align the dataframes before combining\n",
    "categorical_encoded_training_df.reset_index(drop=True, inplace=True)\n",
    "numerical_scaled_training_x_df.reset_index(drop=True, inplace=True)\n",
    "\n",
    "# Combining encoded categorical data and scaled numerical data\n",
    "combined_df_x_training = pd.concat([numerical_scaled_training_x_df, categorical_encoded_training_df], axis=1)\n",
    "\n",
    "\n",
    "# Test Dataset\n",
    "#Merge the test data to have everything on one place\n",
    "numerical_scaled_test_df\n",
    "categorical_encoded_test_df\n",
    "\n",
    "# Resetting index to align the dataframes before combining\n",
    "categorical_encoded_test_df.reset_index(drop=True, inplace=True)\n",
    "numerical_scaled_test_df.reset_index(drop=True, inplace=True)\n",
    "\n",
    "# Combining encoded categorical data and scaled numerical data\n",
    "combined_df_test = pd.concat([numerical_scaled_test_df, categorical_encoded_test_df], axis=1)"
   ]
  },
  {
   "cell_type": "code",
   "execution_count": null,
   "metadata": {
    "id": "RO0USNU2V8RY"
   },
   "outputs": [],
   "source": [
    "# Split data into training and validation set (the code has been provided)\n",
    "from sklearn.model_selection import train_test_split\n",
    "X_train, X_val, y_train, y_val = train_test_split(combined_df_x_training, df_training_y, test_size=0.3, random_state=42)"
   ]
  },
  {
   "cell_type": "code",
   "execution_count": null,
   "metadata": {
    "id": "qH_bqCRDeK9G"
   },
   "outputs": [],
   "source": [
    "from tensorflow.keras.utils import to_categorical\n",
    "\n",
    "y_train_vectorized = to_categorical(y_train)"
   ]
  },
  {
   "cell_type": "code",
   "execution_count": null,
   "metadata": {
    "colab": {
     "base_uri": "https://localhost:8080/"
    },
    "id": "csifFJTU_guc",
    "outputId": "66314d16-11ec-41d7-a70f-ea36c79a8041"
   },
   "outputs": [
    {
     "data": {
      "text/plain": [
       "(2789, 82)"
      ]
     },
     "execution_count": 11,
     "metadata": {},
     "output_type": "execute_result"
    }
   ],
   "source": [
    "# Print out the shape of X_train\n",
    "X_train.shape"
   ]
  },
  {
   "cell_type": "code",
   "execution_count": null,
   "metadata": {
    "colab": {
     "base_uri": "https://localhost:8080/"
    },
    "id": "uebP5S1mvOM6",
    "outputId": "cd609451-dd5c-4f20-bc3b-48f4c381ccd2"
   },
   "outputs": [
    {
     "data": {
      "text/plain": [
       "(1196, 82)"
      ]
     },
     "execution_count": 12,
     "metadata": {},
     "output_type": "execute_result"
    }
   ],
   "source": [
    "X_val.shape # Shape of validation set (X_val)"
   ]
  },
  {
   "cell_type": "code",
   "execution_count": null,
   "metadata": {
    "colab": {
     "base_uri": "https://localhost:8080/"
    },
    "id": "PoT5QYh1xY7F",
    "outputId": "4b1a9c9c-d1a4-43ec-ccf1-74eca66e0749"
   },
   "outputs": [
    {
     "data": {
      "text/plain": [
       "(2789,)"
      ]
     },
     "execution_count": 13,
     "metadata": {},
     "output_type": "execute_result"
    }
   ],
   "source": [
    "y_train.shape"
   ]
  },
  {
   "cell_type": "code",
   "execution_count": null,
   "metadata": {
    "colab": {
     "base_uri": "https://localhost:8080/"
    },
    "id": "mYRs_7jZ1mYE",
    "outputId": "2ad33e39-d7cf-457d-e374-81bbe7fd88b6"
   },
   "outputs": [
    {
     "data": {
      "text/plain": [
       "(2789, 2)"
      ]
     },
     "execution_count": 14,
     "metadata": {},
     "output_type": "execute_result"
    }
   ],
   "source": [
    "y_train_vectorized.shape"
   ]
  },
  {
   "cell_type": "code",
   "execution_count": null,
   "metadata": {
    "colab": {
     "base_uri": "https://localhost:8080/"
    },
    "id": "jCwDqAgJxZks",
    "outputId": "7142bd4b-36ed-4eb5-cd4a-d403fe0e8d86"
   },
   "outputs": [
    {
     "data": {
      "text/plain": [
       "(1196,)"
      ]
     },
     "execution_count": 15,
     "metadata": {},
     "output_type": "execute_result"
    }
   ],
   "source": [
    "y_val.shape"
   ]
  },
  {
   "cell_type": "markdown",
   "metadata": {
    "id": "rjU9XpBcB62E"
   },
   "source": [
    "The dataset is highly imbalanced, as around 77% of the observations in the training set and 78% of the observations in the validation set are non-default."
   ]
  },
  {
   "cell_type": "code",
   "execution_count": null,
   "metadata": {
    "colab": {
     "base_uri": "https://localhost:8080/"
    },
    "id": "2h8qWcZBkIzE",
    "outputId": "735e13ba-12ab-4ae2-9e06-c0362ef4c15c"
   },
   "outputs": [
    {
     "data": {
      "text/plain": [
       "0.225752508361204"
      ]
     },
     "execution_count": 16,
     "metadata": {},
     "output_type": "execute_result"
    }
   ],
   "source": [
    "y_val.sum()/y_val.shape[0]"
   ]
  },
  {
   "cell_type": "code",
   "execution_count": null,
   "metadata": {
    "colab": {
     "base_uri": "https://localhost:8080/"
    },
    "id": "SFprEG45kUYD",
    "outputId": "6edf8dcf-b981-490e-8462-b43313255067"
   },
   "outputs": [
    {
     "data": {
      "text/plain": [
       "0.23305844388669775"
      ]
     },
     "execution_count": 17,
     "metadata": {},
     "output_type": "execute_result"
    }
   ],
   "source": [
    "y_train.sum()/y_train.shape[0]"
   ]
  },
  {
   "cell_type": "markdown",
   "metadata": {
    "id": "BScpBTLeYsDE"
   },
   "source": [
    "Q2. Build a neural network to predict the output in the \"CreditDefault_training.csv\". The architecture choice is up to you, but you are required to use Dense layers and dropout layers only.\n",
    "\n",
    "You can try different number of layers, different number of units in layers and experiment with hyperparameters.\n",
    "\n",
    "To include regularization, you can include a dropout layer after a hidden layer. In dropout layer, you can randomly set a fraction rate of input units to 0 at each update during training time, which helps prevent overfitting.\n",
    "\n",
    "Please use 'relu' activation function for all intermediate layers.\n",
    "\n",
    "Please build your model in the build_final_model() function"
   ]
  },
  {
   "cell_type": "markdown",
   "metadata": {
    "id": "t3ncQDyJCUI_"
   },
   "source": [
    "# Procedure for selecting Neural Network Architecture\n",
    "\n",
    "We followed a two-phase approach to select the most suitable neural network architecture:-\n",
    "\n",
    "1. Focusing on improving predictions on training set by just considering dense layers\n",
    "2. Adding in dropout layers to handle overfitting and improve fit on the validation set\n",
    "\n",
    "### Phase 1 - Improving fit on training set\n",
    "\n",
    "We went through a set of architectures, starting with fewer layers and then increasingly increasing the number of layers to fit the training data better. The foll. summary gives an idea about how the different arhitectures performed:-</br>\n",
    "\n",
    "Training set Metrics (Precision, Recall, Accuracy, F1, AUC) in order</br>\n",
    "- Architecture 1 (32, 16) - 0.68, 0.46, 0.83, 0.55, 0.83\n",
    "- Architecture 2 (64, 32, 16) - 0.76, 0.48, 0.84, 0.59, 0.87\n",
    "- Architecture 3 (128, 64, 32) -  0.81, 0.76, 0.90, 0.78, 0.95\n",
    "- Architecture 4 - (256, 128, 64, 32) - 0.87, 0.86, 0.94, 0.87, 0.98\n",
    "- Architecture 5 - (512, 256, 128, 64, 32) - 0.73, 0.96, 0.91, 0.83, 0.99\n",
    "\n",
    "Based on these performances, we felt that Architecture 4 would be the most suitable as adding more layers beyond that did not have much effect on the training fit. </br>\n",
    "\n",
    "### Phase 2 - Improving fit on validation set\n",
    "\n",
    "To reduce overfitting and improve accuracy on validation set, we added dropout layers after each hidden layer, with different dropout rates. We found that a rdropout rate of 0.5 was the most suitable to optimize performance on validation set.</br>\n",
    "\n",
    "Hence, our final model consists of 4 hidden layers with 256, 128, 64, and 32 neurons respectively, and dropout layers after each of these with a dropout rate of 0.5, followed by an output layer with softmax activation function."
   ]
  },
  {
   "cell_type": "code",
   "execution_count": null,
   "metadata": {
    "id": "HJ2jpZpe_guc"
   },
   "outputs": [],
   "source": [
    "def build_final_model():\n",
    "    model = Sequential()\n",
    "    ### YOUR CODE HERE ###\n",
    "\n",
    "    # First add fully-connected (Dense) hidden layers with appropriate input dimension\n",
    "    model.add(Dense(units=256, input_dim=82, activation='relu'))\n",
    "    model.add(Dropout(rate=0.5))\n",
    "\n",
    "    model.add(Dense(units=128, activation='relu'))\n",
    "    model.add(Dropout(rate=0.5))\n",
    "\n",
    "    model.add(Dense(units=64, activation='relu'))\n",
    "    model.add(Dropout(rate=0.5))\n",
    "\n",
    "    model.add(Dense(units=32, activation='relu'))\n",
    "    model.add(Dropout(rate=0.5))\n",
    "\n",
    "\n",
    "    # Finally, add a readout layer\n",
    "    model.add(Dense(units=2, activation='softmax'))\n",
    "\n",
    "    ######################\n",
    "    sgd = SGD(learning_rate=0.001, decay=1e-7, momentum=.9)  # Stochastic gradient descent\n",
    "    model.compile(loss='categorical_crossentropy', optimizer=sgd, metrics=[\"accuracy\"])\n",
    "\n",
    "\n",
    "    return model"
   ]
  },
  {
   "cell_type": "code",
   "execution_count": null,
   "metadata": {
    "id": "AHSeeBL9_guc"
   },
   "outputs": [],
   "source": [
    "model = build_final_model()"
   ]
  },
  {
   "cell_type": "markdown",
   "metadata": {
    "id": "_l0iekg-eAYF"
   },
   "source": [
    "Q3. Fit the model by training set with epochs=100, batch_size=32"
   ]
  },
  {
   "cell_type": "code",
   "execution_count": null,
   "metadata": {
    "colab": {
     "base_uri": "https://localhost:8080/"
    },
    "id": "biZD8E6Q_guc",
    "outputId": "ef405a06-7ffb-49b9-f4a6-235f6a3fbc23",
    "scrolled": true
   },
   "outputs": [
    {
     "name": "stdout",
     "output_type": "stream",
     "text": [
      "Epoch 1/100\n",
      "88/88 [==============================] - 1s 4ms/step - loss: 0.6480 - accuracy: 0.6780\n",
      "Epoch 2/100\n",
      "88/88 [==============================] - 0s 3ms/step - loss: 0.5843 - accuracy: 0.7454\n",
      "Epoch 3/100\n",
      "88/88 [==============================] - 0s 3ms/step - loss: 0.5686 - accuracy: 0.7551\n",
      "Epoch 4/100\n",
      "88/88 [==============================] - 0s 3ms/step - loss: 0.5565 - accuracy: 0.7601\n",
      "Epoch 5/100\n",
      "88/88 [==============================] - 0s 4ms/step - loss: 0.5682 - accuracy: 0.7619\n",
      "Epoch 6/100\n",
      "88/88 [==============================] - 0s 3ms/step - loss: 0.5540 - accuracy: 0.7648\n",
      "Epoch 7/100\n",
      "88/88 [==============================] - 0s 3ms/step - loss: 0.5497 - accuracy: 0.7644\n",
      "Epoch 8/100\n",
      "88/88 [==============================] - 0s 4ms/step - loss: 0.5536 - accuracy: 0.7659\n",
      "Epoch 9/100\n",
      "88/88 [==============================] - 0s 4ms/step - loss: 0.5482 - accuracy: 0.7644\n",
      "Epoch 10/100\n",
      "88/88 [==============================] - 0s 4ms/step - loss: 0.5424 - accuracy: 0.7648\n",
      "Epoch 11/100\n",
      "88/88 [==============================] - 0s 4ms/step - loss: 0.5417 - accuracy: 0.7659\n",
      "Epoch 12/100\n",
      "88/88 [==============================] - 0s 5ms/step - loss: 0.5374 - accuracy: 0.7655\n",
      "Epoch 13/100\n",
      "88/88 [==============================] - 0s 5ms/step - loss: 0.5318 - accuracy: 0.7651\n",
      "Epoch 14/100\n",
      "88/88 [==============================] - 0s 5ms/step - loss: 0.5327 - accuracy: 0.7673\n",
      "Epoch 15/100\n",
      "88/88 [==============================] - 1s 6ms/step - loss: 0.5252 - accuracy: 0.7662\n",
      "Epoch 16/100\n",
      "88/88 [==============================] - 1s 6ms/step - loss: 0.5328 - accuracy: 0.7666\n",
      "Epoch 17/100\n",
      "88/88 [==============================] - 0s 5ms/step - loss: 0.5236 - accuracy: 0.7655\n",
      "Epoch 18/100\n",
      "88/88 [==============================] - 1s 6ms/step - loss: 0.5238 - accuracy: 0.7669\n",
      "Epoch 19/100\n",
      "88/88 [==============================] - 0s 5ms/step - loss: 0.5200 - accuracy: 0.7659\n",
      "Epoch 20/100\n",
      "88/88 [==============================] - 0s 4ms/step - loss: 0.5224 - accuracy: 0.7659\n",
      "Epoch 21/100\n",
      "88/88 [==============================] - 1s 8ms/step - loss: 0.5219 - accuracy: 0.7666\n",
      "Epoch 22/100\n",
      "88/88 [==============================] - 1s 7ms/step - loss: 0.5160 - accuracy: 0.7662\n",
      "Epoch 23/100\n",
      "88/88 [==============================] - 1s 6ms/step - loss: 0.5202 - accuracy: 0.7659\n",
      "Epoch 24/100\n",
      "88/88 [==============================] - 1s 7ms/step - loss: 0.5185 - accuracy: 0.7673\n",
      "Epoch 25/100\n",
      "88/88 [==============================] - 1s 9ms/step - loss: 0.5117 - accuracy: 0.7691\n",
      "Epoch 26/100\n",
      "88/88 [==============================] - 1s 12ms/step - loss: 0.5146 - accuracy: 0.7655\n",
      "Epoch 27/100\n",
      "88/88 [==============================] - 1s 8ms/step - loss: 0.5084 - accuracy: 0.7659\n",
      "Epoch 28/100\n",
      "88/88 [==============================] - 1s 13ms/step - loss: 0.5034 - accuracy: 0.7680\n",
      "Epoch 29/100\n",
      "88/88 [==============================] - 1s 11ms/step - loss: 0.5080 - accuracy: 0.7684\n",
      "Epoch 30/100\n",
      "88/88 [==============================] - 1s 7ms/step - loss: 0.5028 - accuracy: 0.7712\n",
      "Epoch 31/100\n",
      "88/88 [==============================] - 1s 8ms/step - loss: 0.5165 - accuracy: 0.7619\n",
      "Epoch 32/100\n",
      "88/88 [==============================] - 1s 8ms/step - loss: 0.5045 - accuracy: 0.7691\n",
      "Epoch 33/100\n",
      "88/88 [==============================] - 1s 9ms/step - loss: 0.5049 - accuracy: 0.7677\n",
      "Epoch 34/100\n",
      "88/88 [==============================] - 1s 9ms/step - loss: 0.5017 - accuracy: 0.7655\n",
      "Epoch 35/100\n",
      "88/88 [==============================] - 1s 12ms/step - loss: 0.4968 - accuracy: 0.7687\n",
      "Epoch 36/100\n",
      "88/88 [==============================] - 1s 12ms/step - loss: 0.4992 - accuracy: 0.7712\n",
      "Epoch 37/100\n",
      "88/88 [==============================] - 1s 13ms/step - loss: 0.4986 - accuracy: 0.7734\n",
      "Epoch 38/100\n",
      "88/88 [==============================] - 1s 9ms/step - loss: 0.5007 - accuracy: 0.7716\n",
      "Epoch 39/100\n",
      "88/88 [==============================] - 1s 7ms/step - loss: 0.4916 - accuracy: 0.7680\n",
      "Epoch 40/100\n",
      "88/88 [==============================] - 0s 5ms/step - loss: 0.4929 - accuracy: 0.7730\n",
      "Epoch 41/100\n",
      "88/88 [==============================] - 1s 9ms/step - loss: 0.4921 - accuracy: 0.7716\n",
      "Epoch 42/100\n",
      "88/88 [==============================] - 1s 7ms/step - loss: 0.4832 - accuracy: 0.7777\n",
      "Epoch 43/100\n",
      "88/88 [==============================] - 1s 6ms/step - loss: 0.4844 - accuracy: 0.7766\n",
      "Epoch 44/100\n",
      "88/88 [==============================] - 1s 9ms/step - loss: 0.4876 - accuracy: 0.7748\n",
      "Epoch 45/100\n",
      "88/88 [==============================] - 1s 8ms/step - loss: 0.4869 - accuracy: 0.7755\n",
      "Epoch 46/100\n",
      "88/88 [==============================] - 1s 6ms/step - loss: 0.4911 - accuracy: 0.7738\n",
      "Epoch 47/100\n",
      "88/88 [==============================] - 1s 9ms/step - loss: 0.4838 - accuracy: 0.7741\n",
      "Epoch 48/100\n",
      "88/88 [==============================] - 1s 7ms/step - loss: 0.4865 - accuracy: 0.7759\n",
      "Epoch 49/100\n",
      "88/88 [==============================] - 1s 6ms/step - loss: 0.4790 - accuracy: 0.7842\n",
      "Epoch 50/100\n",
      "88/88 [==============================] - 1s 7ms/step - loss: 0.4878 - accuracy: 0.7748\n",
      "Epoch 51/100\n",
      "88/88 [==============================] - 0s 6ms/step - loss: 0.4769 - accuracy: 0.7820\n",
      "Epoch 52/100\n",
      "88/88 [==============================] - 1s 6ms/step - loss: 0.4768 - accuracy: 0.7834\n",
      "Epoch 53/100\n",
      "88/88 [==============================] - 1s 6ms/step - loss: 0.4824 - accuracy: 0.7770\n",
      "Epoch 54/100\n",
      "88/88 [==============================] - 1s 8ms/step - loss: 0.4901 - accuracy: 0.7748\n",
      "Epoch 55/100\n",
      "88/88 [==============================] - 1s 9ms/step - loss: 0.4737 - accuracy: 0.7827\n",
      "Epoch 56/100\n",
      "88/88 [==============================] - 1s 10ms/step - loss: 0.4781 - accuracy: 0.7834\n",
      "Epoch 57/100\n",
      "88/88 [==============================] - 1s 10ms/step - loss: 0.4615 - accuracy: 0.7910\n",
      "Epoch 58/100\n",
      "88/88 [==============================] - 1s 10ms/step - loss: 0.4664 - accuracy: 0.7899\n",
      "Epoch 59/100\n",
      "88/88 [==============================] - 0s 5ms/step - loss: 0.4790 - accuracy: 0.7856\n",
      "Epoch 60/100\n",
      "88/88 [==============================] - 0s 4ms/step - loss: 0.4704 - accuracy: 0.7895\n",
      "Epoch 61/100\n",
      "88/88 [==============================] - 0s 3ms/step - loss: 0.4782 - accuracy: 0.7824\n",
      "Epoch 62/100\n",
      "88/88 [==============================] - 0s 3ms/step - loss: 0.4745 - accuracy: 0.7816\n",
      "Epoch 63/100\n",
      "88/88 [==============================] - 0s 3ms/step - loss: 0.4755 - accuracy: 0.7920\n",
      "Epoch 64/100\n",
      "88/88 [==============================] - 0s 3ms/step - loss: 0.4793 - accuracy: 0.7867\n",
      "Epoch 65/100\n",
      "88/88 [==============================] - 0s 3ms/step - loss: 0.4748 - accuracy: 0.7777\n",
      "Epoch 66/100\n",
      "88/88 [==============================] - 0s 3ms/step - loss: 0.4662 - accuracy: 0.7917\n",
      "Epoch 67/100\n",
      "88/88 [==============================] - 0s 3ms/step - loss: 0.4710 - accuracy: 0.7834\n",
      "Epoch 68/100\n",
      "88/88 [==============================] - 0s 4ms/step - loss: 0.4760 - accuracy: 0.7867\n",
      "Epoch 69/100\n",
      "88/88 [==============================] - 0s 3ms/step - loss: 0.4703 - accuracy: 0.7806\n",
      "Epoch 70/100\n",
      "88/88 [==============================] - 1s 8ms/step - loss: 0.4717 - accuracy: 0.7917\n",
      "Epoch 71/100\n",
      "88/88 [==============================] - 1s 7ms/step - loss: 0.4713 - accuracy: 0.7820\n",
      "Epoch 72/100\n",
      "88/88 [==============================] - 1s 6ms/step - loss: 0.4683 - accuracy: 0.7849\n",
      "Epoch 73/100\n",
      "88/88 [==============================] - 0s 4ms/step - loss: 0.4577 - accuracy: 0.7967\n",
      "Epoch 74/100\n",
      "88/88 [==============================] - 0s 4ms/step - loss: 0.4704 - accuracy: 0.7931\n",
      "Epoch 75/100\n",
      "88/88 [==============================] - 1s 9ms/step - loss: 0.4647 - accuracy: 0.7949\n",
      "Epoch 76/100\n",
      "88/88 [==============================] - 1s 9ms/step - loss: 0.4664 - accuracy: 0.7885\n",
      "Epoch 77/100\n",
      "88/88 [==============================] - 1s 7ms/step - loss: 0.4645 - accuracy: 0.7874\n",
      "Epoch 78/100\n",
      "88/88 [==============================] - 1s 7ms/step - loss: 0.4673 - accuracy: 0.7881\n",
      "Epoch 79/100\n",
      "88/88 [==============================] - 1s 7ms/step - loss: 0.4701 - accuracy: 0.7942\n",
      "Epoch 80/100\n",
      "88/88 [==============================] - 1s 7ms/step - loss: 0.4646 - accuracy: 0.7938\n",
      "Epoch 81/100\n",
      "88/88 [==============================] - 1s 8ms/step - loss: 0.4604 - accuracy: 0.7895\n",
      "Epoch 82/100\n",
      "88/88 [==============================] - 1s 6ms/step - loss: 0.4566 - accuracy: 0.7920\n",
      "Epoch 83/100\n",
      "88/88 [==============================] - 1s 9ms/step - loss: 0.4653 - accuracy: 0.7942\n",
      "Epoch 84/100\n",
      "88/88 [==============================] - 1s 10ms/step - loss: 0.4614 - accuracy: 0.7938\n",
      "Epoch 85/100\n",
      "88/88 [==============================] - 1s 6ms/step - loss: 0.4602 - accuracy: 0.8003\n",
      "Epoch 86/100\n",
      "88/88 [==============================] - 1s 9ms/step - loss: 0.4594 - accuracy: 0.7920\n",
      "Epoch 87/100\n",
      "88/88 [==============================] - 1s 9ms/step - loss: 0.4626 - accuracy: 0.7924\n",
      "Epoch 88/100\n",
      "88/88 [==============================] - 0s 4ms/step - loss: 0.4653 - accuracy: 0.7967\n",
      "Epoch 89/100\n",
      "88/88 [==============================] - 0s 5ms/step - loss: 0.4620 - accuracy: 0.7870\n",
      "Epoch 90/100\n",
      "88/88 [==============================] - 0s 5ms/step - loss: 0.4638 - accuracy: 0.7899\n",
      "Epoch 91/100\n",
      "88/88 [==============================] - 1s 7ms/step - loss: 0.4585 - accuracy: 0.7971\n",
      "Epoch 92/100\n",
      "88/88 [==============================] - 1s 6ms/step - loss: 0.4588 - accuracy: 0.7931\n",
      "Epoch 93/100\n",
      "88/88 [==============================] - 0s 5ms/step - loss: 0.4596 - accuracy: 0.7946\n",
      "Epoch 94/100\n",
      "88/88 [==============================] - 1s 6ms/step - loss: 0.4654 - accuracy: 0.7971\n",
      "Epoch 95/100\n",
      "88/88 [==============================] - 1s 6ms/step - loss: 0.4632 - accuracy: 0.7956\n",
      "Epoch 96/100\n",
      "88/88 [==============================] - 1s 6ms/step - loss: 0.4560 - accuracy: 0.7935\n",
      "Epoch 97/100\n",
      "88/88 [==============================] - 0s 4ms/step - loss: 0.4591 - accuracy: 0.7942\n",
      "Epoch 98/100\n",
      "88/88 [==============================] - 0s 4ms/step - loss: 0.4504 - accuracy: 0.7949\n",
      "Epoch 99/100\n",
      "88/88 [==============================] - 0s 5ms/step - loss: 0.4525 - accuracy: 0.8067\n",
      "Epoch 100/100\n",
      "88/88 [==============================] - 0s 5ms/step - loss: 0.4576 - accuracy: 0.7971\n"
     ]
    },
    {
     "data": {
      "text/plain": [
       "<keras.src.callbacks.History at 0x7b7dd6f8bf40>"
      ]
     },
     "execution_count": 21,
     "metadata": {},
     "output_type": "execute_result"
    }
   ],
   "source": [
    "### YOUR CODE HERE ###\n",
    "model.fit(X_train, y_train_vectorized, batch_size=32, epochs=100)"
   ]
  },
  {
   "cell_type": "markdown",
   "metadata": {
    "id": "SiF2xX_uenJn"
   },
   "source": [
    "Q4. Obtain predictions on validation set and print accuracy, precision & recall and F1 score.\n",
    "\n",
    "F1 = 2 * (precision * recall) / (precision + recall)"
   ]
  },
  {
   "cell_type": "code",
   "execution_count": null,
   "metadata": {
    "id": "jghwnwcL_guc"
   },
   "outputs": [],
   "source": [
    "def precision(y, y_preds): #TP/(TP+FP)\n",
    "\n",
    "  TP = np.sum((y_preds == 1) & (y == 1))\n",
    "  FP = np.sum((y_preds == 1) & (y == 0))\n",
    "  TN = np.sum((y_preds == 0) & (y == 0))\n",
    "  FN = np.sum((y_preds == 0) & (y == 1))\n",
    "\n",
    "  return TP/(TP + FP)\n",
    "\n",
    "def recall(y, y_preds): #TP/(TP+FN)\n",
    "\n",
    "  TP = np.sum((y_preds == 1) & (y == 1))\n",
    "  FP = np.sum((y_preds == 1) & (y == 0))\n",
    "  TN = np.sum((y_preds == 0) & (y == 0))\n",
    "  FN = np.sum((y_preds == 0) & (y == 1))\n",
    "\n",
    "  return TP/(TP + FN)\n",
    "\n",
    "def accuracy(y, y_preds): #(TP+TN)/(TP+TN+FP+FN)\n",
    "\n",
    "  TP = np.sum((y_preds == 1) & (y == 1))\n",
    "  FP = np.sum((y_preds == 1) & (y == 0))\n",
    "  TN = np.sum((y_preds == 0) & (y == 0))\n",
    "  FN = np.sum((y_preds == 0) & (y == 1))\n",
    "\n",
    "  return (TP + TN)/(TP + FP + TN + FN)\n",
    "\n",
    "def f1(y, y_preds): #2*(precision*recall)/(precision+recall)\n",
    "\n",
    "  prec = precision(y, y_preds)\n",
    "  rec = recall(y, y_preds)\n",
    "\n",
    "  return (2 * prec * rec)/(prec + rec)"
   ]
  },
  {
   "cell_type": "markdown",
   "metadata": {
    "id": "bTUXW3yQXu_I"
   },
   "source": [
    "### Training Set Accuracy Metrics"
   ]
  },
  {
   "cell_type": "code",
   "execution_count": null,
   "metadata": {
    "colab": {
     "base_uri": "https://localhost:8080/"
    },
    "id": "LBHGaLbqXq2E",
    "outputId": "7d77da3d-73f0-4ff8-95b3-8e3111c0c676"
   },
   "outputs": [
    {
     "name": "stdout",
     "output_type": "stream",
     "text": [
      "88/88 [==============================] - 0s 2ms/step\n"
     ]
    },
    {
     "data": {
      "text/plain": [
       "(2789, 2)"
      ]
     },
     "execution_count": 23,
     "metadata": {},
     "output_type": "execute_result"
    }
   ],
   "source": [
    "y_preds_train = model.predict(X_train)\n",
    "\n",
    "y_preds_train.shape"
   ]
  },
  {
   "cell_type": "code",
   "execution_count": null,
   "metadata": {
    "colab": {
     "base_uri": "https://localhost:8080/"
    },
    "id": "Xh3s9VL55TiD",
    "outputId": "6ecdab1e-35a0-4160-ec53-73441a89a39c"
   },
   "outputs": [
    {
     "data": {
      "text/plain": [
       "(2789,)"
      ]
     },
     "execution_count": 24,
     "metadata": {},
     "output_type": "execute_result"
    }
   ],
   "source": [
    "y_pred_train_classes = np.argmax(y_preds_train, axis=1)\n",
    "\n",
    "y_pred_train_classes.shape"
   ]
  },
  {
   "cell_type": "code",
   "execution_count": null,
   "metadata": {
    "colab": {
     "base_uri": "https://localhost:8080/"
    },
    "id": "52HuBILc4800",
    "outputId": "d164dba8-72eb-4f07-e639-02be6ccb1bbc"
   },
   "outputs": [
    {
     "name": "stdout",
     "output_type": "stream",
     "text": [
      "The precision is: 0.6834532374100719\n",
      "The recall is: 0.43846153846153846\n",
      "The accuracy is: 0.8217999282897096\n",
      "The f1 score is: 0.5342080599812559\n"
     ]
    }
   ],
   "source": [
    "print(f'The precision is: {precision(y_train, y_pred_train_classes)}')\n",
    "print(f'The recall is: {recall(y_train, y_pred_train_classes)}')\n",
    "print(f'The accuracy is: {accuracy(y_train, y_pred_train_classes)}')\n",
    "print(f'The f1 score is: {f1(y_train, y_pred_train_classes)}')"
   ]
  },
  {
   "cell_type": "code",
   "execution_count": null,
   "metadata": {
    "colab": {
     "base_uri": "https://localhost:8080/",
     "height": 564
    },
    "id": "PbdJdW28XrpW",
    "outputId": "c81eafeb-5dab-45ea-db99-6f06e1076a8e"
   },
   "outputs": [
    {
     "data": {
      "image/png": "[encoded data removed]",
      "text/plain": [
       "<Figure size 800x600 with 1 Axes>"
      ]
     },
     "metadata": {},
     "output_type": "display_data"
    }
   ],
   "source": [
    "# Plot the ROC curve by giving appropriate names for title and axes.\n",
    "### WRITE CODE HERE\n",
    "from sklearn.metrics import roc_curve, auc\n",
    "import matplotlib.pyplot as plt\n",
    "\n",
    "# y_pred_proba = model.predict_proba(X_val)[:, 1]\n",
    "y_pred_train_proba = y_preds_train[:, 1]\n",
    "# Calculate ROC Curve\n",
    "fpr, tpr, thresholds = roc_curve(y_train, y_pred_train_proba)\n",
    "\n",
    "# Calculate AUC\n",
    "roc_auc = auc(fpr, tpr)\n",
    "\n",
    "plt.figure(figsize=(8, 6))\n",
    "plt.plot(fpr, tpr, color='darkorange', lw=2, label='ROC curve (area = %0.2f)' % roc_auc)\n",
    "plt.plot([0, 1], [0, 1], color='navy', lw=2, linestyle='--')\n",
    "plt.xlim([0.0, 1.0])\n",
    "plt.ylim([0.0, 1.05])\n",
    "plt.xlabel('False Positive Rate')\n",
    "plt.ylabel('True Positive Rate')\n",
    "plt.title('Receiver Operating Characteristic (ROC) Curve')\n",
    "plt.legend(loc=\"lower right\")\n",
    "plt.show()"
   ]
  },
  {
   "cell_type": "markdown",
   "metadata": {
    "id": "d2uZWFB-YFgy"
   },
   "source": [
    "### Validation Set Accuracy Metrics"
   ]
  },
  {
   "cell_type": "code",
   "execution_count": null,
   "metadata": {
    "colab": {
     "base_uri": "https://localhost:8080/"
    },
    "id": "ruaeIKYA7dKK",
    "outputId": "f430c182-7c57-49a2-c0ac-b942a7ce99e3"
   },
   "outputs": [
    {
     "name": "stdout",
     "output_type": "stream",
     "text": [
      "38/38 [==============================] - 0s 2ms/step\n"
     ]
    },
    {
     "data": {
      "text/plain": [
       "(1196, 2)"
      ]
     },
     "execution_count": 27,
     "metadata": {},
     "output_type": "execute_result"
    }
   ],
   "source": [
    "y_preds_val = model.predict(X_val)\n",
    "\n",
    "y_preds_val.shape"
   ]
  },
  {
   "cell_type": "code",
   "execution_count": null,
   "metadata": {
    "colab": {
     "base_uri": "https://localhost:8080/"
    },
    "id": "I1ynlYPE7cSk",
    "outputId": "6806cf86-aac3-4275-d9df-b644069c9640"
   },
   "outputs": [
    {
     "data": {
      "text/plain": [
       "(1196,)"
      ]
     },
     "execution_count": 28,
     "metadata": {},
     "output_type": "execute_result"
    }
   ],
   "source": [
    "y_pred_val_classes = np.argmax(y_preds_val, axis=1)\n",
    "\n",
    "y_pred_val_classes.shape"
   ]
  },
  {
   "cell_type": "code",
   "execution_count": null,
   "metadata": {
    "colab": {
     "base_uri": "https://localhost:8080/"
    },
    "id": "6Rku2gj2XSaK",
    "outputId": "ef534035-f7be-463e-ee5f-88beff48c1be"
   },
   "outputs": [
    {
     "name": "stdout",
     "output_type": "stream",
     "text": [
      "The precision is: 0.6428571428571429\n",
      "The recall is: 0.43333333333333335\n",
      "The accuracy is: 0.8177257525083612\n",
      "The f1 score is: 0.5176991150442477\n"
     ]
    }
   ],
   "source": [
    "print(f'The precision is: {precision(y_val, y_pred_val_classes)}')\n",
    "print(f'The recall is: {recall(y_val, y_pred_val_classes)}')\n",
    "print(f'The accuracy is: {accuracy(y_val, y_pred_val_classes)}')\n",
    "print(f'The f1 score is: {f1(y_val, y_pred_val_classes)}')"
   ]
  },
  {
   "cell_type": "markdown",
   "metadata": {
    "id": "lm9Wv9P0gE4T"
   },
   "source": [
    "Q5. Plot the ROC curve by giving appropriate names for title and axes."
   ]
  },
  {
   "cell_type": "code",
   "execution_count": null,
   "metadata": {
    "colab": {
     "base_uri": "https://localhost:8080/",
     "height": 582
    },
    "id": "Cs7CkXWC_guc",
    "outputId": "71822709-18bd-4f15-b74b-3be297269977"
   },
   "outputs": [
    {
     "name": "stdout",
     "output_type": "stream",
     "text": [
      "AUC: 0.7714662826973842\n"
     ]
    },
    {
     "data": {
      "image/png": "[encoded data removed]",
      "text/plain": [
       "<Figure size 800x600 with 1 Axes>"
      ]
     },
     "metadata": {},
     "output_type": "display_data"
    }
   ],
   "source": [
    "# Plot the ROC curve by giving appropriate names for title and axes.\n",
    "### WRITE CODE HERE\n",
    "from sklearn.metrics import roc_curve, auc\n",
    "import matplotlib.pyplot as plt\n",
    "\n",
    "# y_pred_proba = model.predict_proba(X_val)[:, 1]\n",
    "y_pred_val_proba = y_preds_val[:, 1]\n",
    "# Calculate ROC Curve\n",
    "fpr, tpr, thresholds = roc_curve(y_val, y_pred_val_proba)\n",
    "\n",
    "# Calculate AUC\n",
    "roc_auc = auc(fpr, tpr)\n",
    "print(f'AUC: {roc_auc}')\n",
    "\n",
    "plt.figure(figsize=(8, 6))\n",
    "plt.plot(fpr, tpr, color='darkorange', lw=2, label='ROC curve (area = %0.2f)' % roc_auc)\n",
    "plt.plot([0, 1], [0, 1], color='navy', lw=2, linestyle='--')\n",
    "plt.xlim([0.0, 1.0])\n",
    "plt.ylim([0.0, 1.05])\n",
    "plt.xlabel('False Positive Rate')\n",
    "plt.ylabel('True Positive Rate')\n",
    "plt.title('Receiver Operating Characteristic (ROC) Curve')\n",
    "plt.legend(loc=\"lower right\")\n",
    "plt.show()"
   ]
  },
  {
   "cell_type": "markdown",
   "metadata": {
    "id": "3UyHYWaAtlOm"
   },
   "source": [
    "Is the accurancy value impressive for this dataset? Please explain based on the structure of this dataset.\n",
    "\n",
    "For these five metrics (accuracy, precision, recall, F1 score and AUC), please explain their connections and differences. For our dataset, which metrics should we focus more on?\n",
    "\n",
    "Ans- The dataset is highly imbalanced in the sense that only 23% of the observations in the training data and 22% of the observations in the test data correspond to defaults. Therefore, even a model that predicts 'no default' everytime will have an accuracy of around 78%. Based on that, the accuracy of 81.5% does not seem very impressive as it only performs slightly better than the trivial case of predicting 'no default' everytime. </br>\n",
    "\n",
    "The five metrics are defined as follows:</br>\n",
    "- **Precision:** It's a metric that measures the proportion of all observations classified as positive by the model that are actually true positives, i.e., Precision = TP / (TP + FP). A higher precision indicates that a model mostly classifies observations as positive when they are actually positive, and reduces the # of false positives (although this might be at the cost of a high # of false negatives). In this dataset, this corresponds to reducing the # of instances where model falsely predicts that someone would default when they do not actually default, but can also miss out cases of actual default.</br>\n",
    "\n",
    "- **Recall:** It's a metric that measures the proportion of all observations belonging to positive class that are also classified by the model as positive, i.e., Recall = TP / (TP + FN). A higher recall indicates that a model mostly rarely misses out on positives, and reduces the # of false negatives (although this might be at the cost of a high # of false positives). In this dataset, this corresponds to reducing the # of instances where model falsely predicts that someone would not default when they actually default, but can also predict default when there's actually no default.</br>\n",
    "\n",
    "- **Accuracy:** It's a metric that measures the proportion of observations that were assigned to the correct class by the model, i.e, Accuracy = (TP + TN) / (TP + TN + FP + FN). A higher accuracy means that more observations have the same predicted class as their actual class, and doesn't specifically focus on precision or recall. However, accuracy may be not be a suitable metric for very imbalanced classes as in such a case, a model will achieve high accuracy even if it assigns all observations to the majority class.\n",
    "\n",
    "- **F1 Score:** It's a metric that gives importance to both precision and recall and tries to minimize both false positives and false negatives. It is the harmonic mean of precision and recall, i.e., F1 = 2 * (precision * recall) / (precision + recall). A high F1 score indicates that the model performs very well in assigning observations to their correct class, even in case of highly imbalanced classes.\n",
    "\n",
    "- **AUC:** It is the area under the ROC curve (which plots True Positive Rate against True Negative Rate). It is a measure of separability of the classes, or how well the model is able to distinguish between the positive and negative classes across different thresholds. An AUC of 0.5 indicates that the model doesn't do any better than randomly selecting the positive or negative class, i.e., the probability of classifying an actually positive example as positive is 50%. A higher AUC indicates better model performance, or higher probability that an actually positive example would get assigned to positive class by the model.</br>\n",
    "\n",
    "\n",
    "In our opinion, **F1 score** would be the best metric to focus on for this exercise. Accuracy would not be too suitable due to the imbalance in the classes. Recall may seem more suitable than precision as based on the use case, we would not want to miss out on any cases of default, but this might come at the cost of redcing the precision by a great extent (Ex - a model that predicts 'deafault' everytime will achieve a recall of 100%, but such a model is not very helpful in terms of making predictions). F1 score finds the right balance between precision and recall and makes sure that the model is not focusing explicitly on reducing FP or FN but reducing both."
   ]
  },
  {
   "cell_type": "markdown",
   "metadata": {
    "id": "SjZQ940YWQSW"
   },
   "source": [
    "#### Tuning hyperparameters using cross-validation:<br/>\n",
    "Cross-validation in neural networks is computationally expensive. So we will perform a randomized cross-validation search across the parameter space using RandomizedSearchCV function.\n",
    "\n",
    "Here, we will use KerasClassifier class, which act as a wrapper of scikit-learn’s library in Keras comes as a handy tool for automating the tuning process."
   ]
  },
  {
   "cell_type": "code",
   "execution_count": null,
   "metadata": {
    "colab": {
     "base_uri": "https://localhost:8080/"
    },
    "id": "O6t4j_UJWPYb",
    "outputId": "6daf3cdc-e8ad-4252-a6ca-5b058920320c"
   },
   "outputs": [
    {
     "name": "stdout",
     "output_type": "stream",
     "text": [
      "Collecting scikeras\n",
      "  Downloading scikeras-0.12.0-py3-none-any.whl (27 kB)\n",
      "Requirement already satisfied: packaging>=0.21 in /usr/local/lib/python3.10/dist-packages (from scikeras) (23.2)\n",
      "Requirement already satisfied: scikit-learn>=1.0.0 in /usr/local/lib/python3.10/dist-packages (from scikeras) (1.2.2)\n",
      "Requirement already satisfied: numpy>=1.17.3 in /usr/local/lib/python3.10/dist-packages (from scikit-learn>=1.0.0->scikeras) (1.23.5)\n",
      "Requirement already satisfied: scipy>=1.3.2 in /usr/local/lib/python3.10/dist-packages (from scikit-learn>=1.0.0->scikeras) (1.11.4)\n",
      "Requirement already satisfied: joblib>=1.1.1 in /usr/local/lib/python3.10/dist-packages (from scikit-learn>=1.0.0->scikeras) (1.3.2)\n",
      "Requirement already satisfied: threadpoolctl>=2.0.0 in /usr/local/lib/python3.10/dist-packages (from scikit-learn>=1.0.0->scikeras) (3.2.0)\n",
      "Installing collected packages: scikeras\n",
      "Successfully installed scikeras-0.12.0\n"
     ]
    }
   ],
   "source": [
    "!pip install scikeras\n",
    "from sklearn.model_selection import RandomizedSearchCV\n",
    "from scikeras.wrappers import KerasClassifier"
   ]
  },
  {
   "cell_type": "markdown",
   "metadata": {
    "id": "MJtSGwtNUlEg"
   },
   "source": [
    "Q6. First we create a function to build neural network model with activation function and learning rate of SGD as parameters"
   ]
  },
  {
   "cell_type": "code",
   "execution_count": null,
   "metadata": {
    "id": "pOvla-Yf4rca"
   },
   "outputs": [],
   "source": [
    "# Build create_model function with activation function and learning rate of SGD as parameters\n",
    "def create_model(learning_rate, activation):\n",
    "\n",
    "    # Create an SGD optimizer with its learning rate equal to the \"learning_rate\" parameter value of create_model\n",
    "    opt = SGD(learning_rate= learning_rate, decay=1e-7, momentum=.9)\n",
    "\n",
    "    # Create your neural network model\n",
    "    model = Sequential()\n",
    "    # Please keep the same architecture as the NN model you have built above in order for comparison\n",
    "    # Please use the activation given by the \"activation\" parameter value of create_model for all inner layers except for the final layer.\n",
    "    # For the final output layer, choose an appropriate activation function by yourself.\n",
    "\n",
    "    ### WRITE CODE HERE\n",
    "    model.add(Dense(units=256, input_dim=82, activation=activation))\n",
    "    model.add(Dropout(rate=0.5))\n",
    "\n",
    "    model.add(Dense(units=128, activation=activation))\n",
    "    model.add(Dropout(rate=0.5))\n",
    "\n",
    "    model.add(Dense(units=64, activation=activation))\n",
    "    model.add(Dropout(rate=0.5))\n",
    "\n",
    "    model.add(Dense(units=32, activation=activation))\n",
    "    model.add(Dropout(rate=0.5))\n",
    "\n",
    "    model.add(Dense(units=2, activation='softmax'))\n",
    "\n",
    "\n",
    "    # Compile the model\n",
    "    model.compile(optimizer = opt,\n",
    "                  loss = 'categorical_crossentropy',\n",
    "                  metrics=[\"accuracy\"])\n",
    "    return model"
   ]
  },
  {
   "cell_type": "markdown",
   "metadata": {
    "id": "x2IHOXeRMPjR"
   },
   "source": [
    "Create a model object using KerasClassifier from keras.wrappers.scikit_learn by passing the create_model function."
   ]
  },
  {
   "cell_type": "code",
   "execution_count": null,
   "metadata": {
    "id": "Wq-48iSOMGRd"
   },
   "outputs": [],
   "source": [
    "model = KerasClassifier(build_fn = create_model,\n",
    "                       verbose = 0)"
   ]
  },
  {
   "cell_type": "markdown",
   "metadata": {
    "id": "dTQgcA8dMfIL"
   },
   "source": [
    "Q7. Try the following hyperparameters:\n",
    "\n",
    "- activation function: relu, tanh\n",
    "\n",
    "- batch size: 16, 32 and 64\n",
    "\n",
    "- epochs: 100, 200 and 500\n",
    "\n",
    "- learning rate: 0.01, 0.001 and 0.0001\n",
    "\n",
    "Use dictionary object to define the parameter search space."
   ]
  },
  {
   "cell_type": "code",
   "execution_count": null,
   "metadata": {
    "id": "Mldddf7RMcJn"
   },
   "outputs": [],
   "source": [
    "### WRITE CODE HERE\n",
    "param_dict =dict(\n",
    "    model__activation = ['relu', 'tanh'],\n",
    "    batch_size = [16, 32, 64],\n",
    "    epochs = [100, 200, 500],\n",
    "    model__learning_rate = [0.01, 0.001, 0.0001]\n",
    ")"
   ]
  },
  {
   "cell_type": "markdown",
   "metadata": {
    "id": "OugTwxjcNwG_"
   },
   "source": [
    "Next we perform a randomized cross-validation search across the parameter space using RandomizedSearchCV function. We select the randomized search as it works faster than a grid search. Here, we will perform a 5-fold cross-validation search.\n",
    "\n",
    "See https://scikit-learn.org/stable/modules/generated/sklearn.model_selection.RandomizedSearchCV.html?highlight=randomizedsearchcv#sklearn.model_selection.RandomizedSearchCV for the use of RandomizedSearchCV."
   ]
  },
  {
   "cell_type": "code",
   "execution_count": 43,
   "metadata": {
    "id": "-O8EPPiDNsoI"
   },
   "outputs": [],
   "source": [
    "### WRITE CODE HERE\n",
    "random_search = RandomizedSearchCV(estimator = model,\n",
    "                                   param_distributions = param_dict,\n",
    "                                   cv = 5)"
   ]
  },
  {
   "cell_type": "code",
   "execution_count": 44,
   "metadata": {
    "colab": {
     "base_uri": "https://localhost:8080/"
    },
    "id": "n7HSam2xOVx1",
    "outputId": "3777894c-939d-4f49-fe32-bab979c9cc2f",
    "scrolled": true,
    "tags": []
   },
   "outputs": [
    {
     "name": "stderr",
     "output_type": "stream",
     "text": [
      "/usr/local/lib/python3.10/dist-packages/scikeras/wrappers.py:915: UserWarning: ``build_fn`` will be renamed to ``model`` in a future release, at which point use of ``build_fn`` will raise an Error instead.\n",
      "  X, y = self._initialize(X, y)\n",
      "/usr/local/lib/python3.10/dist-packages/scikeras/wrappers.py:915: UserWarning: ``build_fn`` will be renamed to ``model`` in a future release, at which point use of ``build_fn`` will raise an Error instead.\n",
      "  X, y = self._initialize(X, y)\n",
      "/usr/local/lib/python3.10/dist-packages/scikeras/wrappers.py:915: UserWarning: ``build_fn`` will be renamed to ``model`` in a future release, at which point use of ``build_fn`` will raise an Error instead.\n",
      "  X, y = self._initialize(X, y)\n",
      "/usr/local/lib/python3.10/dist-packages/scikeras/wrappers.py:915: UserWarning: ``build_fn`` will be renamed to ``model`` in a future release, at which point use of ``build_fn`` will raise an Error instead.\n",
      "  X, y = self._initialize(X, y)\n",
      "/usr/local/lib/python3.10/dist-packages/scikeras/wrappers.py:915: UserWarning: ``build_fn`` will be renamed to ``model`` in a future release, at which point use of ``build_fn`` will raise an Error instead.\n",
      "  X, y = self._initialize(X, y)\n",
      "/usr/local/lib/python3.10/dist-packages/scikeras/wrappers.py:915: UserWarning: ``build_fn`` will be renamed to ``model`` in a future release, at which point use of ``build_fn`` will raise an Error instead.\n",
      "  X, y = self._initialize(X, y)\n",
      "/usr/local/lib/python3.10/dist-packages/scikeras/wrappers.py:915: UserWarning: ``build_fn`` will be renamed to ``model`` in a future release, at which point use of ``build_fn`` will raise an Error instead.\n",
      "  X, y = self._initialize(X, y)\n",
      "/usr/local/lib/python3.10/dist-packages/scikeras/wrappers.py:915: UserWarning: ``build_fn`` will be renamed to ``model`` in a future release, at which point use of ``build_fn`` will raise an Error instead.\n",
      "  X, y = self._initialize(X, y)\n",
      "/usr/local/lib/python3.10/dist-packages/scikeras/wrappers.py:915: UserWarning: ``build_fn`` will be renamed to ``model`` in a future release, at which point use of ``build_fn`` will raise an Error instead.\n",
      "  X, y = self._initialize(X, y)\n",
      "/usr/local/lib/python3.10/dist-packages/scikeras/wrappers.py:915: UserWarning: ``build_fn`` will be renamed to ``model`` in a future release, at which point use of ``build_fn`` will raise an Error instead.\n",
      "  X, y = self._initialize(X, y)\n",
      "/usr/local/lib/python3.10/dist-packages/scikeras/wrappers.py:915: UserWarning: ``build_fn`` will be renamed to ``model`` in a future release, at which point use of ``build_fn`` will raise an Error instead.\n",
      "  X, y = self._initialize(X, y)\n",
      "/usr/local/lib/python3.10/dist-packages/scikeras/wrappers.py:915: UserWarning: ``build_fn`` will be renamed to ``model`` in a future release, at which point use of ``build_fn`` will raise an Error instead.\n",
      "  X, y = self._initialize(X, y)\n",
      "/usr/local/lib/python3.10/dist-packages/scikeras/wrappers.py:915: UserWarning: ``build_fn`` will be renamed to ``model`` in a future release, at which point use of ``build_fn`` will raise an Error instead.\n",
      "  X, y = self._initialize(X, y)\n",
      "/usr/local/lib/python3.10/dist-packages/scikeras/wrappers.py:915: UserWarning: ``build_fn`` will be renamed to ``model`` in a future release, at which point use of ``build_fn`` will raise an Error instead.\n",
      "  X, y = self._initialize(X, y)\n",
      "/usr/local/lib/python3.10/dist-packages/scikeras/wrappers.py:915: UserWarning: ``build_fn`` will be renamed to ``model`` in a future release, at which point use of ``build_fn`` will raise an Error instead.\n",
      "  X, y = self._initialize(X, y)\n",
      "/usr/local/lib/python3.10/dist-packages/scikeras/wrappers.py:915: UserWarning: ``build_fn`` will be renamed to ``model`` in a future release, at which point use of ``build_fn`` will raise an Error instead.\n",
      "  X, y = self._initialize(X, y)\n",
      "/usr/local/lib/python3.10/dist-packages/scikeras/wrappers.py:915: UserWarning: ``build_fn`` will be renamed to ``model`` in a future release, at which point use of ``build_fn`` will raise an Error instead.\n",
      "  X, y = self._initialize(X, y)\n",
      "/usr/local/lib/python3.10/dist-packages/scikeras/wrappers.py:915: UserWarning: ``build_fn`` will be renamed to ``model`` in a future release, at which point use of ``build_fn`` will raise an Error instead.\n",
      "  X, y = self._initialize(X, y)\n",
      "/usr/local/lib/python3.10/dist-packages/scikeras/wrappers.py:915: UserWarning: ``build_fn`` will be renamed to ``model`` in a future release, at which point use of ``build_fn`` will raise an Error instead.\n",
      "  X, y = self._initialize(X, y)\n",
      "/usr/local/lib/python3.10/dist-packages/scikeras/wrappers.py:915: UserWarning: ``build_fn`` will be renamed to ``model`` in a future release, at which point use of ``build_fn`` will raise an Error instead.\n",
      "  X, y = self._initialize(X, y)\n",
      "/usr/local/lib/python3.10/dist-packages/scikeras/wrappers.py:915: UserWarning: ``build_fn`` will be renamed to ``model`` in a future release, at which point use of ``build_fn`` will raise an Error instead.\n",
      "  X, y = self._initialize(X, y)\n",
      "/usr/local/lib/python3.10/dist-packages/scikeras/wrappers.py:915: UserWarning: ``build_fn`` will be renamed to ``model`` in a future release, at which point use of ``build_fn`` will raise an Error instead.\n",
      "  X, y = self._initialize(X, y)\n",
      "/usr/local/lib/python3.10/dist-packages/scikeras/wrappers.py:915: UserWarning: ``build_fn`` will be renamed to ``model`` in a future release, at which point use of ``build_fn`` will raise an Error instead.\n",
      "  X, y = self._initialize(X, y)\n",
      "/usr/local/lib/python3.10/dist-packages/scikeras/wrappers.py:915: UserWarning: ``build_fn`` will be renamed to ``model`` in a future release, at which point use of ``build_fn`` will raise an Error instead.\n",
      "  X, y = self._initialize(X, y)\n",
      "/usr/local/lib/python3.10/dist-packages/scikeras/wrappers.py:915: UserWarning: ``build_fn`` will be renamed to ``model`` in a future release, at which point use of ``build_fn`` will raise an Error instead.\n",
      "  X, y = self._initialize(X, y)\n",
      "/usr/local/lib/python3.10/dist-packages/scikeras/wrappers.py:915: UserWarning: ``build_fn`` will be renamed to ``model`` in a future release, at which point use of ``build_fn`` will raise an Error instead.\n",
      "  X, y = self._initialize(X, y)\n",
      "/usr/local/lib/python3.10/dist-packages/scikeras/wrappers.py:915: UserWarning: ``build_fn`` will be renamed to ``model`` in a future release, at which point use of ``build_fn`` will raise an Error instead.\n",
      "  X, y = self._initialize(X, y)\n",
      "/usr/local/lib/python3.10/dist-packages/scikeras/wrappers.py:915: UserWarning: ``build_fn`` will be renamed to ``model`` in a future release, at which point use of ``build_fn`` will raise an Error instead.\n",
      "  X, y = self._initialize(X, y)\n",
      "/usr/local/lib/python3.10/dist-packages/scikeras/wrappers.py:915: UserWarning: ``build_fn`` will be renamed to ``model`` in a future release, at which point use of ``build_fn`` will raise an Error instead.\n",
      "  X, y = self._initialize(X, y)\n",
      "/usr/local/lib/python3.10/dist-packages/scikeras/wrappers.py:915: UserWarning: ``build_fn`` will be renamed to ``model`` in a future release, at which point use of ``build_fn`` will raise an Error instead.\n",
      "  X, y = self._initialize(X, y)\n",
      "/usr/local/lib/python3.10/dist-packages/scikeras/wrappers.py:915: UserWarning: ``build_fn`` will be renamed to ``model`` in a future release, at which point use of ``build_fn`` will raise an Error instead.\n",
      "  X, y = self._initialize(X, y)\n",
      "/usr/local/lib/python3.10/dist-packages/scikeras/wrappers.py:915: UserWarning: ``build_fn`` will be renamed to ``model`` in a future release, at which point use of ``build_fn`` will raise an Error instead.\n",
      "  X, y = self._initialize(X, y)\n",
      "/usr/local/lib/python3.10/dist-packages/scikeras/wrappers.py:915: UserWarning: ``build_fn`` will be renamed to ``model`` in a future release, at which point use of ``build_fn`` will raise an Error instead.\n",
      "  X, y = self._initialize(X, y)\n",
      "/usr/local/lib/python3.10/dist-packages/scikeras/wrappers.py:915: UserWarning: ``build_fn`` will be renamed to ``model`` in a future release, at which point use of ``build_fn`` will raise an Error instead.\n",
      "  X, y = self._initialize(X, y)\n",
      "/usr/local/lib/python3.10/dist-packages/scikeras/wrappers.py:915: UserWarning: ``build_fn`` will be renamed to ``model`` in a future release, at which point use of ``build_fn`` will raise an Error instead.\n",
      "  X, y = self._initialize(X, y)\n",
      "/usr/local/lib/python3.10/dist-packages/scikeras/wrappers.py:915: UserWarning: ``build_fn`` will be renamed to ``model`` in a future release, at which point use of ``build_fn`` will raise an Error instead.\n",
      "  X, y = self._initialize(X, y)\n",
      "/usr/local/lib/python3.10/dist-packages/scikeras/wrappers.py:915: UserWarning: ``build_fn`` will be renamed to ``model`` in a future release, at which point use of ``build_fn`` will raise an Error instead.\n",
      "  X, y = self._initialize(X, y)\n",
      "/usr/local/lib/python3.10/dist-packages/scikeras/wrappers.py:915: UserWarning: ``build_fn`` will be renamed to ``model`` in a future release, at which point use of ``build_fn`` will raise an Error instead.\n",
      "  X, y = self._initialize(X, y)\n",
      "/usr/local/lib/python3.10/dist-packages/scikeras/wrappers.py:915: UserWarning: ``build_fn`` will be renamed to ``model`` in a future release, at which point use of ``build_fn`` will raise an Error instead.\n",
      "  X, y = self._initialize(X, y)\n",
      "/usr/local/lib/python3.10/dist-packages/scikeras/wrappers.py:915: UserWarning: ``build_fn`` will be renamed to ``model`` in a future release, at which point use of ``build_fn`` will raise an Error instead.\n",
      "  X, y = self._initialize(X, y)\n",
      "/usr/local/lib/python3.10/dist-packages/scikeras/wrappers.py:915: UserWarning: ``build_fn`` will be renamed to ``model`` in a future release, at which point use of ``build_fn`` will raise an Error instead.\n",
      "  X, y = self._initialize(X, y)\n",
      "/usr/local/lib/python3.10/dist-packages/scikeras/wrappers.py:915: UserWarning: ``build_fn`` will be renamed to ``model`` in a future release, at which point use of ``build_fn`` will raise an Error instead.\n",
      "  X, y = self._initialize(X, y)\n",
      "/usr/local/lib/python3.10/dist-packages/scikeras/wrappers.py:915: UserWarning: ``build_fn`` will be renamed to ``model`` in a future release, at which point use of ``build_fn`` will raise an Error instead.\n",
      "  X, y = self._initialize(X, y)\n",
      "/usr/local/lib/python3.10/dist-packages/scikeras/wrappers.py:915: UserWarning: ``build_fn`` will be renamed to ``model`` in a future release, at which point use of ``build_fn`` will raise an Error instead.\n",
      "  X, y = self._initialize(X, y)\n",
      "/usr/local/lib/python3.10/dist-packages/scikeras/wrappers.py:915: UserWarning: ``build_fn`` will be renamed to ``model`` in a future release, at which point use of ``build_fn`` will raise an Error instead.\n",
      "  X, y = self._initialize(X, y)\n",
      "/usr/local/lib/python3.10/dist-packages/scikeras/wrappers.py:915: UserWarning: ``build_fn`` will be renamed to ``model`` in a future release, at which point use of ``build_fn`` will raise an Error instead.\n",
      "  X, y = self._initialize(X, y)\n",
      "/usr/local/lib/python3.10/dist-packages/scikeras/wrappers.py:915: UserWarning: ``build_fn`` will be renamed to ``model`` in a future release, at which point use of ``build_fn`` will raise an Error instead.\n",
      "  X, y = self._initialize(X, y)\n",
      "/usr/local/lib/python3.10/dist-packages/scikeras/wrappers.py:915: UserWarning: ``build_fn`` will be renamed to ``model`` in a future release, at which point use of ``build_fn`` will raise an Error instead.\n",
      "  X, y = self._initialize(X, y)\n",
      "/usr/local/lib/python3.10/dist-packages/scikeras/wrappers.py:915: UserWarning: ``build_fn`` will be renamed to ``model`` in a future release, at which point use of ``build_fn`` will raise an Error instead.\n",
      "  X, y = self._initialize(X, y)\n",
      "/usr/local/lib/python3.10/dist-packages/scikeras/wrappers.py:915: UserWarning: ``build_fn`` will be renamed to ``model`` in a future release, at which point use of ``build_fn`` will raise an Error instead.\n",
      "  X, y = self._initialize(X, y)\n",
      "/usr/local/lib/python3.10/dist-packages/scikeras/wrappers.py:915: UserWarning: ``build_fn`` will be renamed to ``model`` in a future release, at which point use of ``build_fn`` will raise an Error instead.\n",
      "  X, y = self._initialize(X, y)\n"
     ]
    }
   ],
   "source": [
    "random_search_results = random_search.fit(X_train, y_train_vectorized) # it may take several hours."
   ]
  },
  {
   "cell_type": "markdown",
   "metadata": {
    "id": "xkpfSAvOXVV9"
   },
   "source": [
    "Q8. Print the best model parameters"
   ]
  },
  {
   "cell_type": "code",
   "execution_count": 45,
   "metadata": {
    "colab": {
     "base_uri": "https://localhost:8080/"
    },
    "id": "qHnyRJlxW75H",
    "outputId": "89fd0346-91e1-46b6-8fa9-59626c511cb9"
   },
   "outputs": [
    {
     "data": {
      "text/plain": [
       "{'model__learning_rate': 0.001,\n",
       " 'model__activation': 'tanh',\n",
       " 'epochs': 200,\n",
       " 'batch_size': 16}"
      ]
     },
     "execution_count": 45,
     "metadata": {},
     "output_type": "execute_result"
    }
   ],
   "source": [
    "### WRITE CODE HERE\n",
    "random_search_results.best_params_"
   ]
  },
  {
   "cell_type": "markdown",
   "metadata": {
    "id": "ghS7bgUMaTU6"
   },
   "source": [
    "Q9. Fit the model with the Best Parameter Set"
   ]
  },
  {
   "cell_type": "code",
   "execution_count": 51,
   "metadata": {
    "colab": {
     "base_uri": "https://localhost:8080/"
    },
    "id": "yAR5UKtrXUd_",
    "outputId": "dab90f15-7aa9-41a3-8849-8e88a289d2a8",
    "scrolled": true,
    "tags": []
   },
   "outputs": [
    {
     "name": "stdout",
     "output_type": "stream",
     "text": [
      "Epoch 1/200\n",
      "175/175 [==============================] - 3s 9ms/step - loss: 0.6971 - accuracy: 0.6795\n",
      "Epoch 2/200\n",
      "175/175 [==============================] - 2s 12ms/step - loss: 0.5794 - accuracy: 0.7440\n",
      "Epoch 3/200\n",
      "175/175 [==============================] - 2s 10ms/step - loss: 0.5421 - accuracy: 0.7605\n",
      "Epoch 4/200\n",
      "175/175 [==============================] - 1s 7ms/step - loss: 0.5032 - accuracy: 0.7763\n",
      "Epoch 5/200\n",
      "175/175 [==============================] - 2s 10ms/step - loss: 0.5018 - accuracy: 0.7888\n",
      "Epoch 6/200\n",
      "175/175 [==============================] - 1s 8ms/step - loss: 0.4907 - accuracy: 0.7845\n",
      "Epoch 7/200\n",
      "175/175 [==============================] - 1s 6ms/step - loss: 0.4849 - accuracy: 0.7895\n",
      "Epoch 8/200\n",
      "175/175 [==============================] - 1s 6ms/step - loss: 0.4740 - accuracy: 0.7942\n",
      "Epoch 9/200\n",
      "175/175 [==============================] - 1s 6ms/step - loss: 0.4719 - accuracy: 0.8028\n",
      "Epoch 10/200\n",
      "175/175 [==============================] - 1s 6ms/step - loss: 0.4728 - accuracy: 0.7985\n",
      "Epoch 11/200\n",
      "175/175 [==============================] - 1s 4ms/step - loss: 0.4686 - accuracy: 0.8021\n",
      "Epoch 12/200\n",
      "175/175 [==============================] - 1s 4ms/step - loss: 0.4697 - accuracy: 0.8003\n",
      "Epoch 13/200\n",
      "175/175 [==============================] - 1s 5ms/step - loss: 0.4655 - accuracy: 0.7999\n",
      "Epoch 14/200\n",
      "175/175 [==============================] - 1s 5ms/step - loss: 0.4686 - accuracy: 0.7971\n",
      "Epoch 15/200\n",
      "175/175 [==============================] - 1s 5ms/step - loss: 0.4625 - accuracy: 0.8017\n",
      "Epoch 16/200\n",
      "175/175 [==============================] - 1s 5ms/step - loss: 0.4579 - accuracy: 0.8028\n",
      "Epoch 17/200\n",
      "175/175 [==============================] - 1s 4ms/step - loss: 0.4561 - accuracy: 0.8003\n",
      "Epoch 18/200\n",
      "175/175 [==============================] - 1s 3ms/step - loss: 0.4524 - accuracy: 0.8017\n",
      "Epoch 19/200\n",
      "175/175 [==============================] - 1s 4ms/step - loss: 0.4574 - accuracy: 0.8064\n",
      "Epoch 20/200\n",
      "175/175 [==============================] - 1s 3ms/step - loss: 0.4527 - accuracy: 0.8042\n",
      "Epoch 21/200\n",
      "175/175 [==============================] - 1s 4ms/step - loss: 0.4518 - accuracy: 0.8082\n",
      "Epoch 22/200\n",
      "175/175 [==============================] - 1s 3ms/step - loss: 0.4486 - accuracy: 0.8096\n",
      "Epoch 23/200\n",
      "175/175 [==============================] - 1s 4ms/step - loss: 0.4546 - accuracy: 0.8082\n",
      "Epoch 24/200\n",
      "175/175 [==============================] - 1s 4ms/step - loss: 0.4511 - accuracy: 0.8021\n",
      "Epoch 25/200\n",
      "175/175 [==============================] - 1s 3ms/step - loss: 0.4502 - accuracy: 0.8014\n",
      "Epoch 26/200\n",
      "175/175 [==============================] - 1s 4ms/step - loss: 0.4519 - accuracy: 0.8057\n",
      "Epoch 27/200\n",
      "175/175 [==============================] - 1s 3ms/step - loss: 0.4487 - accuracy: 0.8078\n",
      "Epoch 28/200\n",
      "175/175 [==============================] - 1s 3ms/step - loss: 0.4540 - accuracy: 0.8024\n",
      "Epoch 29/200\n",
      "175/175 [==============================] - 1s 3ms/step - loss: 0.4546 - accuracy: 0.8028\n",
      "Epoch 30/200\n",
      "175/175 [==============================] - 1s 3ms/step - loss: 0.4475 - accuracy: 0.8110\n",
      "Epoch 31/200\n",
      "175/175 [==============================] - 0s 3ms/step - loss: 0.4499 - accuracy: 0.8089\n",
      "Epoch 32/200\n",
      "175/175 [==============================] - 0s 3ms/step - loss: 0.4485 - accuracy: 0.8110\n",
      "Epoch 33/200\n",
      "175/175 [==============================] - 1s 5ms/step - loss: 0.4464 - accuracy: 0.8046\n",
      "Epoch 34/200\n",
      "175/175 [==============================] - 1s 4ms/step - loss: 0.4525 - accuracy: 0.8035\n",
      "Epoch 35/200\n",
      "175/175 [==============================] - 1s 5ms/step - loss: 0.4506 - accuracy: 0.8071\n",
      "Epoch 36/200\n",
      "175/175 [==============================] - 1s 5ms/step - loss: 0.4472 - accuracy: 0.8046\n",
      "Epoch 37/200\n",
      "175/175 [==============================] - 1s 4ms/step - loss: 0.4447 - accuracy: 0.8064\n",
      "Epoch 38/200\n",
      "175/175 [==============================] - 1s 4ms/step - loss: 0.4466 - accuracy: 0.8010\n",
      "Epoch 39/200\n",
      "175/175 [==============================] - 1s 4ms/step - loss: 0.4503 - accuracy: 0.8006\n",
      "Epoch 40/200\n",
      "175/175 [==============================] - 1s 3ms/step - loss: 0.4455 - accuracy: 0.8136\n",
      "Epoch 41/200\n",
      "175/175 [==============================] - 1s 4ms/step - loss: 0.4438 - accuracy: 0.8100\n",
      "Epoch 42/200\n",
      "175/175 [==============================] - 1s 4ms/step - loss: 0.4507 - accuracy: 0.8021\n",
      "Epoch 43/200\n",
      "175/175 [==============================] - 1s 4ms/step - loss: 0.4510 - accuracy: 0.8060\n",
      "Epoch 44/200\n",
      "175/175 [==============================] - 1s 4ms/step - loss: 0.4520 - accuracy: 0.8006\n",
      "Epoch 45/200\n",
      "175/175 [==============================] - 1s 4ms/step - loss: 0.4446 - accuracy: 0.8110\n",
      "Epoch 46/200\n",
      "175/175 [==============================] - 1s 4ms/step - loss: 0.4462 - accuracy: 0.8085\n",
      "Epoch 47/200\n",
      "175/175 [==============================] - 1s 3ms/step - loss: 0.4500 - accuracy: 0.8118\n",
      "Epoch 48/200\n",
      "175/175 [==============================] - 0s 3ms/step - loss: 0.4443 - accuracy: 0.8121\n",
      "Epoch 49/200\n",
      "175/175 [==============================] - 1s 3ms/step - loss: 0.4480 - accuracy: 0.8093\n",
      "Epoch 50/200\n",
      "175/175 [==============================] - 1s 4ms/step - loss: 0.4441 - accuracy: 0.8103\n",
      "Epoch 51/200\n",
      "175/175 [==============================] - 1s 3ms/step - loss: 0.4432 - accuracy: 0.8060\n",
      "Epoch 52/200\n",
      "175/175 [==============================] - 1s 4ms/step - loss: 0.4453 - accuracy: 0.8085\n",
      "Epoch 53/200\n",
      "175/175 [==============================] - 1s 3ms/step - loss: 0.4416 - accuracy: 0.8060\n",
      "Epoch 54/200\n",
      "175/175 [==============================] - 1s 4ms/step - loss: 0.4402 - accuracy: 0.8110\n",
      "Epoch 55/200\n",
      "175/175 [==============================] - 1s 5ms/step - loss: 0.4399 - accuracy: 0.8100\n",
      "Epoch 56/200\n",
      "175/175 [==============================] - 1s 5ms/step - loss: 0.4446 - accuracy: 0.8046\n",
      "Epoch 57/200\n",
      "175/175 [==============================] - 1s 5ms/step - loss: 0.4458 - accuracy: 0.8128\n",
      "Epoch 58/200\n",
      "175/175 [==============================] - 1s 5ms/step - loss: 0.4397 - accuracy: 0.8082\n",
      "Epoch 59/200\n",
      "175/175 [==============================] - 1s 4ms/step - loss: 0.4461 - accuracy: 0.8067\n",
      "Epoch 60/200\n",
      "175/175 [==============================] - 1s 3ms/step - loss: 0.4423 - accuracy: 0.8200\n",
      "Epoch 61/200\n",
      "175/175 [==============================] - 1s 3ms/step - loss: 0.4446 - accuracy: 0.8078\n",
      "Epoch 62/200\n",
      "175/175 [==============================] - 1s 3ms/step - loss: 0.4375 - accuracy: 0.8128\n",
      "Epoch 63/200\n",
      "175/175 [==============================] - 1s 3ms/step - loss: 0.4436 - accuracy: 0.8078\n",
      "Epoch 64/200\n",
      "175/175 [==============================] - 1s 3ms/step - loss: 0.4424 - accuracy: 0.8096\n",
      "Epoch 65/200\n",
      "175/175 [==============================] - 1s 3ms/step - loss: 0.4439 - accuracy: 0.8075\n",
      "Epoch 66/200\n",
      "175/175 [==============================] - 1s 3ms/step - loss: 0.4364 - accuracy: 0.8100\n",
      "Epoch 67/200\n",
      "175/175 [==============================] - 1s 3ms/step - loss: 0.4468 - accuracy: 0.8057\n",
      "Epoch 68/200\n",
      "175/175 [==============================] - 0s 3ms/step - loss: 0.4426 - accuracy: 0.8024\n",
      "Epoch 69/200\n",
      "175/175 [==============================] - 1s 3ms/step - loss: 0.4384 - accuracy: 0.8046\n",
      "Epoch 70/200\n",
      "175/175 [==============================] - 1s 3ms/step - loss: 0.4425 - accuracy: 0.8139\n",
      "Epoch 71/200\n",
      "175/175 [==============================] - 1s 3ms/step - loss: 0.4411 - accuracy: 0.8128\n",
      "Epoch 72/200\n",
      "175/175 [==============================] - 1s 3ms/step - loss: 0.4444 - accuracy: 0.8150\n",
      "Epoch 73/200\n",
      "175/175 [==============================] - 1s 3ms/step - loss: 0.4371 - accuracy: 0.8136\n",
      "Epoch 74/200\n",
      "175/175 [==============================] - 0s 3ms/step - loss: 0.4405 - accuracy: 0.8143\n",
      "Epoch 75/200\n",
      "175/175 [==============================] - 1s 3ms/step - loss: 0.4394 - accuracy: 0.8075\n",
      "Epoch 76/200\n",
      "175/175 [==============================] - 0s 3ms/step - loss: 0.4457 - accuracy: 0.8128\n",
      "Epoch 77/200\n",
      "175/175 [==============================] - 1s 4ms/step - loss: 0.4451 - accuracy: 0.8053\n",
      "Epoch 78/200\n",
      "175/175 [==============================] - 1s 4ms/step - loss: 0.4431 - accuracy: 0.8132\n",
      "Epoch 79/200\n",
      "175/175 [==============================] - 1s 5ms/step - loss: 0.4379 - accuracy: 0.8110\n",
      "Epoch 80/200\n",
      "175/175 [==============================] - 1s 5ms/step - loss: 0.4396 - accuracy: 0.8064\n",
      "Epoch 81/200\n",
      "175/175 [==============================] - 1s 6ms/step - loss: 0.4441 - accuracy: 0.8057\n",
      "Epoch 82/200\n",
      "175/175 [==============================] - 1s 4ms/step - loss: 0.4357 - accuracy: 0.8128\n",
      "Epoch 83/200\n",
      "175/175 [==============================] - 1s 3ms/step - loss: 0.4462 - accuracy: 0.8014\n",
      "Epoch 84/200\n",
      "175/175 [==============================] - 1s 3ms/step - loss: 0.4428 - accuracy: 0.8067\n",
      "Epoch 85/200\n",
      "175/175 [==============================] - 1s 3ms/step - loss: 0.4406 - accuracy: 0.8136\n",
      "Epoch 86/200\n",
      "175/175 [==============================] - 1s 4ms/step - loss: 0.4366 - accuracy: 0.8168\n",
      "Epoch 87/200\n",
      "175/175 [==============================] - 1s 4ms/step - loss: 0.4408 - accuracy: 0.8153\n",
      "Epoch 88/200\n",
      "175/175 [==============================] - 1s 3ms/step - loss: 0.4389 - accuracy: 0.8132\n",
      "Epoch 89/200\n",
      "175/175 [==============================] - 1s 4ms/step - loss: 0.4441 - accuracy: 0.8028\n",
      "Epoch 90/200\n",
      "175/175 [==============================] - 1s 3ms/step - loss: 0.4382 - accuracy: 0.8128\n",
      "Epoch 91/200\n",
      "175/175 [==============================] - 1s 4ms/step - loss: 0.4413 - accuracy: 0.8125\n",
      "Epoch 92/200\n",
      "175/175 [==============================] - 1s 4ms/step - loss: 0.4420 - accuracy: 0.8039\n",
      "Epoch 93/200\n",
      "175/175 [==============================] - 1s 4ms/step - loss: 0.4375 - accuracy: 0.8125\n",
      "Epoch 94/200\n",
      "175/175 [==============================] - 1s 4ms/step - loss: 0.4419 - accuracy: 0.8103\n",
      "Epoch 95/200\n",
      "175/175 [==============================] - 1s 3ms/step - loss: 0.4391 - accuracy: 0.8143\n",
      "Epoch 96/200\n",
      "175/175 [==============================] - 1s 4ms/step - loss: 0.4439 - accuracy: 0.8118\n",
      "Epoch 97/200\n",
      "175/175 [==============================] - 1s 4ms/step - loss: 0.4403 - accuracy: 0.8093\n",
      "Epoch 98/200\n",
      "175/175 [==============================] - 1s 5ms/step - loss: 0.4388 - accuracy: 0.8136\n",
      "Epoch 99/200\n",
      "175/175 [==============================] - 1s 5ms/step - loss: 0.4410 - accuracy: 0.8136\n",
      "Epoch 100/200\n",
      "175/175 [==============================] - 1s 5ms/step - loss: 0.4394 - accuracy: 0.8071\n",
      "Epoch 101/200\n",
      "175/175 [==============================] - 1s 6ms/step - loss: 0.4369 - accuracy: 0.8110\n",
      "Epoch 102/200\n",
      "175/175 [==============================] - 1s 4ms/step - loss: 0.4412 - accuracy: 0.8153\n",
      "Epoch 103/200\n",
      "175/175 [==============================] - 1s 4ms/step - loss: 0.4375 - accuracy: 0.8125\n",
      "Epoch 104/200\n",
      "175/175 [==============================] - 1s 4ms/step - loss: 0.4427 - accuracy: 0.8128\n",
      "Epoch 105/200\n",
      "175/175 [==============================] - 1s 4ms/step - loss: 0.4382 - accuracy: 0.8189\n",
      "Epoch 106/200\n",
      "175/175 [==============================] - 1s 4ms/step - loss: 0.4373 - accuracy: 0.8153\n",
      "Epoch 107/200\n",
      "175/175 [==============================] - 1s 4ms/step - loss: 0.4378 - accuracy: 0.8132\n",
      "Epoch 108/200\n",
      "175/175 [==============================] - 1s 4ms/step - loss: 0.4409 - accuracy: 0.8161\n",
      "Epoch 109/200\n",
      "175/175 [==============================] - 1s 3ms/step - loss: 0.4395 - accuracy: 0.8189\n",
      "Epoch 110/200\n",
      "175/175 [==============================] - 1s 4ms/step - loss: 0.4346 - accuracy: 0.8089\n",
      "Epoch 111/200\n",
      "175/175 [==============================] - 1s 4ms/step - loss: 0.4423 - accuracy: 0.8075\n",
      "Epoch 112/200\n",
      "175/175 [==============================] - 1s 4ms/step - loss: 0.4385 - accuracy: 0.8146\n",
      "Epoch 113/200\n",
      "175/175 [==============================] - 1s 4ms/step - loss: 0.4401 - accuracy: 0.8082\n",
      "Epoch 114/200\n",
      "175/175 [==============================] - 1s 4ms/step - loss: 0.4426 - accuracy: 0.8093\n",
      "Epoch 115/200\n",
      "175/175 [==============================] - 1s 3ms/step - loss: 0.4403 - accuracy: 0.8114\n",
      "Epoch 116/200\n",
      "175/175 [==============================] - 1s 4ms/step - loss: 0.4324 - accuracy: 0.8128\n",
      "Epoch 117/200\n",
      "175/175 [==============================] - 1s 5ms/step - loss: 0.4389 - accuracy: 0.8150\n",
      "Epoch 118/200\n",
      "175/175 [==============================] - 1s 5ms/step - loss: 0.4394 - accuracy: 0.8143\n",
      "Epoch 119/200\n",
      "175/175 [==============================] - 2s 13ms/step - loss: 0.4406 - accuracy: 0.8100\n",
      "Epoch 120/200\n",
      "175/175 [==============================] - 1s 7ms/step - loss: 0.4342 - accuracy: 0.8193\n",
      "Epoch 121/200\n",
      "175/175 [==============================] - 1s 4ms/step - loss: 0.4334 - accuracy: 0.8193\n",
      "Epoch 122/200\n",
      "175/175 [==============================] - 1s 3ms/step - loss: 0.4367 - accuracy: 0.8153\n",
      "Epoch 123/200\n",
      "175/175 [==============================] - 1s 4ms/step - loss: 0.4375 - accuracy: 0.8189\n",
      "Epoch 124/200\n",
      "175/175 [==============================] - 1s 3ms/step - loss: 0.4399 - accuracy: 0.8139\n",
      "Epoch 125/200\n",
      "175/175 [==============================] - 1s 4ms/step - loss: 0.4376 - accuracy: 0.8107\n",
      "Epoch 126/200\n",
      "175/175 [==============================] - 1s 3ms/step - loss: 0.4350 - accuracy: 0.8132\n",
      "Epoch 127/200\n",
      "175/175 [==============================] - 1s 4ms/step - loss: 0.4411 - accuracy: 0.8096\n",
      "Epoch 128/200\n",
      "175/175 [==============================] - 1s 3ms/step - loss: 0.4350 - accuracy: 0.8193\n",
      "Epoch 129/200\n",
      "175/175 [==============================] - 1s 3ms/step - loss: 0.4392 - accuracy: 0.8175\n",
      "Epoch 130/200\n",
      "175/175 [==============================] - 1s 4ms/step - loss: 0.4353 - accuracy: 0.8204\n",
      "Epoch 131/200\n",
      "175/175 [==============================] - 1s 4ms/step - loss: 0.4365 - accuracy: 0.8168\n",
      "Epoch 132/200\n",
      "175/175 [==============================] - 1s 4ms/step - loss: 0.4360 - accuracy: 0.8125\n",
      "Epoch 133/200\n",
      "175/175 [==============================] - 1s 4ms/step - loss: 0.4342 - accuracy: 0.8121\n",
      "Epoch 134/200\n",
      "175/175 [==============================] - 1s 4ms/step - loss: 0.4335 - accuracy: 0.8128\n",
      "Epoch 135/200\n",
      "175/175 [==============================] - 1s 4ms/step - loss: 0.4348 - accuracy: 0.8168\n",
      "Epoch 136/200\n",
      "175/175 [==============================] - 1s 5ms/step - loss: 0.4377 - accuracy: 0.8125\n",
      "Epoch 137/200\n",
      "175/175 [==============================] - 1s 5ms/step - loss: 0.4366 - accuracy: 0.8100\n",
      "Epoch 138/200\n",
      "175/175 [==============================] - 1s 6ms/step - loss: 0.4397 - accuracy: 0.8132\n",
      "Epoch 139/200\n",
      "175/175 [==============================] - 1s 5ms/step - loss: 0.4329 - accuracy: 0.8107\n",
      "Epoch 140/200\n",
      "175/175 [==============================] - 1s 4ms/step - loss: 0.4400 - accuracy: 0.8082\n",
      "Epoch 141/200\n",
      "175/175 [==============================] - 1s 3ms/step - loss: 0.4378 - accuracy: 0.8089\n",
      "Epoch 142/200\n",
      "175/175 [==============================] - 1s 4ms/step - loss: 0.4390 - accuracy: 0.8110\n",
      "Epoch 143/200\n",
      "175/175 [==============================] - 1s 3ms/step - loss: 0.4362 - accuracy: 0.8085\n",
      "Epoch 144/200\n",
      "175/175 [==============================] - 1s 3ms/step - loss: 0.4387 - accuracy: 0.8132\n",
      "Epoch 145/200\n",
      "175/175 [==============================] - 1s 3ms/step - loss: 0.4408 - accuracy: 0.8118\n",
      "Epoch 146/200\n",
      "175/175 [==============================] - 1s 3ms/step - loss: 0.4375 - accuracy: 0.8161\n",
      "Epoch 147/200\n",
      "175/175 [==============================] - 1s 3ms/step - loss: 0.4350 - accuracy: 0.8157\n",
      "Epoch 148/200\n",
      "175/175 [==============================] - 1s 4ms/step - loss: 0.4356 - accuracy: 0.8128\n",
      "Epoch 149/200\n",
      "175/175 [==============================] - 1s 3ms/step - loss: 0.4320 - accuracy: 0.8139\n",
      "Epoch 150/200\n",
      "175/175 [==============================] - 1s 4ms/step - loss: 0.4363 - accuracy: 0.8093\n",
      "Epoch 151/200\n",
      "175/175 [==============================] - 1s 3ms/step - loss: 0.4337 - accuracy: 0.8132\n",
      "Epoch 152/200\n",
      "175/175 [==============================] - 0s 3ms/step - loss: 0.4368 - accuracy: 0.8157\n",
      "Epoch 153/200\n",
      "175/175 [==============================] - 1s 3ms/step - loss: 0.4378 - accuracy: 0.8146\n",
      "Epoch 154/200\n",
      "175/175 [==============================] - 1s 3ms/step - loss: 0.4373 - accuracy: 0.8153\n",
      "Epoch 155/200\n",
      "175/175 [==============================] - 1s 4ms/step - loss: 0.4338 - accuracy: 0.8171\n",
      "Epoch 156/200\n",
      "175/175 [==============================] - 1s 4ms/step - loss: 0.4367 - accuracy: 0.8182\n",
      "Epoch 157/200\n",
      "175/175 [==============================] - 1s 5ms/step - loss: 0.4368 - accuracy: 0.8146\n",
      "Epoch 158/200\n",
      "175/175 [==============================] - 1s 5ms/step - loss: 0.4357 - accuracy: 0.8096\n",
      "Epoch 159/200\n",
      "175/175 [==============================] - 1s 4ms/step - loss: 0.4340 - accuracy: 0.8139\n",
      "Epoch 160/200\n",
      "175/175 [==============================] - 1s 4ms/step - loss: 0.4346 - accuracy: 0.8136\n",
      "Epoch 161/200\n",
      "175/175 [==============================] - 1s 5ms/step - loss: 0.4381 - accuracy: 0.8085\n",
      "Epoch 162/200\n",
      "175/175 [==============================] - 1s 4ms/step - loss: 0.4362 - accuracy: 0.8121\n",
      "Epoch 163/200\n",
      "175/175 [==============================] - 1s 4ms/step - loss: 0.4417 - accuracy: 0.8157\n",
      "Epoch 164/200\n",
      "175/175 [==============================] - 1s 4ms/step - loss: 0.4385 - accuracy: 0.8150\n",
      "Epoch 165/200\n",
      "175/175 [==============================] - 1s 4ms/step - loss: 0.4406 - accuracy: 0.8110\n",
      "Epoch 166/200\n",
      "175/175 [==============================] - 1s 3ms/step - loss: 0.4322 - accuracy: 0.8161\n",
      "Epoch 167/200\n",
      "175/175 [==============================] - 1s 3ms/step - loss: 0.4346 - accuracy: 0.8118\n",
      "Epoch 168/200\n",
      "175/175 [==============================] - 1s 3ms/step - loss: 0.4339 - accuracy: 0.8189\n",
      "Epoch 169/200\n",
      "175/175 [==============================] - 1s 3ms/step - loss: 0.4337 - accuracy: 0.8164\n",
      "Epoch 170/200\n",
      "175/175 [==============================] - 1s 3ms/step - loss: 0.4340 - accuracy: 0.8164\n",
      "Epoch 171/200\n",
      "175/175 [==============================] - 1s 3ms/step - loss: 0.4403 - accuracy: 0.8157\n",
      "Epoch 172/200\n",
      "175/175 [==============================] - 1s 4ms/step - loss: 0.4352 - accuracy: 0.8171\n",
      "Epoch 173/200\n",
      "175/175 [==============================] - 1s 4ms/step - loss: 0.4336 - accuracy: 0.8211\n",
      "Epoch 174/200\n",
      "175/175 [==============================] - 1s 3ms/step - loss: 0.4342 - accuracy: 0.8110\n",
      "Epoch 175/200\n",
      "175/175 [==============================] - 1s 3ms/step - loss: 0.4410 - accuracy: 0.8082\n",
      "Epoch 176/200\n",
      "175/175 [==============================] - 1s 3ms/step - loss: 0.4374 - accuracy: 0.8182\n",
      "Epoch 177/200\n",
      "175/175 [==============================] - 1s 3ms/step - loss: 0.4426 - accuracy: 0.8103\n",
      "Epoch 178/200\n",
      "175/175 [==============================] - 1s 4ms/step - loss: 0.4344 - accuracy: 0.8139\n",
      "Epoch 179/200\n",
      "175/175 [==============================] - 1s 5ms/step - loss: 0.4325 - accuracy: 0.8157\n",
      "Epoch 180/200\n",
      "175/175 [==============================] - 1s 6ms/step - loss: 0.4372 - accuracy: 0.8118\n",
      "Epoch 181/200\n",
      "175/175 [==============================] - 1s 5ms/step - loss: 0.4355 - accuracy: 0.8157\n",
      "Epoch 182/200\n",
      "175/175 [==============================] - 1s 6ms/step - loss: 0.4381 - accuracy: 0.8161\n",
      "Epoch 183/200\n",
      "175/175 [==============================] - 1s 3ms/step - loss: 0.4411 - accuracy: 0.8132\n",
      "Epoch 184/200\n",
      "175/175 [==============================] - 1s 4ms/step - loss: 0.4381 - accuracy: 0.8125\n",
      "Epoch 185/200\n",
      "175/175 [==============================] - 1s 3ms/step - loss: 0.4330 - accuracy: 0.8114\n",
      "Epoch 186/200\n",
      "175/175 [==============================] - 1s 3ms/step - loss: 0.4351 - accuracy: 0.8153\n",
      "Epoch 187/200\n",
      "175/175 [==============================] - 0s 3ms/step - loss: 0.4330 - accuracy: 0.8125\n",
      "Epoch 188/200\n",
      "175/175 [==============================] - 1s 4ms/step - loss: 0.4309 - accuracy: 0.8186\n",
      "Epoch 189/200\n",
      "175/175 [==============================] - 1s 4ms/step - loss: 0.4384 - accuracy: 0.8121\n",
      "Epoch 190/200\n",
      "175/175 [==============================] - 1s 3ms/step - loss: 0.4368 - accuracy: 0.8143\n",
      "Epoch 191/200\n",
      "175/175 [==============================] - 1s 4ms/step - loss: 0.4352 - accuracy: 0.8143\n",
      "Epoch 192/200\n",
      "175/175 [==============================] - 1s 4ms/step - loss: 0.4401 - accuracy: 0.8132\n",
      "Epoch 193/200\n",
      "175/175 [==============================] - 1s 4ms/step - loss: 0.4365 - accuracy: 0.8153\n",
      "Epoch 194/200\n",
      "175/175 [==============================] - 1s 4ms/step - loss: 0.4435 - accuracy: 0.8146\n",
      "Epoch 195/200\n",
      "175/175 [==============================] - 1s 4ms/step - loss: 0.4348 - accuracy: 0.8143\n",
      "Epoch 196/200\n",
      "175/175 [==============================] - 1s 4ms/step - loss: 0.4310 - accuracy: 0.8186\n",
      "Epoch 197/200\n",
      "175/175 [==============================] - 1s 4ms/step - loss: 0.4331 - accuracy: 0.8150\n",
      "Epoch 198/200\n",
      "175/175 [==============================] - 1s 4ms/step - loss: 0.4356 - accuracy: 0.8189\n",
      "Epoch 199/200\n",
      "175/175 [==============================] - 1s 6ms/step - loss: 0.4344 - accuracy: 0.8146\n",
      "Epoch 200/200\n",
      "175/175 [==============================] - 1s 6ms/step - loss: 0.4345 - accuracy: 0.8186\n"
     ]
    },
    {
     "data": {
      "text/plain": [
       "<keras.src.callbacks.History at 0x7b7db900f820>"
      ]
     },
     "execution_count": 51,
     "metadata": {},
     "output_type": "execute_result"
    }
   ],
   "source": [
    "### WRITE CODE HERE\n",
    "best_model = create_model(learning_rate=0.001, activation='tanh')\n",
    "best_model.fit(X_train, y_train_vectorized, batch_size=16, epochs=200)"
   ]
  },
  {
   "cell_type": "markdown",
   "metadata": {
    "id": "gbolTfGnUIoS"
   },
   "source": [
    "Q10. Obtain predictions on validation set and print accuracy, precision, recall and F1 score."
   ]
  },
  {
   "cell_type": "code",
   "execution_count": 52,
   "metadata": {
    "colab": {
     "base_uri": "https://localhost:8080/"
    },
    "id": "gAq4vXhDa80L",
    "outputId": "012cdbaf-8ae4-4434-9f0c-841d3be4b7ac"
   },
   "outputs": [
    {
     "name": "stdout",
     "output_type": "stream",
     "text": [
      "38/38 [==============================] - 0s 3ms/step\n",
      "The precision is: 0.5714285714285714\n",
      "The recall is: 0.5185185185185185\n",
      "The accuracy is: 0.8035117056856187\n",
      "The f1 score is: 0.5436893203883496\n"
     ]
    }
   ],
   "source": [
    "### WRITE CODE HERE\n",
    "y_preds_val = best_model.predict(X_val)\n",
    "y_pred_val_classes = np.argmax(y_preds_val, axis=1)\n",
    "\n",
    "print(f'The precision is: {precision(y_val, y_pred_val_classes)}')\n",
    "print(f'The recall is: {recall(y_val, y_pred_val_classes)}')\n",
    "print(f'The accuracy is: {accuracy(y_val, y_pred_val_classes)}')\n",
    "print(f'The f1 score is: {f1(y_val, y_pred_val_classes)}')"
   ]
  },
  {
   "cell_type": "markdown",
   "metadata": {
    "id": "09X3OxlixWRk"
   },
   "source": [
    "Do you get a better accuracy/recall/precision/F1 score than the first NN model you have built in exercise 5? Explain.\n",
    "\n",
    "Ans- We get a better F1-score in this model than the first NN model we built at the start of exercise 5, indicating that this model has a better balance of minimizing both false positives and false negatives. The recall value is also higher in this case. However, precision and accuracy are lower than the original model. However, we believe tjis model does a better job of distinguishing between the classes."
   ]
  },
  {
   "cell_type": "markdown",
   "metadata": {
    "id": "LAkhIzsh_guc"
   },
   "source": [
    "### Logistic Regression and Random Forest\n",
    "In a real world scenario, you can try a number of algorithms for the same problem. Let us work with the same default payment dataset to produce Logistic Regression and Random Forest models."
   ]
  },
  {
   "cell_type": "markdown",
   "metadata": {
    "id": "_U2-FpQhhtdv"
   },
   "source": [
    "Q11. Implement a function logistic_regression_model that returns a logistic regression model with the best paprameters. You will use GridSearchCV to find the best parameters. The parameters search space is up to you. If there is any ConvergenceWarning, increase the number of iterations."
   ]
  },
  {
   "cell_type": "code",
   "execution_count": null,
   "metadata": {
    "id": "Loyy56lozayt"
   },
   "outputs": [],
   "source": [
    "from sklearn.model_selection import GridSearchCV\n",
    "from sklearn.linear_model import LogisticRegression"
   ]
  },
  {
   "cell_type": "code",
   "execution_count": null,
   "metadata": {
    "id": "WfPlQV2P4WYK"
   },
   "outputs": [],
   "source": [
    "lr = LogisticRegression()"
   ]
  },
  {
   "cell_type": "code",
   "execution_count": null,
   "metadata": {
    "id": "6aMakWJb4kjv"
   },
   "outputs": [],
   "source": [
    "param_grid = {\n",
    "    'penalty': ['l1', 'l2'],  # Regularization types\n",
    "    'C': [0.1, 0.3, 0.5, 0.8, 1],  # Regularization strength\n",
    "    'solver': ['liblinear', 'saga']  # Solvers that support both l1 and l2 penalties\n",
    "}"
   ]
  },
  {
   "cell_type": "code",
   "execution_count": null,
   "metadata": {
    "id": "uuKXkG-G47cJ"
   },
   "outputs": [],
   "source": [
    "grid_search = GridSearchCV(lr, param_grid, cv=5)"
   ]
  },
  {
   "cell_type": "code",
   "execution_count": null,
   "metadata": {
    "colab": {
     "base_uri": "https://localhost:8080/"
    },
    "id": "kvaai1Lf473L",
    "outputId": "dc12ccfc-6e38-478f-d605-07623e51cdc7",
    "scrolled": true,
    "tags": []
   },
   "outputs": [
    {
     "name": "stderr",
     "output_type": "stream",
     "text": [
      "/usr/local/lib/python3.10/dist-packages/sklearn/linear_model/_sag.py:350: ConvergenceWarning: The max_iter was reached which means the coef_ did not converge\n",
      "  warnings.warn(\n",
      "/usr/local/lib/python3.10/dist-packages/sklearn/linear_model/_sag.py:350: ConvergenceWarning: The max_iter was reached which means the coef_ did not converge\n",
      "  warnings.warn(\n",
      "/usr/local/lib/python3.10/dist-packages/sklearn/linear_model/_sag.py:350: ConvergenceWarning: The max_iter was reached which means the coef_ did not converge\n",
      "  warnings.warn(\n",
      "/usr/local/lib/python3.10/dist-packages/sklearn/linear_model/_sag.py:350: ConvergenceWarning: The max_iter was reached which means the coef_ did not converge\n",
      "  warnings.warn(\n",
      "/usr/local/lib/python3.10/dist-packages/sklearn/linear_model/_sag.py:350: ConvergenceWarning: The max_iter was reached which means the coef_ did not converge\n",
      "  warnings.warn(\n",
      "/usr/local/lib/python3.10/dist-packages/sklearn/linear_model/_sag.py:350: ConvergenceWarning: The max_iter was reached which means the coef_ did not converge\n",
      "  warnings.warn(\n",
      "/usr/local/lib/python3.10/dist-packages/sklearn/linear_model/_sag.py:350: ConvergenceWarning: The max_iter was reached which means the coef_ did not converge\n",
      "  warnings.warn(\n",
      "/usr/local/lib/python3.10/dist-packages/sklearn/linear_model/_sag.py:350: ConvergenceWarning: The max_iter was reached which means the coef_ did not converge\n",
      "  warnings.warn(\n",
      "/usr/local/lib/python3.10/dist-packages/sklearn/linear_model/_sag.py:350: ConvergenceWarning: The max_iter was reached which means the coef_ did not converge\n",
      "  warnings.warn(\n",
      "/usr/local/lib/python3.10/dist-packages/sklearn/linear_model/_sag.py:350: ConvergenceWarning: The max_iter was reached which means the coef_ did not converge\n",
      "  warnings.warn(\n",
      "/usr/local/lib/python3.10/dist-packages/sklearn/linear_model/_sag.py:350: ConvergenceWarning: The max_iter was reached which means the coef_ did not converge\n",
      "  warnings.warn(\n",
      "/usr/local/lib/python3.10/dist-packages/sklearn/linear_model/_sag.py:350: ConvergenceWarning: The max_iter was reached which means the coef_ did not converge\n",
      "  warnings.warn(\n",
      "/usr/local/lib/python3.10/dist-packages/sklearn/linear_model/_sag.py:350: ConvergenceWarning: The max_iter was reached which means the coef_ did not converge\n",
      "  warnings.warn(\n",
      "/usr/local/lib/python3.10/dist-packages/sklearn/linear_model/_sag.py:350: ConvergenceWarning: The max_iter was reached which means the coef_ did not converge\n",
      "  warnings.warn(\n",
      "/usr/local/lib/python3.10/dist-packages/sklearn/linear_model/_sag.py:350: ConvergenceWarning: The max_iter was reached which means the coef_ did not converge\n",
      "  warnings.warn(\n",
      "/usr/local/lib/python3.10/dist-packages/sklearn/linear_model/_sag.py:350: ConvergenceWarning: The max_iter was reached which means the coef_ did not converge\n",
      "  warnings.warn(\n",
      "/usr/local/lib/python3.10/dist-packages/sklearn/linear_model/_sag.py:350: ConvergenceWarning: The max_iter was reached which means the coef_ did not converge\n",
      "  warnings.warn(\n",
      "/usr/local/lib/python3.10/dist-packages/sklearn/linear_model/_sag.py:350: ConvergenceWarning: The max_iter was reached which means the coef_ did not converge\n",
      "  warnings.warn(\n",
      "/usr/local/lib/python3.10/dist-packages/sklearn/linear_model/_sag.py:350: ConvergenceWarning: The max_iter was reached which means the coef_ did not converge\n",
      "  warnings.warn(\n",
      "/usr/local/lib/python3.10/dist-packages/sklearn/linear_model/_sag.py:350: ConvergenceWarning: The max_iter was reached which means the coef_ did not converge\n",
      "  warnings.warn(\n",
      "/usr/local/lib/python3.10/dist-packages/sklearn/linear_model/_sag.py:350: ConvergenceWarning: The max_iter was reached which means the coef_ did not converge\n",
      "  warnings.warn(\n",
      "/usr/local/lib/python3.10/dist-packages/sklearn/linear_model/_sag.py:350: ConvergenceWarning: The max_iter was reached which means the coef_ did not converge\n",
      "  warnings.warn(\n"
     ]
    }
   ],
   "source": [
    "grid_search.fit(X_train, y_train)"
   ]
  },
  {
   "cell_type": "code",
   "execution_count": null,
   "metadata": {
    "colab": {
     "base_uri": "https://localhost:8080/"
    },
    "id": "i6lGOcnG48MA",
    "outputId": "ddb8caae-816c-4eb7-853f-65415bb093ce"
   },
   "outputs": [
    {
     "data": {
      "text/plain": [
       "{'C': 0.8, 'penalty': 'l1', 'solver': 'liblinear'}"
      ]
     },
     "execution_count": 89,
     "metadata": {},
     "output_type": "execute_result"
    }
   ],
   "source": [
    "grid_search.best_params_"
   ]
  },
  {
   "cell_type": "code",
   "execution_count": null,
   "metadata": {
    "id": "OxvUsf7I_guc"
   },
   "outputs": [],
   "source": [
    "def logistic_regression_model(X_train, y_train):\n",
    "    ### YOUR CODE HERE ###\n",
    "\n",
    "    model = LogisticRegression(C=0.8, penalty='l1', solver='liblinear')\n",
    "\n",
    "    model.fit(X_train, y_train)\n",
    "\n",
    "    ######################\n",
    "    return model# Return a logistic model with the best parameters you found"
   ]
  },
  {
   "cell_type": "markdown",
   "metadata": {
    "id": "peFhmNJYksHl"
   },
   "source": [
    "Q12. Fit the model by training set, obtain predictions on validation set and compute accuracy, precision, recall and F1 score."
   ]
  },
  {
   "cell_type": "code",
   "execution_count": null,
   "metadata": {
    "colab": {
     "base_uri": "https://localhost:8080/"
    },
    "id": "2HmLPe08_guc",
    "outputId": "3ace16cd-7a31-4cf9-fda8-88438fe02cc1"
   },
   "outputs": [
    {
     "name": "stdout",
     "output_type": "stream",
     "text": [
      "The precision is: 0.6685714285714286\n",
      "The recall is: 0.43333333333333335\n",
      "The accuracy is: 0.8235785953177257\n",
      "The f1 score is: 0.5258426966292136\n"
     ]
    }
   ],
   "source": [
    "# fit the model\n",
    "# compute accuracy,precision,recall on validation set\n",
    "### YOUR CODE HERE ###\n",
    "best_lr = logistic_regression_model(X_train, y_train)\n",
    "\n",
    "y_val_preds = best_lr.predict(X_val)\n",
    "\n",
    "print(f'The precision is: {precision(y_val, y_val_preds)}')\n",
    "print(f'The recall is: {recall(y_val, y_val_preds)}')\n",
    "print(f'The accuracy is: {accuracy(y_val, y_val_preds)}')\n",
    "print(f'The f1 score is: {f1(y_val, y_val_preds)}')"
   ]
  },
  {
   "cell_type": "markdown",
   "metadata": {
    "id": "sJ79uCf3mcHN"
   },
   "source": [
    "Q13. Plot the ROC curve by giving appropriate names for title and axes."
   ]
  },
  {
   "cell_type": "code",
   "execution_count": null,
   "metadata": {
    "colab": {
     "base_uri": "https://localhost:8080/",
     "height": 564
    },
    "id": "1cvXDdiH_guc",
    "outputId": "a9318cc9-837d-4803-aa51-bf65cf042b4d"
   },
   "outputs": [
    {
     "data": {
      "image/png": "[encoded data removed]",
      "text/plain": [
       "<Figure size 800x600 with 1 Axes>"
      ]
     },
     "metadata": {},
     "output_type": "display_data"
    }
   ],
   "source": [
    "### WRITE CODE HERE\n",
    "y_pred_proba = best_lr.predict_proba(X_val)[:, 1]\n",
    "\n",
    "# Calculate ROC Curve\n",
    "fpr, tpr, thresholds = roc_curve(y_val, y_pred_proba)\n",
    "\n",
    "# Calculate AUC\n",
    "roc_auc = auc(fpr, tpr)\n",
    "\n",
    "plt.figure(figsize=(8, 6))\n",
    "plt.plot(fpr, tpr, color='darkorange', lw=2, label='ROC curve (area = %0.2f)' % roc_auc)\n",
    "plt.plot([0, 1], [0, 1], color='navy', lw=2, linestyle='--')\n",
    "plt.xlim([0.0, 1.0])\n",
    "plt.ylim([0.0, 1.05])\n",
    "plt.xlabel('False Positive Rate')\n",
    "plt.ylabel('True Positive Rate')\n",
    "plt.title('Receiver Operating Characteristic (ROC) Curve')\n",
    "plt.legend(loc=\"lower right\")\n",
    "plt.show()"
   ]
  },
  {
   "cell_type": "markdown",
   "metadata": {
    "id": "UrJqeP4wnAlp"
   },
   "source": [
    "Q14. Implement a function random_forest_model that returns a random forest model with the best paprameters. You will apply GridSearchCV to find the best parameters. The parameter search space is up to you. (Please set the random state of RandomForestClassifier to be 26.)"
   ]
  },
  {
   "cell_type": "code",
   "execution_count": 53,
   "metadata": {
    "id": "q-AOghod861n"
   },
   "outputs": [],
   "source": [
    "from sklearn.ensemble import RandomForestClassifier"
   ]
  },
  {
   "cell_type": "code",
   "execution_count": 54,
   "metadata": {
    "id": "T_0bWuI586rl"
   },
   "outputs": [],
   "source": [
    "rf = RandomForestClassifier(random_state=26)"
   ]
  },
  {
   "cell_type": "code",
   "execution_count": 55,
   "metadata": {
    "id": "Kfl31rQ186Zj"
   },
   "outputs": [],
   "source": [
    "param_grid = {\n",
    "    'max_depth': [1, 3, 6, None],\n",
    "    'max_features': ['sqrt', 'log2', None],\n",
    "    'min_samples_leaf': [1, 2, 4, 8],\n",
    "    'min_samples_split': [2, 4, 8],\n",
    "    'n_estimators': [25, 100, 200]\n",
    "}"
   ]
  },
  {
   "cell_type": "code",
   "execution_count": 56,
   "metadata": {
    "colab": {
     "base_uri": "https://localhost:8080/",
     "height": 136
    },
    "id": "XJmmXvz786Oe",
    "outputId": "cb334bf8-6471-495f-b74b-2fa6a41402c0"
   },
   "outputs": [
    {
     "name": "stdout",
     "output_type": "stream",
     "text": [
      "Fitting 5 folds for each of 432 candidates, totalling 2160 fits\n"
     ]
    },
    {
     "data": {
      "text/html": [
       "<style>#sk-container-id-1 {color: black;background-color: white;}#sk-container-id-1 pre{padding: 0;}#sk-container-id-1 div.sk-toggleable {background-color: white;}#sk-container-id-1 label.sk-toggleable__label {cursor: pointer;display: block;width: 100%;margin-bottom: 0;padding: 0.3em;box-sizing: border-box;text-align: center;}#sk-container-id-1 label.sk-toggleable__label-arrow:before {content: \"▸\";float: left;margin-right: 0.25em;color: #696969;}#sk-container-id-1 label.sk-toggleable__label-arrow:hover:before {color: black;}#sk-container-id-1 div.sk-estimator:hover label.sk-toggleable__label-arrow:before {color: black;}#sk-container-id-1 div.sk-toggleable__content {max-height: 0;max-width: 0;overflow: hidden;text-align: left;background-color: #f0f8ff;}#sk-container-id-1 div.sk-toggleable__content pre {margin: 0.2em;color: black;border-radius: 0.25em;background-color: #f0f8ff;}#sk-container-id-1 input.sk-toggleable__control:checked~div.sk-toggleable__content {max-height: 200px;max-width: 100%;overflow: auto;}#sk-container-id-1 input.sk-toggleable__control:checked~label.sk-toggleable__label-arrow:before {content: \"▾\";}#sk-container-id-1 div.sk-estimator input.sk-toggleable__control:checked~label.sk-toggleable__label {background-color: #d4ebff;}#sk-container-id-1 div.sk-label input.sk-toggleable__control:checked~label.sk-toggleable__label {background-color: #d4ebff;}#sk-container-id-1 input.sk-hidden--visually {border: 0;clip: rect(1px 1px 1px 1px);clip: rect(1px, 1px, 1px, 1px);height: 1px;margin: -1px;overflow: hidden;padding: 0;position: absolute;width: 1px;}#sk-container-id-1 div.sk-estimator {font-family: monospace;background-color: #f0f8ff;border: 1px dotted black;border-radius: 0.25em;box-sizing: border-box;margin-bottom: 0.5em;}#sk-container-id-1 div.sk-estimator:hover {background-color: #d4ebff;}#sk-container-id-1 div.sk-parallel-item::after {content: \"\";width: 100%;border-bottom: 1px solid gray;flex-grow: 1;}#sk-container-id-1 div.sk-label:hover label.sk-toggleable__label {background-color: #d4ebff;}#sk-container-id-1 div.sk-serial::before {content: \"\";position: absolute;border-left: 1px solid gray;box-sizing: border-box;top: 0;bottom: 0;left: 50%;z-index: 0;}#sk-container-id-1 div.sk-serial {display: flex;flex-direction: column;align-items: center;background-color: white;padding-right: 0.2em;padding-left: 0.2em;position: relative;}#sk-container-id-1 div.sk-item {position: relative;z-index: 1;}#sk-container-id-1 div.sk-parallel {display: flex;align-items: stretch;justify-content: center;background-color: white;position: relative;}#sk-container-id-1 div.sk-item::before, #sk-container-id-1 div.sk-parallel-item::before {content: \"\";position: absolute;border-left: 1px solid gray;box-sizing: border-box;top: 0;bottom: 0;left: 50%;z-index: -1;}#sk-container-id-1 div.sk-parallel-item {display: flex;flex-direction: column;z-index: 1;position: relative;background-color: white;}#sk-container-id-1 div.sk-parallel-item:first-child::after {align-self: flex-end;width: 50%;}#sk-container-id-1 div.sk-parallel-item:last-child::after {align-self: flex-start;width: 50%;}#sk-container-id-1 div.sk-parallel-item:only-child::after {width: 0;}#sk-container-id-1 div.sk-dashed-wrapped {border: 1px dashed gray;margin: 0 0.4em 0.5em 0.4em;box-sizing: border-box;padding-bottom: 0.4em;background-color: white;}#sk-container-id-1 div.sk-label label {font-family: monospace;font-weight: bold;display: inline-block;line-height: 1.2em;}#sk-container-id-1 div.sk-label-container {text-align: center;}#sk-container-id-1 div.sk-container {/* jupyter's `normalize.less` sets `[hidden] { display: none; }` but bootstrap.min.css set `[hidden] { display: none !important; }` so we also need the `!important` here to be able to override the default hidden behavior on the sphinx rendered scikit-learn.org. See: https://github.com/scikit-learn/scikit-learn/issues/21755 */display: inline-block !important;position: relative;}#sk-container-id-1 div.sk-text-repr-fallback {display: none;}</style><div id=\"sk-container-id-1\" class=\"sk-top-container\"><div class=\"sk-text-repr-fallback\"><pre>GridSearchCV(cv=5, estimator=RandomForestClassifier(random_state=26), n_jobs=-1,\n",
       "             param_grid={&#x27;max_depth&#x27;: [1, 3, 6, None],\n",
       "                         &#x27;max_features&#x27;: [&#x27;sqrt&#x27;, &#x27;log2&#x27;, None],\n",
       "                         &#x27;min_samples_leaf&#x27;: [1, 2, 4, 8],\n",
       "                         &#x27;min_samples_split&#x27;: [2, 4, 8],\n",
       "                         &#x27;n_estimators&#x27;: [25, 100, 200]},\n",
       "             verbose=2)</pre><b>In a Jupyter environment, please rerun this cell to show the HTML representation or trust the notebook. <br />On GitHub, the HTML representation is unable to render, please try loading this page with nbviewer.org.</b></div><div class=\"sk-container\" hidden><div class=\"sk-item sk-dashed-wrapped\"><div class=\"sk-label-container\"><div class=\"sk-label sk-toggleable\"><input class=\"sk-toggleable__control sk-hidden--visually\" id=\"sk-estimator-id-1\" type=\"checkbox\" ><label for=\"sk-estimator-id-1\" class=\"sk-toggleable__label sk-toggleable__label-arrow\">GridSearchCV</label><div class=\"sk-toggleable__content\"><pre>GridSearchCV(cv=5, estimator=RandomForestClassifier(random_state=26), n_jobs=-1,\n",
       "             param_grid={&#x27;max_depth&#x27;: [1, 3, 6, None],\n",
       "                         &#x27;max_features&#x27;: [&#x27;sqrt&#x27;, &#x27;log2&#x27;, None],\n",
       "                         &#x27;min_samples_leaf&#x27;: [1, 2, 4, 8],\n",
       "                         &#x27;min_samples_split&#x27;: [2, 4, 8],\n",
       "                         &#x27;n_estimators&#x27;: [25, 100, 200]},\n",
       "             verbose=2)</pre></div></div></div><div class=\"sk-parallel\"><div class=\"sk-parallel-item\"><div class=\"sk-item\"><div class=\"sk-label-container\"><div class=\"sk-label sk-toggleable\"><input class=\"sk-toggleable__control sk-hidden--visually\" id=\"sk-estimator-id-2\" type=\"checkbox\" ><label for=\"sk-estimator-id-2\" class=\"sk-toggleable__label sk-toggleable__label-arrow\">estimator: RandomForestClassifier</label><div class=\"sk-toggleable__content\"><pre>RandomForestClassifier(random_state=26)</pre></div></div></div><div class=\"sk-serial\"><div class=\"sk-item\"><div class=\"sk-estimator sk-toggleable\"><input class=\"sk-toggleable__control sk-hidden--visually\" id=\"sk-estimator-id-3\" type=\"checkbox\" ><label for=\"sk-estimator-id-3\" class=\"sk-toggleable__label sk-toggleable__label-arrow\">RandomForestClassifier</label><div class=\"sk-toggleable__content\"><pre>RandomForestClassifier(random_state=26)</pre></div></div></div></div></div></div></div></div></div></div>"
      ],
      "text/plain": [
       "GridSearchCV(cv=5, estimator=RandomForestClassifier(random_state=26), n_jobs=-1,\n",
       "             param_grid={'max_depth': [1, 3, 6, None],\n",
       "                         'max_features': ['sqrt', 'log2', None],\n",
       "                         'min_samples_leaf': [1, 2, 4, 8],\n",
       "                         'min_samples_split': [2, 4, 8],\n",
       "                         'n_estimators': [25, 100, 200]},\n",
       "             verbose=2)"
      ]
     },
     "execution_count": 56,
     "metadata": {},
     "output_type": "execute_result"
    }
   ],
   "source": [
    "grid_search = GridSearchCV(estimator = rf, param_grid = param_grid,\n",
    "                          cv = 5, n_jobs = -1, verbose = 2)\n",
    "\n",
    "grid_search.fit(X_train, y_train)"
   ]
  },
  {
   "cell_type": "code",
   "execution_count": 57,
   "metadata": {
    "colab": {
     "base_uri": "https://localhost:8080/"
    },
    "id": "1QRM0LlQ9V58",
    "outputId": "c37f3b13-3874-4f70-c931-5c7043b0caa0"
   },
   "outputs": [
    {
     "data": {
      "text/plain": [
       "{'max_depth': None,\n",
       " 'max_features': 'sqrt',\n",
       " 'min_samples_leaf': 1,\n",
       " 'min_samples_split': 8,\n",
       " 'n_estimators': 200}"
      ]
     },
     "execution_count": 57,
     "metadata": {},
     "output_type": "execute_result"
    }
   ],
   "source": [
    "grid_search.best_params_"
   ]
  },
  {
   "cell_type": "code",
   "execution_count": 58,
   "metadata": {
    "colab": {
     "base_uri": "https://localhost:8080/"
    },
    "id": "PkRJ_dXI9Yay",
    "outputId": "b2b814de-7899-45ce-bc23-a8e31388de78"
   },
   "outputs": [
    {
     "data": {
      "text/plain": [
       "0.8128292246610425"
      ]
     },
     "execution_count": 58,
     "metadata": {},
     "output_type": "execute_result"
    }
   ],
   "source": [
    "grid_search.best_score_"
   ]
  },
  {
   "cell_type": "code",
   "execution_count": 59,
   "metadata": {
    "id": "6FwUS0At_guc"
   },
   "outputs": [],
   "source": [
    "def random_forest_model(X_train, y_train):\n",
    "    rf = RandomForestClassifier(max_depth=None, max_features='sqrt', min_samples_leaf=1, min_samples_split=8,\n",
    "                                n_estimators=200,random_state=26) # Please set the random state to be 26\n",
    "    ### YOUR CODE HERE ###\n",
    "    rf.fit(X_train, y_train)\n",
    "\n",
    "    return rf# Return a logistic model with the best parameters you found and random_state=26"
   ]
  },
  {
   "cell_type": "markdown",
   "metadata": {
    "id": "dJvKtZ5Ho0by"
   },
   "source": [
    "Q15. Fit the model by training set, obtain predictions on validation set and compute accuracy, precision, recall and F1 score."
   ]
  },
  {
   "cell_type": "code",
   "execution_count": 60,
   "metadata": {
    "colab": {
     "base_uri": "https://localhost:8080/"
    },
    "id": "1ygnG-7U_guc",
    "outputId": "e25065c8-544a-4411-df53-f11e5d6f9d90"
   },
   "outputs": [
    {
     "name": "stdout",
     "output_type": "stream",
     "text": [
      "The precision is: 0.6237113402061856\n",
      "The recall is: 0.44814814814814813\n",
      "The accuracy is: 0.81438127090301\n",
      "The f1 score is: 0.5215517241379309\n"
     ]
    }
   ],
   "source": [
    "### WRITE CODE HERE\n",
    "best_rf = random_forest_model(X_train, y_train)\n",
    "\n",
    "y_val_preds = best_rf.predict(X_val)\n",
    "\n",
    "print(f'The precision is: {precision(y_val, y_val_preds)}')\n",
    "print(f'The recall is: {recall(y_val, y_val_preds)}')\n",
    "print(f'The accuracy is: {accuracy(y_val, y_val_preds)}')\n",
    "print(f'The f1 score is: {f1(y_val, y_val_preds)}')"
   ]
  },
  {
   "cell_type": "markdown",
   "metadata": {
    "id": "oPN8cSbMo6hh"
   },
   "source": [
    "Q16. Plot the ROC curve by giving appropriate names for title and axes."
   ]
  },
  {
   "cell_type": "code",
   "execution_count": 61,
   "metadata": {
    "colab": {
     "base_uri": "https://localhost:8080/",
     "height": 564
    },
    "id": "X7mtOQ1B_guc",
    "outputId": "be749644-3b5a-4648-fbdd-d5021e3d195c"
   },
   "outputs": [
    {
     "data": {
      "image/png": "[encoded data removed]",
      "text/plain": [
       "<Figure size 800x600 with 1 Axes>"
      ]
     },
     "metadata": {},
     "output_type": "display_data"
    }
   ],
   "source": [
    "y_pred_proba = best_rf.predict_proba(X_val)[:, 1]\n",
    "\n",
    "# Calculate ROC Curve\n",
    "fpr, tpr, thresholds = roc_curve(y_val, y_pred_proba)\n",
    "\n",
    "# Calculate AUC\n",
    "roc_auc = auc(fpr, tpr)\n",
    "\n",
    "plt.figure(figsize=(8, 6))\n",
    "plt.plot(fpr, tpr, color='darkorange', lw=2, label='ROC curve (area = %0.2f)' % roc_auc)\n",
    "plt.plot([0, 1], [0, 1], color='navy', lw=2, linestyle='--')\n",
    "plt.xlim([0.0, 1.0])\n",
    "plt.ylim([0.0, 1.05])\n",
    "plt.xlabel('False Positive Rate')\n",
    "plt.ylabel('True Positive Rate')\n",
    "plt.title('Receiver Operating Characteristic (ROC) Curve')\n",
    "plt.legend(loc=\"lower right\")\n",
    "plt.show()"
   ]
  },
  {
   "cell_type": "markdown",
   "metadata": {
    "id": "RIYIR7PX_guc"
   },
   "source": [
    "Q17: Which of the above 3 models (NN, Logistic function and random forest) worked best for you? Explain in details the reason for good/bad performance for each of the models?\n",
    "\n",
    "As per out chosen metric (F1 score), the neural network has the best performance. However, the performance of the models are fairly similar with regards to accuracy. As the neural network is more flexible, it is able to identify representations in the data that might be too complex for logistic regression and random forests. Logistic regression is the simplest of the models, but still performs fairly well as it is able to capture the basic features of the data without being prone to overfitting. The random forest uses aggregation and bootstrapping to enhance the performnce of many weak learners so that they do well collectively. </br>\n",
    "\n",
    "However, Neural network performs the best due to its ability to learn complex representations and perform complex non-linear transformations.\n",
    "\n"
   ]
  },
  {
   "cell_type": "markdown",
   "metadata": {
    "id": "SLTYUUkg_guc"
   },
   "source": [
    "Using the best of the above 3 models, obtain predictions for the test set."
   ]
  },
  {
   "cell_type": "code",
   "execution_count": 63,
   "metadata": {
    "id": "KqdcA-fEs8UI"
   },
   "outputs": [],
   "source": [
    "from tensorflow.keras.utils import to_categorical\n",
    "\n",
    "df_training_y_vectorized = to_categorical(df_training_y)"
   ]
  },
  {
   "cell_type": "code",
   "execution_count": 64,
   "metadata": {
    "colab": {
     "base_uri": "https://localhost:8080/"
    },
    "id": "f0xz4rCer2cK",
    "outputId": "98311a6c-bb5b-4563-9c4a-88e043be0d08",
    "scrolled": true,
    "tags": []
   },
   "outputs": [
    {
     "name": "stdout",
     "output_type": "stream",
     "text": [
      "Epoch 1/200\n",
      "250/250 [==============================] - 2s 6ms/step - loss: 0.6224 - accuracy: 0.6994\n",
      "Epoch 2/200\n",
      "250/250 [==============================] - 1s 6ms/step - loss: 0.5269 - accuracy: 0.7629\n",
      "Epoch 3/200\n",
      "250/250 [==============================] - 1s 6ms/step - loss: 0.5035 - accuracy: 0.7772\n",
      "Epoch 4/200\n",
      "250/250 [==============================] - 1s 4ms/step - loss: 0.4859 - accuracy: 0.7917\n",
      "Epoch 5/200\n",
      "250/250 [==============================] - 1s 4ms/step - loss: 0.4763 - accuracy: 0.7947\n",
      "Epoch 6/200\n",
      "250/250 [==============================] - 1s 5ms/step - loss: 0.4719 - accuracy: 0.7957\n",
      "Epoch 7/200\n",
      "250/250 [==============================] - 2s 6ms/step - loss: 0.4739 - accuracy: 0.7985\n",
      "Epoch 8/200\n",
      "250/250 [==============================] - 2s 7ms/step - loss: 0.4656 - accuracy: 0.8043\n",
      "Epoch 9/200\n",
      "250/250 [==============================] - 1s 6ms/step - loss: 0.4601 - accuracy: 0.8038\n",
      "Epoch 10/200\n",
      "250/250 [==============================] - 1s 4ms/step - loss: 0.4631 - accuracy: 0.8078\n",
      "Epoch 11/200\n",
      "250/250 [==============================] - 1s 4ms/step - loss: 0.4591 - accuracy: 0.8003\n",
      "Epoch 12/200\n",
      "250/250 [==============================] - 1s 5ms/step - loss: 0.4605 - accuracy: 0.7967\n",
      "Epoch 13/200\n",
      "250/250 [==============================] - 1s 4ms/step - loss: 0.4504 - accuracy: 0.8063\n",
      "Epoch 14/200\n",
      "250/250 [==============================] - 1s 5ms/step - loss: 0.4552 - accuracy: 0.7987\n",
      "Epoch 15/200\n",
      "250/250 [==============================] - 1s 3ms/step - loss: 0.4572 - accuracy: 0.8098\n",
      "Epoch 16/200\n",
      "250/250 [==============================] - 1s 3ms/step - loss: 0.4544 - accuracy: 0.8035\n",
      "Epoch 17/200\n",
      "250/250 [==============================] - 1s 3ms/step - loss: 0.4505 - accuracy: 0.8043\n",
      "Epoch 18/200\n",
      "250/250 [==============================] - 1s 3ms/step - loss: 0.4474 - accuracy: 0.8118\n",
      "Epoch 19/200\n",
      "250/250 [==============================] - 1s 4ms/step - loss: 0.4482 - accuracy: 0.8065\n",
      "Epoch 20/200\n",
      "250/250 [==============================] - 2s 8ms/step - loss: 0.4525 - accuracy: 0.8030\n",
      "Epoch 21/200\n",
      "250/250 [==============================] - 3s 10ms/step - loss: 0.4494 - accuracy: 0.8085\n",
      "Epoch 22/200\n",
      "250/250 [==============================] - 3s 14ms/step - loss: 0.4496 - accuracy: 0.8023\n",
      "Epoch 23/200\n",
      "250/250 [==============================] - 3s 13ms/step - loss: 0.4520 - accuracy: 0.8063\n",
      "Epoch 24/200\n",
      "250/250 [==============================] - 2s 7ms/step - loss: 0.4511 - accuracy: 0.8058\n",
      "Epoch 25/200\n",
      "250/250 [==============================] - 1s 5ms/step - loss: 0.4466 - accuracy: 0.8093\n",
      "Epoch 26/200\n",
      "250/250 [==============================] - 2s 6ms/step - loss: 0.4474 - accuracy: 0.8015\n",
      "Epoch 27/200\n",
      "250/250 [==============================] - 1s 6ms/step - loss: 0.4463 - accuracy: 0.8103\n",
      "Epoch 28/200\n",
      "250/250 [==============================] - 2s 6ms/step - loss: 0.4496 - accuracy: 0.8055\n",
      "Epoch 29/200\n",
      "250/250 [==============================] - 2s 7ms/step - loss: 0.4439 - accuracy: 0.8123\n",
      "Epoch 30/200\n",
      "250/250 [==============================] - 2s 6ms/step - loss: 0.4457 - accuracy: 0.8055\n",
      "Epoch 31/200\n",
      "250/250 [==============================] - 1s 5ms/step - loss: 0.4506 - accuracy: 0.8105\n",
      "Epoch 32/200\n",
      "250/250 [==============================] - 1s 6ms/step - loss: 0.4477 - accuracy: 0.8073\n",
      "Epoch 33/200\n",
      "250/250 [==============================] - 1s 4ms/step - loss: 0.4492 - accuracy: 0.8085\n",
      "Epoch 34/200\n",
      "250/250 [==============================] - 1s 3ms/step - loss: 0.4489 - accuracy: 0.8058\n",
      "Epoch 35/200\n",
      "250/250 [==============================] - 1s 3ms/step - loss: 0.4446 - accuracy: 0.8120\n",
      "Epoch 36/200\n",
      "250/250 [==============================] - 1s 3ms/step - loss: 0.4437 - accuracy: 0.8095\n",
      "Epoch 37/200\n",
      "250/250 [==============================] - 1s 4ms/step - loss: 0.4478 - accuracy: 0.8043\n",
      "Epoch 38/200\n",
      "250/250 [==============================] - 1s 4ms/step - loss: 0.4456 - accuracy: 0.8055\n",
      "Epoch 39/200\n",
      "250/250 [==============================] - 1s 4ms/step - loss: 0.4467 - accuracy: 0.8053\n",
      "Epoch 40/200\n",
      "250/250 [==============================] - 1s 4ms/step - loss: 0.4433 - accuracy: 0.8070\n",
      "Epoch 41/200\n",
      "250/250 [==============================] - 1s 3ms/step - loss: 0.4457 - accuracy: 0.8098\n",
      "Epoch 42/200\n",
      "250/250 [==============================] - 1s 3ms/step - loss: 0.4446 - accuracy: 0.8100\n",
      "Epoch 43/200\n",
      "250/250 [==============================] - 1s 4ms/step - loss: 0.4484 - accuracy: 0.8038\n",
      "Epoch 44/200\n",
      "250/250 [==============================] - 1s 5ms/step - loss: 0.4446 - accuracy: 0.8085\n",
      "Epoch 45/200\n",
      "250/250 [==============================] - 1s 6ms/step - loss: 0.4460 - accuracy: 0.8130\n",
      "Epoch 46/200\n",
      "250/250 [==============================] - 1s 6ms/step - loss: 0.4445 - accuracy: 0.8085\n",
      "Epoch 47/200\n",
      "250/250 [==============================] - 1s 4ms/step - loss: 0.4439 - accuracy: 0.8083\n",
      "Epoch 48/200\n",
      "250/250 [==============================] - 1s 4ms/step - loss: 0.4434 - accuracy: 0.8078\n",
      "Epoch 49/200\n",
      "250/250 [==============================] - 1s 4ms/step - loss: 0.4475 - accuracy: 0.8048\n",
      "Epoch 50/200\n",
      "250/250 [==============================] - 1s 3ms/step - loss: 0.4434 - accuracy: 0.8088\n",
      "Epoch 51/200\n",
      "250/250 [==============================] - 1s 3ms/step - loss: 0.4428 - accuracy: 0.8015\n",
      "Epoch 52/200\n",
      "250/250 [==============================] - 1s 6ms/step - loss: 0.4408 - accuracy: 0.8123\n",
      "Epoch 53/200\n",
      "250/250 [==============================] - 3s 10ms/step - loss: 0.4468 - accuracy: 0.8035\n",
      "Epoch 54/200\n",
      "250/250 [==============================] - 3s 11ms/step - loss: 0.4446 - accuracy: 0.8108\n",
      "Epoch 55/200\n",
      "250/250 [==============================] - 2s 7ms/step - loss: 0.4468 - accuracy: 0.8035\n",
      "Epoch 56/200\n",
      "250/250 [==============================] - 2s 7ms/step - loss: 0.4457 - accuracy: 0.8065\n",
      "Epoch 57/200\n",
      "250/250 [==============================] - 1s 6ms/step - loss: 0.4445 - accuracy: 0.8118\n",
      "Epoch 58/200\n",
      "250/250 [==============================] - 1s 5ms/step - loss: 0.4456 - accuracy: 0.8095\n",
      "Epoch 59/200\n",
      "250/250 [==============================] - 1s 6ms/step - loss: 0.4451 - accuracy: 0.8090\n",
      "Epoch 60/200\n",
      "250/250 [==============================] - 1s 6ms/step - loss: 0.4411 - accuracy: 0.8065\n",
      "Epoch 61/200\n",
      "250/250 [==============================] - 1s 5ms/step - loss: 0.4465 - accuracy: 0.8110\n",
      "Epoch 62/200\n",
      "250/250 [==============================] - 1s 5ms/step - loss: 0.4455 - accuracy: 0.8095\n",
      "Epoch 63/200\n",
      "250/250 [==============================] - 1s 5ms/step - loss: 0.4392 - accuracy: 0.8103\n",
      "Epoch 64/200\n",
      "250/250 [==============================] - 2s 6ms/step - loss: 0.4424 - accuracy: 0.8075\n",
      "Epoch 65/200\n",
      "250/250 [==============================] - 2s 9ms/step - loss: 0.4459 - accuracy: 0.8115\n",
      "Epoch 66/200\n",
      "250/250 [==============================] - 2s 8ms/step - loss: 0.4469 - accuracy: 0.8108\n",
      "Epoch 67/200\n",
      "250/250 [==============================] - 2s 9ms/step - loss: 0.4436 - accuracy: 0.8103\n",
      "Epoch 68/200\n",
      "250/250 [==============================] - 3s 11ms/step - loss: 0.4400 - accuracy: 0.8060\n",
      "Epoch 69/200\n",
      "250/250 [==============================] - 2s 7ms/step - loss: 0.4483 - accuracy: 0.8045\n",
      "Epoch 70/200\n",
      "250/250 [==============================] - 3s 13ms/step - loss: 0.4451 - accuracy: 0.8075\n",
      "Epoch 71/200\n",
      "250/250 [==============================] - 3s 14ms/step - loss: 0.4464 - accuracy: 0.8100\n",
      "Epoch 72/200\n",
      "250/250 [==============================] - 3s 10ms/step - loss: 0.4423 - accuracy: 0.8083\n",
      "Epoch 73/200\n",
      "250/250 [==============================] - 2s 7ms/step - loss: 0.4398 - accuracy: 0.8125\n",
      "Epoch 74/200\n",
      "250/250 [==============================] - 2s 9ms/step - loss: 0.4409 - accuracy: 0.8095\n",
      "Epoch 75/200\n",
      "250/250 [==============================] - 2s 7ms/step - loss: 0.4459 - accuracy: 0.8110\n",
      "Epoch 76/200\n",
      "250/250 [==============================] - 3s 11ms/step - loss: 0.4447 - accuracy: 0.8098\n",
      "Epoch 77/200\n",
      "250/250 [==============================] - 4s 16ms/step - loss: 0.4406 - accuracy: 0.8103\n",
      "Epoch 78/200\n",
      "250/250 [==============================] - 4s 15ms/step - loss: 0.4416 - accuracy: 0.8108\n",
      "Epoch 79/200\n",
      "250/250 [==============================] - 3s 11ms/step - loss: 0.4444 - accuracy: 0.8095\n",
      "Epoch 80/200\n",
      "250/250 [==============================] - 1s 4ms/step - loss: 0.4424 - accuracy: 0.8153\n",
      "Epoch 81/200\n",
      "250/250 [==============================] - 2s 9ms/step - loss: 0.4429 - accuracy: 0.8133\n",
      "Epoch 82/200\n",
      "250/250 [==============================] - 1s 5ms/step - loss: 0.4433 - accuracy: 0.8133\n",
      "Epoch 83/200\n",
      "250/250 [==============================] - 2s 9ms/step - loss: 0.4455 - accuracy: 0.8078\n",
      "Epoch 84/200\n",
      "250/250 [==============================] - 2s 8ms/step - loss: 0.4428 - accuracy: 0.8118\n",
      "Epoch 85/200\n",
      "250/250 [==============================] - 1s 5ms/step - loss: 0.4425 - accuracy: 0.8100\n",
      "Epoch 86/200\n",
      "250/250 [==============================] - 2s 7ms/step - loss: 0.4408 - accuracy: 0.8110\n",
      "Epoch 87/200\n",
      "250/250 [==============================] - 1s 5ms/step - loss: 0.4401 - accuracy: 0.8158\n",
      "Epoch 88/200\n",
      "250/250 [==============================] - 1s 4ms/step - loss: 0.4423 - accuracy: 0.8058\n",
      "Epoch 89/200\n",
      "250/250 [==============================] - 1s 4ms/step - loss: 0.4416 - accuracy: 0.8085\n",
      "Epoch 90/200\n",
      "250/250 [==============================] - 1s 5ms/step - loss: 0.4414 - accuracy: 0.8088\n",
      "Epoch 91/200\n",
      "250/250 [==============================] - 2s 7ms/step - loss: 0.4375 - accuracy: 0.8148\n",
      "Epoch 92/200\n",
      "250/250 [==============================] - 1s 5ms/step - loss: 0.4419 - accuracy: 0.8120\n",
      "Epoch 93/200\n",
      "250/250 [==============================] - 2s 7ms/step - loss: 0.4423 - accuracy: 0.8120\n",
      "Epoch 94/200\n",
      "250/250 [==============================] - 2s 8ms/step - loss: 0.4419 - accuracy: 0.8133\n",
      "Epoch 95/200\n",
      "250/250 [==============================] - 3s 12ms/step - loss: 0.4402 - accuracy: 0.8103\n",
      "Epoch 96/200\n",
      "250/250 [==============================] - 3s 11ms/step - loss: 0.4451 - accuracy: 0.8108\n",
      "Epoch 97/200\n",
      "250/250 [==============================] - 2s 8ms/step - loss: 0.4412 - accuracy: 0.8128\n",
      "Epoch 98/200\n",
      "250/250 [==============================] - 2s 7ms/step - loss: 0.4419 - accuracy: 0.8103\n",
      "Epoch 99/200\n",
      "250/250 [==============================] - 2s 6ms/step - loss: 0.4408 - accuracy: 0.8115\n",
      "Epoch 100/200\n",
      "250/250 [==============================] - 2s 10ms/step - loss: 0.4442 - accuracy: 0.8113\n",
      "Epoch 101/200\n",
      "250/250 [==============================] - 2s 6ms/step - loss: 0.4424 - accuracy: 0.8093\n",
      "Epoch 102/200\n",
      "250/250 [==============================] - 2s 8ms/step - loss: 0.4413 - accuracy: 0.8181\n",
      "Epoch 103/200\n",
      "250/250 [==============================] - 2s 9ms/step - loss: 0.4399 - accuracy: 0.8143\n",
      "Epoch 104/200\n",
      "250/250 [==============================] - 2s 6ms/step - loss: 0.4376 - accuracy: 0.8168\n",
      "Epoch 105/200\n",
      "250/250 [==============================] - 2s 6ms/step - loss: 0.4395 - accuracy: 0.8151\n",
      "Epoch 106/200\n",
      "250/250 [==============================] - 2s 6ms/step - loss: 0.4429 - accuracy: 0.8153\n",
      "Epoch 107/200\n",
      "250/250 [==============================] - 2s 6ms/step - loss: 0.4408 - accuracy: 0.8083\n",
      "Epoch 108/200\n",
      "250/250 [==============================] - 1s 5ms/step - loss: 0.4416 - accuracy: 0.8118\n",
      "Epoch 109/200\n",
      "250/250 [==============================] - 1s 5ms/step - loss: 0.4440 - accuracy: 0.8151\n",
      "Epoch 110/200\n",
      "250/250 [==============================] - 1s 5ms/step - loss: 0.4438 - accuracy: 0.8181\n",
      "Epoch 111/200\n",
      "250/250 [==============================] - 1s 4ms/step - loss: 0.4424 - accuracy: 0.8151\n",
      "Epoch 112/200\n",
      "250/250 [==============================] - 1s 4ms/step - loss: 0.4408 - accuracy: 0.8158\n",
      "Epoch 113/200\n",
      "250/250 [==============================] - 1s 3ms/step - loss: 0.4367 - accuracy: 0.8166\n",
      "Epoch 114/200\n",
      "250/250 [==============================] - 1s 3ms/step - loss: 0.4388 - accuracy: 0.8183\n",
      "Epoch 115/200\n",
      "250/250 [==============================] - 1s 4ms/step - loss: 0.4420 - accuracy: 0.8153\n",
      "Epoch 116/200\n",
      "250/250 [==============================] - 1s 3ms/step - loss: 0.4449 - accuracy: 0.8148\n",
      "Epoch 117/200\n",
      "250/250 [==============================] - 1s 3ms/step - loss: 0.4386 - accuracy: 0.8188\n",
      "Epoch 118/200\n",
      "250/250 [==============================] - 1s 3ms/step - loss: 0.4367 - accuracy: 0.8163\n",
      "Epoch 119/200\n",
      "250/250 [==============================] - 1s 3ms/step - loss: 0.4431 - accuracy: 0.8138\n",
      "Epoch 120/200\n",
      "250/250 [==============================] - 1s 3ms/step - loss: 0.4395 - accuracy: 0.8103\n",
      "Epoch 121/200\n",
      "250/250 [==============================] - 1s 3ms/step - loss: 0.4410 - accuracy: 0.8158\n",
      "Epoch 122/200\n",
      "250/250 [==============================] - 1s 3ms/step - loss: 0.4365 - accuracy: 0.8133\n",
      "Epoch 123/200\n",
      "250/250 [==============================] - 1s 5ms/step - loss: 0.4408 - accuracy: 0.8148\n",
      "Epoch 124/200\n",
      "250/250 [==============================] - 1s 4ms/step - loss: 0.4435 - accuracy: 0.8130\n",
      "Epoch 125/200\n",
      "250/250 [==============================] - 1s 5ms/step - loss: 0.4389 - accuracy: 0.8143\n",
      "Epoch 126/200\n",
      "250/250 [==============================] - 1s 4ms/step - loss: 0.4407 - accuracy: 0.8120\n",
      "Epoch 127/200\n",
      "250/250 [==============================] - 1s 3ms/step - loss: 0.4430 - accuracy: 0.8118\n",
      "Epoch 128/200\n",
      "250/250 [==============================] - 1s 3ms/step - loss: 0.4404 - accuracy: 0.8138\n",
      "Epoch 129/200\n",
      "250/250 [==============================] - 1s 3ms/step - loss: 0.4392 - accuracy: 0.8148\n",
      "Epoch 130/200\n",
      "250/250 [==============================] - 1s 3ms/step - loss: 0.4443 - accuracy: 0.8138\n",
      "Epoch 131/200\n",
      "250/250 [==============================] - 1s 3ms/step - loss: 0.4395 - accuracy: 0.8128\n",
      "Epoch 132/200\n",
      "250/250 [==============================] - 1s 3ms/step - loss: 0.4399 - accuracy: 0.8120\n",
      "Epoch 133/200\n",
      "250/250 [==============================] - 1s 3ms/step - loss: 0.4412 - accuracy: 0.8138\n",
      "Epoch 134/200\n",
      "250/250 [==============================] - 1s 3ms/step - loss: 0.4365 - accuracy: 0.8128\n",
      "Epoch 135/200\n",
      "250/250 [==============================] - 1s 3ms/step - loss: 0.4409 - accuracy: 0.8161\n",
      "Epoch 136/200\n",
      "250/250 [==============================] - 1s 3ms/step - loss: 0.4437 - accuracy: 0.8125\n",
      "Epoch 137/200\n",
      "250/250 [==============================] - 1s 3ms/step - loss: 0.4373 - accuracy: 0.8203\n",
      "Epoch 138/200\n",
      "250/250 [==============================] - 1s 4ms/step - loss: 0.4363 - accuracy: 0.8178\n",
      "Epoch 139/200\n",
      "250/250 [==============================] - 1s 5ms/step - loss: 0.4400 - accuracy: 0.8125\n",
      "Epoch 140/200\n",
      "250/250 [==============================] - 1s 5ms/step - loss: 0.4443 - accuracy: 0.8103\n",
      "Epoch 141/200\n",
      "250/250 [==============================] - 1s 6ms/step - loss: 0.4390 - accuracy: 0.8136\n",
      "Epoch 142/200\n",
      "250/250 [==============================] - 1s 4ms/step - loss: 0.4384 - accuracy: 0.8156\n",
      "Epoch 143/200\n",
      "250/250 [==============================] - 1s 5ms/step - loss: 0.4429 - accuracy: 0.8161\n",
      "Epoch 144/200\n",
      "250/250 [==============================] - 1s 5ms/step - loss: 0.4434 - accuracy: 0.8075\n",
      "Epoch 145/200\n",
      "250/250 [==============================] - 1s 5ms/step - loss: 0.4386 - accuracy: 0.8130\n",
      "Epoch 146/200\n",
      "250/250 [==============================] - 1s 5ms/step - loss: 0.4393 - accuracy: 0.8186\n",
      "Epoch 147/200\n",
      "250/250 [==============================] - 1s 3ms/step - loss: 0.4402 - accuracy: 0.8120\n",
      "Epoch 148/200\n",
      "250/250 [==============================] - 1s 3ms/step - loss: 0.4418 - accuracy: 0.8136\n",
      "Epoch 149/200\n",
      "250/250 [==============================] - 1s 3ms/step - loss: 0.4380 - accuracy: 0.8158\n",
      "Epoch 150/200\n",
      "250/250 [==============================] - 1s 4ms/step - loss: 0.4370 - accuracy: 0.8136\n",
      "Epoch 151/200\n",
      "250/250 [==============================] - 1s 3ms/step - loss: 0.4408 - accuracy: 0.8136\n",
      "Epoch 152/200\n",
      "250/250 [==============================] - 1s 4ms/step - loss: 0.4425 - accuracy: 0.8085\n",
      "Epoch 153/200\n",
      "250/250 [==============================] - 1s 5ms/step - loss: 0.4409 - accuracy: 0.8115\n",
      "Epoch 154/200\n",
      "250/250 [==============================] - 1s 5ms/step - loss: 0.4389 - accuracy: 0.8153\n",
      "Epoch 155/200\n",
      "250/250 [==============================] - 1s 5ms/step - loss: 0.4410 - accuracy: 0.8133\n",
      "Epoch 156/200\n",
      "250/250 [==============================] - 1s 3ms/step - loss: 0.4396 - accuracy: 0.8143\n",
      "Epoch 157/200\n",
      "250/250 [==============================] - 1s 3ms/step - loss: 0.4386 - accuracy: 0.8128\n",
      "Epoch 158/200\n",
      "250/250 [==============================] - 1s 3ms/step - loss: 0.4416 - accuracy: 0.8158\n",
      "Epoch 159/200\n",
      "250/250 [==============================] - 2s 7ms/step - loss: 0.4370 - accuracy: 0.8108\n",
      "Epoch 160/200\n",
      "250/250 [==============================] - 1s 3ms/step - loss: 0.4412 - accuracy: 0.8181\n",
      "Epoch 161/200\n",
      "250/250 [==============================] - 1s 4ms/step - loss: 0.4389 - accuracy: 0.8130\n",
      "Epoch 162/200\n",
      "250/250 [==============================] - 2s 6ms/step - loss: 0.4396 - accuracy: 0.8123\n",
      "Epoch 163/200\n",
      "250/250 [==============================] - 1s 4ms/step - loss: 0.4374 - accuracy: 0.8100\n",
      "Epoch 164/200\n",
      "250/250 [==============================] - 1s 4ms/step - loss: 0.4405 - accuracy: 0.8141\n",
      "Epoch 165/200\n",
      "250/250 [==============================] - 1s 5ms/step - loss: 0.4352 - accuracy: 0.8143\n",
      "Epoch 166/200\n",
      "250/250 [==============================] - 1s 5ms/step - loss: 0.4364 - accuracy: 0.8166\n",
      "Epoch 167/200\n",
      "250/250 [==============================] - 1s 5ms/step - loss: 0.4408 - accuracy: 0.8148\n",
      "Epoch 168/200\n",
      "250/250 [==============================] - 1s 4ms/step - loss: 0.4407 - accuracy: 0.8108\n",
      "Epoch 169/200\n",
      "250/250 [==============================] - 1s 3ms/step - loss: 0.4409 - accuracy: 0.8166\n",
      "Epoch 170/200\n",
      "250/250 [==============================] - 1s 3ms/step - loss: 0.4375 - accuracy: 0.8161\n",
      "Epoch 171/200\n",
      "250/250 [==============================] - 1s 3ms/step - loss: 0.4383 - accuracy: 0.8171\n",
      "Epoch 172/200\n",
      "250/250 [==============================] - 1s 4ms/step - loss: 0.4360 - accuracy: 0.8168\n",
      "Epoch 173/200\n",
      "250/250 [==============================] - 1s 3ms/step - loss: 0.4369 - accuracy: 0.8136\n",
      "Epoch 174/200\n",
      "250/250 [==============================] - 1s 3ms/step - loss: 0.4380 - accuracy: 0.8130\n",
      "Epoch 175/200\n",
      "250/250 [==============================] - 1s 3ms/step - loss: 0.4377 - accuracy: 0.8156\n",
      "Epoch 176/200\n",
      "250/250 [==============================] - 1s 3ms/step - loss: 0.4348 - accuracy: 0.8156\n",
      "Epoch 177/200\n",
      "250/250 [==============================] - 1s 4ms/step - loss: 0.4369 - accuracy: 0.8176\n",
      "Epoch 178/200\n",
      "250/250 [==============================] - 1s 3ms/step - loss: 0.4396 - accuracy: 0.8108\n",
      "Epoch 179/200\n",
      "250/250 [==============================] - 1s 3ms/step - loss: 0.4377 - accuracy: 0.8161\n",
      "Epoch 180/200\n",
      "250/250 [==============================] - 1s 4ms/step - loss: 0.4408 - accuracy: 0.8095\n",
      "Epoch 181/200\n",
      "250/250 [==============================] - 1s 5ms/step - loss: 0.4381 - accuracy: 0.8163\n",
      "Epoch 182/200\n",
      "250/250 [==============================] - 1s 4ms/step - loss: 0.4403 - accuracy: 0.8108\n",
      "Epoch 183/200\n",
      "250/250 [==============================] - 1s 5ms/step - loss: 0.4356 - accuracy: 0.8103\n",
      "Epoch 184/200\n",
      "250/250 [==============================] - 1s 3ms/step - loss: 0.4382 - accuracy: 0.8146\n",
      "Epoch 185/200\n",
      "250/250 [==============================] - 1s 3ms/step - loss: 0.4362 - accuracy: 0.8176\n",
      "Epoch 186/200\n",
      "250/250 [==============================] - 1s 3ms/step - loss: 0.4361 - accuracy: 0.8151\n",
      "Epoch 187/200\n",
      "250/250 [==============================] - 1s 3ms/step - loss: 0.4398 - accuracy: 0.8168\n",
      "Epoch 188/200\n",
      "250/250 [==============================] - 1s 3ms/step - loss: 0.4384 - accuracy: 0.8166\n",
      "Epoch 189/200\n",
      "250/250 [==============================] - 1s 3ms/step - loss: 0.4343 - accuracy: 0.8178\n",
      "Epoch 190/200\n",
      "250/250 [==============================] - 1s 3ms/step - loss: 0.4370 - accuracy: 0.8125\n",
      "Epoch 191/200\n",
      "250/250 [==============================] - 1s 3ms/step - loss: 0.4349 - accuracy: 0.8151\n",
      "Epoch 192/200\n",
      "250/250 [==============================] - 1s 3ms/step - loss: 0.4389 - accuracy: 0.8158\n",
      "Epoch 193/200\n",
      "250/250 [==============================] - 1s 3ms/step - loss: 0.4409 - accuracy: 0.8100\n",
      "Epoch 194/200\n",
      "250/250 [==============================] - 1s 3ms/step - loss: 0.4337 - accuracy: 0.8186\n",
      "Epoch 195/200\n",
      "250/250 [==============================] - 1s 3ms/step - loss: 0.4378 - accuracy: 0.8181\n",
      "Epoch 196/200\n",
      "250/250 [==============================] - 1s 5ms/step - loss: 0.4429 - accuracy: 0.8090\n",
      "Epoch 197/200\n",
      "250/250 [==============================] - 1s 5ms/step - loss: 0.4363 - accuracy: 0.8161\n",
      "Epoch 198/200\n",
      "250/250 [==============================] - 1s 5ms/step - loss: 0.4380 - accuracy: 0.8173\n",
      "Epoch 199/200\n",
      "250/250 [==============================] - 1s 4ms/step - loss: 0.4316 - accuracy: 0.8191\n",
      "Epoch 200/200\n",
      "250/250 [==============================] - 1s 3ms/step - loss: 0.4388 - accuracy: 0.8115\n"
     ]
    },
    {
     "data": {
      "text/plain": [
       "<keras.src.callbacks.History at 0x7b7db0d8c6a0>"
      ]
     },
     "execution_count": 64,
     "metadata": {},
     "output_type": "execute_result"
    }
   ],
   "source": [
    "# Fitting the neural network based on tuned hyperparameters on the entire training set.\n",
    "final_model = create_model(learning_rate=0.001, activation='tanh')\n",
    "\n",
    "final_model.fit(combined_df_x_training, df_training_y_vectorized, batch_size=16, epochs=200)"
   ]
  },
  {
   "cell_type": "code",
   "execution_count": 66,
   "metadata": {
    "colab": {
     "base_uri": "https://localhost:8080/"
    },
    "id": "nzrxCCtbuq0f",
    "outputId": "c7189920-0ca5-40ff-89dd-2eae64289dba"
   },
   "outputs": [
    {
     "name": "stdout",
     "output_type": "stream",
     "text": [
      "False\n"
     ]
    }
   ],
   "source": [
    "# Checking if no. of columns in training and test set match\n",
    "print(combined_df_test.shape[1] == combined_df_x_training.shape[1])"
   ]
  },
  {
   "cell_type": "code",
   "execution_count": 67,
   "metadata": {
    "id": "lLxBbb6JuqdL"
   },
   "outputs": [],
   "source": [
    "# Function to add columns in test set (with all values set to 0 if they are present in training set but not in test set)\n",
    "def checking_columns(df1, df2):\n",
    "  for column in df1.columns:\n",
    "      # Check if the column is missing in df2\n",
    "      if column not in df2.columns:\n",
    "          # Find the position of the column in df1\n",
    "          position = df1.columns.get_loc(column)\n",
    "          # Add the missing column to df2 with values set to 0 in the same position\n",
    "          df2.insert(position, column, 0)"
   ]
  },
  {
   "cell_type": "code",
   "execution_count": 68,
   "metadata": {
    "id": "mjzk75tavLVY"
   },
   "outputs": [],
   "source": [
    "# Using the function defined above to make the # of columns consistent in training and test set.\n",
    "checking_columns(combined_df_x_training, combined_df_test)"
   ]
  },
  {
   "cell_type": "code",
   "execution_count": 69,
   "metadata": {
    "colab": {
     "base_uri": "https://localhost:8080/"
    },
    "id": "HtV-TusUvVdV",
    "outputId": "996f54fb-c137-4f97-9fb3-13c8a3b7d1dc"
   },
   "outputs": [
    {
     "name": "stdout",
     "output_type": "stream",
     "text": [
      "True\n"
     ]
    }
   ],
   "source": [
    "# Checking if no. of columns in training and test set match now\n",
    "print(combined_df_test.shape[1] == combined_df_x_training.shape[1])"
   ]
  },
  {
   "cell_type": "code",
   "execution_count": 70,
   "metadata": {
    "colab": {
     "base_uri": "https://localhost:8080/"
    },
    "id": "DXy2-Vm8_guc",
    "outputId": "3a0b53fe-e43f-4ebc-f5e2-6df7941c0f92"
   },
   "outputs": [
    {
     "name": "stdout",
     "output_type": "stream",
     "text": [
      "32/32 [==============================] - 0s 2ms/step\n"
     ]
    }
   ],
   "source": [
    "### YOUR CODE HERE ###\n",
    "y_pred_probs = final_model.predict(combined_df_test) # Softmax output on test set\n",
    "y_pred = np.argmax(y_pred_probs, axis=1) # Converting to final binary predictions"
   ]
  },
  {
   "cell_type": "markdown",
   "metadata": {
    "id": "gjp93bALy67U"
   },
   "source": [
    "\n",
    "\n",
    "---\n",
    "\n"
   ]
  }
 ],
 "metadata": {
  "colab": {
   "provenance": []
  },
  "kernelspec": {
   "display_name": "Python 3 (ipykernel)",
   "language": "python",
   "name": "python3"
  },
  "language_info": {
   "codemirror_mode": {
    "name": "ipython",
    "version": 3
   },
   "file_extension": ".py",
   "mimetype": "text/x-python",
   "name": "python",
   "nbconvert_exporter": "python",
   "pygments_lexer": "ipython3",
   "version": "3.11.5"
  }
 },
 "nbformat": 4,
 "nbformat_minor": 4
}
